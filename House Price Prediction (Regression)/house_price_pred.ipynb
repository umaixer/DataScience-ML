{
 "cells": [
  {
   "cell_type": "markdown",
   "metadata": {},
   "source": [
    "# Dataset\n",
    "\n",
    "The dataset contains the sales price of hundreds of houses in Ames, Iows and 79 distinct features to describe each house. \n",
    "\n",
    "# Objective\n",
    "\n",
    "Our objective is to predict the sale price of residential homes using the features given in the dataset. I will perform data cleaning, preporcessing and regression algorithms to achieve the lowest root mean square error (RMSE) for each prediction. "
   ]
  },
  {
   "cell_type": "code",
   "execution_count": 803,
   "metadata": {},
   "outputs": [],
   "source": [
    "import numpy as np\n",
    "import pandas as pd\n",
    "import math\n",
    "from sklearn.model_selection import train_test_split, cross_val_score\n",
    "from sklearn.linear_model import LinearRegression\n",
    "from sklearn import metrics\n",
    "from sklearn.preprocessing import RobustScaler\n",
    "from sklearn.linear_model import Ridge, RidgeCV, ElasticNet, LassoCV, LassoLarsCV\n",
    "from sklearn.ensemble import RandomForestRegressor, GradientBoostingRegressor\n",
    "import xgboost as xgb\n",
    "import matplotlib.pyplot as plt"
   ]
  },
  {
   "cell_type": "markdown",
   "metadata": {},
   "source": [
    "##### Let's read and open the dataset"
   ]
  },
  {
   "cell_type": "code",
   "execution_count": 403,
   "metadata": {},
   "outputs": [],
   "source": [
    "df=pd.read_csv('data/train.csv')"
   ]
  },
  {
   "cell_type": "markdown",
   "metadata": {},
   "source": [
    "Here's a glimpse of the dataset"
   ]
  },
  {
   "cell_type": "code",
   "execution_count": 404,
   "metadata": {},
   "outputs": [
    {
     "data": {
      "text/html": [
       "<div>\n",
       "<style scoped>\n",
       "    .dataframe tbody tr th:only-of-type {\n",
       "        vertical-align: middle;\n",
       "    }\n",
       "\n",
       "    .dataframe tbody tr th {\n",
       "        vertical-align: top;\n",
       "    }\n",
       "\n",
       "    .dataframe thead th {\n",
       "        text-align: right;\n",
       "    }\n",
       "</style>\n",
       "<table border=\"1\" class=\"dataframe\">\n",
       "  <thead>\n",
       "    <tr style=\"text-align: right;\">\n",
       "      <th></th>\n",
       "      <th>Id</th>\n",
       "      <th>MSSubClass</th>\n",
       "      <th>MSZoning</th>\n",
       "      <th>LotFrontage</th>\n",
       "      <th>LotArea</th>\n",
       "      <th>Street</th>\n",
       "      <th>Alley</th>\n",
       "      <th>LotShape</th>\n",
       "      <th>LandContour</th>\n",
       "      <th>Utilities</th>\n",
       "      <th>...</th>\n",
       "      <th>PoolArea</th>\n",
       "      <th>PoolQC</th>\n",
       "      <th>Fence</th>\n",
       "      <th>MiscFeature</th>\n",
       "      <th>MiscVal</th>\n",
       "      <th>MoSold</th>\n",
       "      <th>YrSold</th>\n",
       "      <th>SaleType</th>\n",
       "      <th>SaleCondition</th>\n",
       "      <th>SalePrice</th>\n",
       "    </tr>\n",
       "  </thead>\n",
       "  <tbody>\n",
       "    <tr>\n",
       "      <th>0</th>\n",
       "      <td>1</td>\n",
       "      <td>60</td>\n",
       "      <td>RL</td>\n",
       "      <td>65.0</td>\n",
       "      <td>8450</td>\n",
       "      <td>Pave</td>\n",
       "      <td>NaN</td>\n",
       "      <td>Reg</td>\n",
       "      <td>Lvl</td>\n",
       "      <td>AllPub</td>\n",
       "      <td>...</td>\n",
       "      <td>0</td>\n",
       "      <td>NaN</td>\n",
       "      <td>NaN</td>\n",
       "      <td>NaN</td>\n",
       "      <td>0</td>\n",
       "      <td>2</td>\n",
       "      <td>2008</td>\n",
       "      <td>WD</td>\n",
       "      <td>Normal</td>\n",
       "      <td>208500</td>\n",
       "    </tr>\n",
       "    <tr>\n",
       "      <th>1</th>\n",
       "      <td>2</td>\n",
       "      <td>20</td>\n",
       "      <td>RL</td>\n",
       "      <td>80.0</td>\n",
       "      <td>9600</td>\n",
       "      <td>Pave</td>\n",
       "      <td>NaN</td>\n",
       "      <td>Reg</td>\n",
       "      <td>Lvl</td>\n",
       "      <td>AllPub</td>\n",
       "      <td>...</td>\n",
       "      <td>0</td>\n",
       "      <td>NaN</td>\n",
       "      <td>NaN</td>\n",
       "      <td>NaN</td>\n",
       "      <td>0</td>\n",
       "      <td>5</td>\n",
       "      <td>2007</td>\n",
       "      <td>WD</td>\n",
       "      <td>Normal</td>\n",
       "      <td>181500</td>\n",
       "    </tr>\n",
       "    <tr>\n",
       "      <th>2</th>\n",
       "      <td>3</td>\n",
       "      <td>60</td>\n",
       "      <td>RL</td>\n",
       "      <td>68.0</td>\n",
       "      <td>11250</td>\n",
       "      <td>Pave</td>\n",
       "      <td>NaN</td>\n",
       "      <td>IR1</td>\n",
       "      <td>Lvl</td>\n",
       "      <td>AllPub</td>\n",
       "      <td>...</td>\n",
       "      <td>0</td>\n",
       "      <td>NaN</td>\n",
       "      <td>NaN</td>\n",
       "      <td>NaN</td>\n",
       "      <td>0</td>\n",
       "      <td>9</td>\n",
       "      <td>2008</td>\n",
       "      <td>WD</td>\n",
       "      <td>Normal</td>\n",
       "      <td>223500</td>\n",
       "    </tr>\n",
       "    <tr>\n",
       "      <th>3</th>\n",
       "      <td>4</td>\n",
       "      <td>70</td>\n",
       "      <td>RL</td>\n",
       "      <td>60.0</td>\n",
       "      <td>9550</td>\n",
       "      <td>Pave</td>\n",
       "      <td>NaN</td>\n",
       "      <td>IR1</td>\n",
       "      <td>Lvl</td>\n",
       "      <td>AllPub</td>\n",
       "      <td>...</td>\n",
       "      <td>0</td>\n",
       "      <td>NaN</td>\n",
       "      <td>NaN</td>\n",
       "      <td>NaN</td>\n",
       "      <td>0</td>\n",
       "      <td>2</td>\n",
       "      <td>2006</td>\n",
       "      <td>WD</td>\n",
       "      <td>Abnorml</td>\n",
       "      <td>140000</td>\n",
       "    </tr>\n",
       "    <tr>\n",
       "      <th>4</th>\n",
       "      <td>5</td>\n",
       "      <td>60</td>\n",
       "      <td>RL</td>\n",
       "      <td>84.0</td>\n",
       "      <td>14260</td>\n",
       "      <td>Pave</td>\n",
       "      <td>NaN</td>\n",
       "      <td>IR1</td>\n",
       "      <td>Lvl</td>\n",
       "      <td>AllPub</td>\n",
       "      <td>...</td>\n",
       "      <td>0</td>\n",
       "      <td>NaN</td>\n",
       "      <td>NaN</td>\n",
       "      <td>NaN</td>\n",
       "      <td>0</td>\n",
       "      <td>12</td>\n",
       "      <td>2008</td>\n",
       "      <td>WD</td>\n",
       "      <td>Normal</td>\n",
       "      <td>250000</td>\n",
       "    </tr>\n",
       "  </tbody>\n",
       "</table>\n",
       "<p>5 rows × 81 columns</p>\n",
       "</div>"
      ],
      "text/plain": [
       "   Id  MSSubClass MSZoning  LotFrontage  LotArea Street Alley LotShape  \\\n",
       "0   1          60       RL         65.0     8450   Pave   NaN      Reg   \n",
       "1   2          20       RL         80.0     9600   Pave   NaN      Reg   \n",
       "2   3          60       RL         68.0    11250   Pave   NaN      IR1   \n",
       "3   4          70       RL         60.0     9550   Pave   NaN      IR1   \n",
       "4   5          60       RL         84.0    14260   Pave   NaN      IR1   \n",
       "\n",
       "  LandContour Utilities  ... PoolArea PoolQC Fence MiscFeature MiscVal MoSold  \\\n",
       "0         Lvl    AllPub  ...        0    NaN   NaN         NaN       0      2   \n",
       "1         Lvl    AllPub  ...        0    NaN   NaN         NaN       0      5   \n",
       "2         Lvl    AllPub  ...        0    NaN   NaN         NaN       0      9   \n",
       "3         Lvl    AllPub  ...        0    NaN   NaN         NaN       0      2   \n",
       "4         Lvl    AllPub  ...        0    NaN   NaN         NaN       0     12   \n",
       "\n",
       "  YrSold  SaleType  SaleCondition  SalePrice  \n",
       "0   2008        WD         Normal     208500  \n",
       "1   2007        WD         Normal     181500  \n",
       "2   2008        WD         Normal     223500  \n",
       "3   2006        WD        Abnorml     140000  \n",
       "4   2008        WD         Normal     250000  \n",
       "\n",
       "[5 rows x 81 columns]"
      ]
     },
     "execution_count": 404,
     "metadata": {},
     "output_type": "execute_result"
    }
   ],
   "source": [
    "df.head()"
   ]
  },
  {
   "cell_type": "markdown",
   "metadata": {},
   "source": [
    "## Exploring Dataset"
   ]
  },
  {
   "cell_type": "code",
   "execution_count": 405,
   "metadata": {},
   "outputs": [
    {
     "name": "stdout",
     "output_type": "stream",
     "text": [
      "<class 'pandas.core.frame.DataFrame'>\n",
      "RangeIndex: 1460 entries, 0 to 1459\n",
      "Data columns (total 81 columns):\n",
      " #   Column         Non-Null Count  Dtype  \n",
      "---  ------         --------------  -----  \n",
      " 0   Id             1460 non-null   int64  \n",
      " 1   MSSubClass     1460 non-null   int64  \n",
      " 2   MSZoning       1460 non-null   object \n",
      " 3   LotFrontage    1201 non-null   float64\n",
      " 4   LotArea        1460 non-null   int64  \n",
      " 5   Street         1460 non-null   object \n",
      " 6   Alley          91 non-null     object \n",
      " 7   LotShape       1460 non-null   object \n",
      " 8   LandContour    1460 non-null   object \n",
      " 9   Utilities      1460 non-null   object \n",
      " 10  LotConfig      1460 non-null   object \n",
      " 11  LandSlope      1460 non-null   object \n",
      " 12  Neighborhood   1460 non-null   object \n",
      " 13  Condition1     1460 non-null   object \n",
      " 14  Condition2     1460 non-null   object \n",
      " 15  BldgType       1460 non-null   object \n",
      " 16  HouseStyle     1460 non-null   object \n",
      " 17  OverallQual    1460 non-null   int64  \n",
      " 18  OverallCond    1460 non-null   int64  \n",
      " 19  YearBuilt      1460 non-null   int64  \n",
      " 20  YearRemodAdd   1460 non-null   int64  \n",
      " 21  RoofStyle      1460 non-null   object \n",
      " 22  RoofMatl       1460 non-null   object \n",
      " 23  Exterior1st    1460 non-null   object \n",
      " 24  Exterior2nd    1460 non-null   object \n",
      " 25  MasVnrType     1452 non-null   object \n",
      " 26  MasVnrArea     1452 non-null   float64\n",
      " 27  ExterQual      1460 non-null   object \n",
      " 28  ExterCond      1460 non-null   object \n",
      " 29  Foundation     1460 non-null   object \n",
      " 30  BsmtQual       1423 non-null   object \n",
      " 31  BsmtCond       1423 non-null   object \n",
      " 32  BsmtExposure   1422 non-null   object \n",
      " 33  BsmtFinType1   1423 non-null   object \n",
      " 34  BsmtFinSF1     1460 non-null   int64  \n",
      " 35  BsmtFinType2   1422 non-null   object \n",
      " 36  BsmtFinSF2     1460 non-null   int64  \n",
      " 37  BsmtUnfSF      1460 non-null   int64  \n",
      " 38  TotalBsmtSF    1460 non-null   int64  \n",
      " 39  Heating        1460 non-null   object \n",
      " 40  HeatingQC      1460 non-null   object \n",
      " 41  CentralAir     1460 non-null   object \n",
      " 42  Electrical     1459 non-null   object \n",
      " 43  1stFlrSF       1460 non-null   int64  \n",
      " 44  2ndFlrSF       1460 non-null   int64  \n",
      " 45  LowQualFinSF   1460 non-null   int64  \n",
      " 46  GrLivArea      1460 non-null   int64  \n",
      " 47  BsmtFullBath   1460 non-null   int64  \n",
      " 48  BsmtHalfBath   1460 non-null   int64  \n",
      " 49  FullBath       1460 non-null   int64  \n",
      " 50  HalfBath       1460 non-null   int64  \n",
      " 51  BedroomAbvGr   1460 non-null   int64  \n",
      " 52  KitchenAbvGr   1460 non-null   int64  \n",
      " 53  KitchenQual    1460 non-null   object \n",
      " 54  TotRmsAbvGrd   1460 non-null   int64  \n",
      " 55  Functional     1460 non-null   object \n",
      " 56  Fireplaces     1460 non-null   int64  \n",
      " 57  FireplaceQu    770 non-null    object \n",
      " 58  GarageType     1379 non-null   object \n",
      " 59  GarageYrBlt    1379 non-null   float64\n",
      " 60  GarageFinish   1379 non-null   object \n",
      " 61  GarageCars     1460 non-null   int64  \n",
      " 62  GarageArea     1460 non-null   int64  \n",
      " 63  GarageQual     1379 non-null   object \n",
      " 64  GarageCond     1379 non-null   object \n",
      " 65  PavedDrive     1460 non-null   object \n",
      " 66  WoodDeckSF     1460 non-null   int64  \n",
      " 67  OpenPorchSF    1460 non-null   int64  \n",
      " 68  EnclosedPorch  1460 non-null   int64  \n",
      " 69  3SsnPorch      1460 non-null   int64  \n",
      " 70  ScreenPorch    1460 non-null   int64  \n",
      " 71  PoolArea       1460 non-null   int64  \n",
      " 72  PoolQC         7 non-null      object \n",
      " 73  Fence          281 non-null    object \n",
      " 74  MiscFeature    54 non-null     object \n",
      " 75  MiscVal        1460 non-null   int64  \n",
      " 76  MoSold         1460 non-null   int64  \n",
      " 77  YrSold         1460 non-null   int64  \n",
      " 78  SaleType       1460 non-null   object \n",
      " 79  SaleCondition  1460 non-null   object \n",
      " 80  SalePrice      1460 non-null   int64  \n",
      "dtypes: float64(3), int64(35), object(43)\n",
      "memory usage: 924.0+ KB\n"
     ]
    }
   ],
   "source": [
    "df.info()"
   ]
  },
  {
   "cell_type": "markdown",
   "metadata": {},
   "source": [
    "Let's have a look at correlation between the target variable \"Sales Price\" and all the numerical features. We will draw a heat map where the darker color means higher correlation with the target variable. "
   ]
  },
  {
   "cell_type": "code",
   "execution_count": 407,
   "metadata": {},
   "outputs": [
    {
     "data": {
      "image/png": "[encoded data removed]",
      "text/plain": [
       "<Figure size 1224x72 with 2 Axes>"
      ]
     },
     "metadata": {
      "needs_background": "light"
     },
     "output_type": "display_data"
    }
   ],
   "source": [
    "df_num = df.select_dtypes(exclude = 'object')\n",
    "df_num_corr = df_num.corr()\n",
    "f,ax=plt.subplots(figsize=(17,1))\n",
    "sns.heatmap(df_num_corr.sort_values(by=['SalePrice'], ascending=False).head(1),\n",
    "            cmap='Blues');\n",
    "plt.title('Correlation of numerical features with the sale price', weight = 'bold', fontsize = 16)\n",
    "plt.yticks(weight='bold', color='dodgerblue', rotation=0)\n",
    "plt.show()"
   ]
  },
  {
   "cell_type": "markdown",
   "metadata": {},
   "source": [
    "We can show the correlation in a form of a table as below"
   ]
  },
  {
   "cell_type": "code",
   "execution_count": 408,
   "metadata": {},
   "outputs": [
    {
     "data": {
      "text/html": [
       "<style  type=\"text/css\" >\n",
       "    #T_785b6a52_da88_11ea_bbc7_74e5f9543d13row0_col0 {\n",
       "            background-color:  #023858;\n",
       "            color:  #f1f1f1;\n",
       "        }    #T_785b6a52_da88_11ea_bbc7_74e5f9543d13row1_col0 {\n",
       "            background-color:  #157ab5;\n",
       "            color:  #000000;\n",
       "        }    #T_785b6a52_da88_11ea_bbc7_74e5f9543d13row2_col0 {\n",
       "            background-color:  #4697c4;\n",
       "            color:  #000000;\n",
       "        }    #T_785b6a52_da88_11ea_bbc7_74e5f9543d13row3_col0 {\n",
       "            background-color:  #75a9cf;\n",
       "            color:  #000000;\n",
       "        }    #T_785b6a52_da88_11ea_bbc7_74e5f9543d13row4_col0 {\n",
       "            background-color:  #7eadd1;\n",
       "            color:  #000000;\n",
       "        }    #T_785b6a52_da88_11ea_bbc7_74e5f9543d13row5_col0 {\n",
       "            background-color:  #84b0d3;\n",
       "            color:  #000000;\n",
       "        }    #T_785b6a52_da88_11ea_bbc7_74e5f9543d13row6_col0 {\n",
       "            background-color:  #88b1d4;\n",
       "            color:  #000000;\n",
       "        }    #T_785b6a52_da88_11ea_bbc7_74e5f9543d13row7_col0 {\n",
       "            background-color:  #a2bcda;\n",
       "            color:  #000000;\n",
       "        }    #T_785b6a52_da88_11ea_bbc7_74e5f9543d13row8_col0 {\n",
       "            background-color:  #afc1dd;\n",
       "            color:  #000000;\n",
       "        }    #T_785b6a52_da88_11ea_bbc7_74e5f9543d13row9_col0 {\n",
       "            background-color:  #b4c4df;\n",
       "            color:  #000000;\n",
       "        }    #T_785b6a52_da88_11ea_bbc7_74e5f9543d13row10_col0 {\n",
       "            background-color:  #bcc7e1;\n",
       "            color:  #000000;\n",
       "        }    #T_785b6a52_da88_11ea_bbc7_74e5f9543d13row11_col0 {\n",
       "            background-color:  #c5cce3;\n",
       "            color:  #000000;\n",
       "        }    #T_785b6a52_da88_11ea_bbc7_74e5f9543d13row12_col0 {\n",
       "            background-color:  #c9cee4;\n",
       "            color:  #000000;\n",
       "        }    #T_785b6a52_da88_11ea_bbc7_74e5f9543d13row13_col0 {\n",
       "            background-color:  #ced0e6;\n",
       "            color:  #000000;\n",
       "        }    #T_785b6a52_da88_11ea_bbc7_74e5f9543d13row14_col0 {\n",
       "            background-color:  #e8e4f0;\n",
       "            color:  #000000;\n",
       "        }    #T_785b6a52_da88_11ea_bbc7_74e5f9543d13row15_col0 {\n",
       "            background-color:  #f1ebf4;\n",
       "            color:  #000000;\n",
       "        }    #T_785b6a52_da88_11ea_bbc7_74e5f9543d13row16_col0 {\n",
       "            background-color:  #f7f0f7;\n",
       "            color:  #000000;\n",
       "        }    #T_785b6a52_da88_11ea_bbc7_74e5f9543d13row17_col0 {\n",
       "            background-color:  #f8f1f8;\n",
       "            color:  #000000;\n",
       "        }    #T_785b6a52_da88_11ea_bbc7_74e5f9543d13row18_col0 {\n",
       "            background-color:  #f8f1f8;\n",
       "            color:  #000000;\n",
       "        }    #T_785b6a52_da88_11ea_bbc7_74e5f9543d13row19_col0 {\n",
       "            background-color:  #fff7fb;\n",
       "            color:  #000000;\n",
       "        }</style><table id=\"T_785b6a52_da88_11ea_bbc7_74e5f9543d13\" ><thead>    <tr>        <th class=\"blank level0\" ></th>        <th class=\"col_heading level0 col0\" >SalePrice</th>    </tr></thead><tbody>\n",
       "                <tr>\n",
       "                        <th id=\"T_785b6a52_da88_11ea_bbc7_74e5f9543d13level0_row0\" class=\"row_heading level0 row0\" >SalePrice</th>\n",
       "                        <td id=\"T_785b6a52_da88_11ea_bbc7_74e5f9543d13row0_col0\" class=\"data row0 col0\" >1.000000</td>\n",
       "            </tr>\n",
       "            <tr>\n",
       "                        <th id=\"T_785b6a52_da88_11ea_bbc7_74e5f9543d13level0_row1\" class=\"row_heading level0 row1\" >OverallQual</th>\n",
       "                        <td id=\"T_785b6a52_da88_11ea_bbc7_74e5f9543d13row1_col0\" class=\"data row1 col0\" >0.790982</td>\n",
       "            </tr>\n",
       "            <tr>\n",
       "                        <th id=\"T_785b6a52_da88_11ea_bbc7_74e5f9543d13level0_row2\" class=\"row_heading level0 row2\" >GrLivArea</th>\n",
       "                        <td id=\"T_785b6a52_da88_11ea_bbc7_74e5f9543d13row2_col0\" class=\"data row2 col0\" >0.708624</td>\n",
       "            </tr>\n",
       "            <tr>\n",
       "                        <th id=\"T_785b6a52_da88_11ea_bbc7_74e5f9543d13level0_row3\" class=\"row_heading level0 row3\" >GarageCars</th>\n",
       "                        <td id=\"T_785b6a52_da88_11ea_bbc7_74e5f9543d13row3_col0\" class=\"data row3 col0\" >0.640409</td>\n",
       "            </tr>\n",
       "            <tr>\n",
       "                        <th id=\"T_785b6a52_da88_11ea_bbc7_74e5f9543d13level0_row4\" class=\"row_heading level0 row4\" >GarageArea</th>\n",
       "                        <td id=\"T_785b6a52_da88_11ea_bbc7_74e5f9543d13row4_col0\" class=\"data row4 col0\" >0.623431</td>\n",
       "            </tr>\n",
       "            <tr>\n",
       "                        <th id=\"T_785b6a52_da88_11ea_bbc7_74e5f9543d13level0_row5\" class=\"row_heading level0 row5\" >TotalBsmtSF</th>\n",
       "                        <td id=\"T_785b6a52_da88_11ea_bbc7_74e5f9543d13row5_col0\" class=\"data row5 col0\" >0.613581</td>\n",
       "            </tr>\n",
       "            <tr>\n",
       "                        <th id=\"T_785b6a52_da88_11ea_bbc7_74e5f9543d13level0_row6\" class=\"row_heading level0 row6\" >1stFlrSF</th>\n",
       "                        <td id=\"T_785b6a52_da88_11ea_bbc7_74e5f9543d13row6_col0\" class=\"data row6 col0\" >0.605852</td>\n",
       "            </tr>\n",
       "            <tr>\n",
       "                        <th id=\"T_785b6a52_da88_11ea_bbc7_74e5f9543d13level0_row7\" class=\"row_heading level0 row7\" >FullBath</th>\n",
       "                        <td id=\"T_785b6a52_da88_11ea_bbc7_74e5f9543d13row7_col0\" class=\"data row7 col0\" >0.560664</td>\n",
       "            </tr>\n",
       "            <tr>\n",
       "                        <th id=\"T_785b6a52_da88_11ea_bbc7_74e5f9543d13level0_row8\" class=\"row_heading level0 row8\" >TotRmsAbvGrd</th>\n",
       "                        <td id=\"T_785b6a52_da88_11ea_bbc7_74e5f9543d13row8_col0\" class=\"data row8 col0\" >0.533723</td>\n",
       "            </tr>\n",
       "            <tr>\n",
       "                        <th id=\"T_785b6a52_da88_11ea_bbc7_74e5f9543d13level0_row9\" class=\"row_heading level0 row9\" >YearBuilt</th>\n",
       "                        <td id=\"T_785b6a52_da88_11ea_bbc7_74e5f9543d13row9_col0\" class=\"data row9 col0\" >0.522897</td>\n",
       "            </tr>\n",
       "            <tr>\n",
       "                        <th id=\"T_785b6a52_da88_11ea_bbc7_74e5f9543d13level0_row10\" class=\"row_heading level0 row10\" >YearRemodAdd</th>\n",
       "                        <td id=\"T_785b6a52_da88_11ea_bbc7_74e5f9543d13row10_col0\" class=\"data row10 col0\" >0.507101</td>\n",
       "            </tr>\n",
       "            <tr>\n",
       "                        <th id=\"T_785b6a52_da88_11ea_bbc7_74e5f9543d13level0_row11\" class=\"row_heading level0 row11\" >GarageYrBlt</th>\n",
       "                        <td id=\"T_785b6a52_da88_11ea_bbc7_74e5f9543d13row11_col0\" class=\"data row11 col0\" >0.486362</td>\n",
       "            </tr>\n",
       "            <tr>\n",
       "                        <th id=\"T_785b6a52_da88_11ea_bbc7_74e5f9543d13level0_row12\" class=\"row_heading level0 row12\" >MasVnrArea</th>\n",
       "                        <td id=\"T_785b6a52_da88_11ea_bbc7_74e5f9543d13row12_col0\" class=\"data row12 col0\" >0.477493</td>\n",
       "            </tr>\n",
       "            <tr>\n",
       "                        <th id=\"T_785b6a52_da88_11ea_bbc7_74e5f9543d13level0_row13\" class=\"row_heading level0 row13\" >Fireplaces</th>\n",
       "                        <td id=\"T_785b6a52_da88_11ea_bbc7_74e5f9543d13row13_col0\" class=\"data row13 col0\" >0.466929</td>\n",
       "            </tr>\n",
       "            <tr>\n",
       "                        <th id=\"T_785b6a52_da88_11ea_bbc7_74e5f9543d13level0_row14\" class=\"row_heading level0 row14\" >BsmtFinSF1</th>\n",
       "                        <td id=\"T_785b6a52_da88_11ea_bbc7_74e5f9543d13row14_col0\" class=\"data row14 col0\" >0.386420</td>\n",
       "            </tr>\n",
       "            <tr>\n",
       "                        <th id=\"T_785b6a52_da88_11ea_bbc7_74e5f9543d13level0_row15\" class=\"row_heading level0 row15\" >LotFrontage</th>\n",
       "                        <td id=\"T_785b6a52_da88_11ea_bbc7_74e5f9543d13row15_col0\" class=\"data row15 col0\" >0.351799</td>\n",
       "            </tr>\n",
       "            <tr>\n",
       "                        <th id=\"T_785b6a52_da88_11ea_bbc7_74e5f9543d13level0_row16\" class=\"row_heading level0 row16\" >WoodDeckSF</th>\n",
       "                        <td id=\"T_785b6a52_da88_11ea_bbc7_74e5f9543d13row16_col0\" class=\"data row16 col0\" >0.324413</td>\n",
       "            </tr>\n",
       "            <tr>\n",
       "                        <th id=\"T_785b6a52_da88_11ea_bbc7_74e5f9543d13level0_row17\" class=\"row_heading level0 row17\" >2ndFlrSF</th>\n",
       "                        <td id=\"T_785b6a52_da88_11ea_bbc7_74e5f9543d13row17_col0\" class=\"data row17 col0\" >0.319334</td>\n",
       "            </tr>\n",
       "            <tr>\n",
       "                        <th id=\"T_785b6a52_da88_11ea_bbc7_74e5f9543d13level0_row18\" class=\"row_heading level0 row18\" >OpenPorchSF</th>\n",
       "                        <td id=\"T_785b6a52_da88_11ea_bbc7_74e5f9543d13row18_col0\" class=\"data row18 col0\" >0.315856</td>\n",
       "            </tr>\n",
       "            <tr>\n",
       "                        <th id=\"T_785b6a52_da88_11ea_bbc7_74e5f9543d13level0_row19\" class=\"row_heading level0 row19\" >HalfBath</th>\n",
       "                        <td id=\"T_785b6a52_da88_11ea_bbc7_74e5f9543d13row19_col0\" class=\"data row19 col0\" >0.284108</td>\n",
       "            </tr>\n",
       "    </tbody></table>"
      ],
      "text/plain": [
       "<pandas.io.formats.style.Styler at 0x266683c16d0>"
      ]
     },
     "execution_count": 408,
     "metadata": {},
     "output_type": "execute_result"
    }
   ],
   "source": [
    "num_corr = df_num_corr['SalePrice'].sort_values(ascending=False).head(20).to_frame()\n",
    "num_corr.style.background_gradient()"
   ]
  },
  {
   "cell_type": "markdown",
   "metadata": {},
   "source": [
    "The table clearly shows which features affect the target Sales Price the most. "
   ]
  },
  {
   "cell_type": "markdown",
   "metadata": {},
   "source": [
    "## Data Cleaning\n",
    "\n",
    "Here, we will take care of the missing values. Let's have a look at the features with missing values in a descending order and then we will decide what to do with them.\n"
   ]
  },
  {
   "cell_type": "code",
   "execution_count": 411,
   "metadata": {},
   "outputs": [
    {
     "data": {
      "text/html": [
       "<div>\n",
       "<style scoped>\n",
       "    .dataframe tbody tr th:only-of-type {\n",
       "        vertical-align: middle;\n",
       "    }\n",
       "\n",
       "    .dataframe tbody tr th {\n",
       "        vertical-align: top;\n",
       "    }\n",
       "\n",
       "    .dataframe thead th {\n",
       "        text-align: right;\n",
       "    }\n",
       "</style>\n",
       "<table border=\"1\" class=\"dataframe\">\n",
       "  <thead>\n",
       "    <tr style=\"text-align: right;\">\n",
       "      <th></th>\n",
       "      <th>Total Missing</th>\n",
       "      <th>Percentage Missing</th>\n",
       "    </tr>\n",
       "  </thead>\n",
       "  <tbody>\n",
       "    <tr>\n",
       "      <th>PoolQC</th>\n",
       "      <td>1453</td>\n",
       "      <td>99.520548</td>\n",
       "    </tr>\n",
       "    <tr>\n",
       "      <th>MiscFeature</th>\n",
       "      <td>1406</td>\n",
       "      <td>96.301370</td>\n",
       "    </tr>\n",
       "    <tr>\n",
       "      <th>Alley</th>\n",
       "      <td>1369</td>\n",
       "      <td>93.767123</td>\n",
       "    </tr>\n",
       "    <tr>\n",
       "      <th>Fence</th>\n",
       "      <td>1179</td>\n",
       "      <td>80.753425</td>\n",
       "    </tr>\n",
       "    <tr>\n",
       "      <th>FireplaceQu</th>\n",
       "      <td>690</td>\n",
       "      <td>47.260274</td>\n",
       "    </tr>\n",
       "    <tr>\n",
       "      <th>LotFrontage</th>\n",
       "      <td>259</td>\n",
       "      <td>17.739726</td>\n",
       "    </tr>\n",
       "    <tr>\n",
       "      <th>GarageCond</th>\n",
       "      <td>81</td>\n",
       "      <td>5.547945</td>\n",
       "    </tr>\n",
       "    <tr>\n",
       "      <th>GarageType</th>\n",
       "      <td>81</td>\n",
       "      <td>5.547945</td>\n",
       "    </tr>\n",
       "    <tr>\n",
       "      <th>GarageYrBlt</th>\n",
       "      <td>81</td>\n",
       "      <td>5.547945</td>\n",
       "    </tr>\n",
       "    <tr>\n",
       "      <th>GarageFinish</th>\n",
       "      <td>81</td>\n",
       "      <td>5.547945</td>\n",
       "    </tr>\n",
       "    <tr>\n",
       "      <th>GarageQual</th>\n",
       "      <td>81</td>\n",
       "      <td>5.547945</td>\n",
       "    </tr>\n",
       "    <tr>\n",
       "      <th>BsmtExposure</th>\n",
       "      <td>38</td>\n",
       "      <td>2.602740</td>\n",
       "    </tr>\n",
       "    <tr>\n",
       "      <th>BsmtFinType2</th>\n",
       "      <td>38</td>\n",
       "      <td>2.602740</td>\n",
       "    </tr>\n",
       "    <tr>\n",
       "      <th>BsmtFinType1</th>\n",
       "      <td>37</td>\n",
       "      <td>2.534247</td>\n",
       "    </tr>\n",
       "    <tr>\n",
       "      <th>BsmtCond</th>\n",
       "      <td>37</td>\n",
       "      <td>2.534247</td>\n",
       "    </tr>\n",
       "    <tr>\n",
       "      <th>BsmtQual</th>\n",
       "      <td>37</td>\n",
       "      <td>2.534247</td>\n",
       "    </tr>\n",
       "    <tr>\n",
       "      <th>MasVnrArea</th>\n",
       "      <td>8</td>\n",
       "      <td>0.547945</td>\n",
       "    </tr>\n",
       "    <tr>\n",
       "      <th>MasVnrType</th>\n",
       "      <td>8</td>\n",
       "      <td>0.547945</td>\n",
       "    </tr>\n",
       "    <tr>\n",
       "      <th>Electrical</th>\n",
       "      <td>1</td>\n",
       "      <td>0.068493</td>\n",
       "    </tr>\n",
       "    <tr>\n",
       "      <th>Utilities</th>\n",
       "      <td>0</td>\n",
       "      <td>0.000000</td>\n",
       "    </tr>\n",
       "  </tbody>\n",
       "</table>\n",
       "</div>"
      ],
      "text/plain": [
       "              Total Missing  Percentage Missing\n",
       "PoolQC                 1453           99.520548\n",
       "MiscFeature            1406           96.301370\n",
       "Alley                  1369           93.767123\n",
       "Fence                  1179           80.753425\n",
       "FireplaceQu             690           47.260274\n",
       "LotFrontage             259           17.739726\n",
       "GarageCond               81            5.547945\n",
       "GarageType               81            5.547945\n",
       "GarageYrBlt              81            5.547945\n",
       "GarageFinish             81            5.547945\n",
       "GarageQual               81            5.547945\n",
       "BsmtExposure             38            2.602740\n",
       "BsmtFinType2             38            2.602740\n",
       "BsmtFinType1             37            2.534247\n",
       "BsmtCond                 37            2.534247\n",
       "BsmtQual                 37            2.534247\n",
       "MasVnrArea                8            0.547945\n",
       "MasVnrType                8            0.547945\n",
       "Electrical                1            0.068493\n",
       "Utilities                 0            0.000000"
      ]
     },
     "execution_count": 411,
     "metadata": {},
     "output_type": "execute_result"
    }
   ],
   "source": [
    "missing_total = df.isnull().sum().sort_values(ascending = False)\n",
    "missing_data_percent = ((df.isnull().sum()/df.isnull().count())*100).sort_values(ascending = False)\n",
    "missing_data = pd.concat([missing_total, missing_data_percent], axis = 1, keys = [\"Total Missing\", \"Percentage Missing\"])\n",
    "missing_data.head(20)"
   ]
  },
  {
   "cell_type": "code",
   "execution_count": 412,
   "metadata": {},
   "outputs": [
    {
     "data": {
      "image/png": "[encoded data removed]",
      "text/plain": [
       "<Figure size 1440x576 with 1 Axes>"
      ]
     },
     "metadata": {
      "needs_background": "light"
     },
     "output_type": "display_data"
    }
   ],
   "source": [
    "missing_percent_20 = missing_data_percent.head(20)\n",
    "plt.figure(figsize = (20,8))\n",
    "plt.bar(*zip(*missing_percent_20.items()))\n",
    "plt.xticks(fontsize = 20, weight = 'bold', rotation = 90)\n",
    "plt.yticks(fontsize = 20, weight = 'bold')\n",
    "plt.title(\"Missing values percentage per column\", fontsize = 24, weight = 'bold')\n",
    "plt.ylabel('Percentage', fontsize = 20, weight = 'bold')\n",
    "plt.show()"
   ]
  },
  {
   "cell_type": "markdown",
   "metadata": {},
   "source": [
    "We will drop the features with more than 40% missing values as these features are uninformative for prediction of target variable. "
   ]
  },
  {
   "cell_type": "code",
   "execution_count": 413,
   "metadata": {},
   "outputs": [],
   "source": [
    "df = df.drop((missing_data[missing_data['Percentage Missing']>40]).index,1)"
   ]
  },
  {
   "cell_type": "code",
   "execution_count": 414,
   "metadata": {},
   "outputs": [
    {
     "name": "stdout",
     "output_type": "stream",
     "text": [
      "We dropped 5 features in the set\n"
     ]
    }
   ],
   "source": [
    "dropped = (missing_data[missing_data['Percentage Missing']>40]).index\n",
    "print(f\"We dropped {len(dropped)} features in the set\")"
   ]
  },
  {
   "cell_type": "markdown",
   "metadata": {},
   "source": [
    "Let's make sure those features are dropped"
   ]
  },
  {
   "cell_type": "code",
   "execution_count": 415,
   "metadata": {},
   "outputs": [
    {
     "data": {
      "text/html": [
       "<div>\n",
       "<style scoped>\n",
       "    .dataframe tbody tr th:only-of-type {\n",
       "        vertical-align: middle;\n",
       "    }\n",
       "\n",
       "    .dataframe tbody tr th {\n",
       "        vertical-align: top;\n",
       "    }\n",
       "\n",
       "    .dataframe thead th {\n",
       "        text-align: right;\n",
       "    }\n",
       "</style>\n",
       "<table border=\"1\" class=\"dataframe\">\n",
       "  <thead>\n",
       "    <tr style=\"text-align: right;\">\n",
       "      <th></th>\n",
       "      <th>Total Missing</th>\n",
       "      <th>Percentage Missing</th>\n",
       "    </tr>\n",
       "  </thead>\n",
       "  <tbody>\n",
       "    <tr>\n",
       "      <th>LotFrontage</th>\n",
       "      <td>259</td>\n",
       "      <td>17.739726</td>\n",
       "    </tr>\n",
       "    <tr>\n",
       "      <th>GarageFinish</th>\n",
       "      <td>81</td>\n",
       "      <td>5.547945</td>\n",
       "    </tr>\n",
       "    <tr>\n",
       "      <th>GarageType</th>\n",
       "      <td>81</td>\n",
       "      <td>5.547945</td>\n",
       "    </tr>\n",
       "    <tr>\n",
       "      <th>GarageCond</th>\n",
       "      <td>81</td>\n",
       "      <td>5.547945</td>\n",
       "    </tr>\n",
       "    <tr>\n",
       "      <th>GarageQual</th>\n",
       "      <td>81</td>\n",
       "      <td>5.547945</td>\n",
       "    </tr>\n",
       "    <tr>\n",
       "      <th>GarageYrBlt</th>\n",
       "      <td>81</td>\n",
       "      <td>5.547945</td>\n",
       "    </tr>\n",
       "    <tr>\n",
       "      <th>BsmtExposure</th>\n",
       "      <td>38</td>\n",
       "      <td>2.602740</td>\n",
       "    </tr>\n",
       "    <tr>\n",
       "      <th>BsmtFinType2</th>\n",
       "      <td>38</td>\n",
       "      <td>2.602740</td>\n",
       "    </tr>\n",
       "    <tr>\n",
       "      <th>BsmtFinType1</th>\n",
       "      <td>37</td>\n",
       "      <td>2.534247</td>\n",
       "    </tr>\n",
       "    <tr>\n",
       "      <th>BsmtCond</th>\n",
       "      <td>37</td>\n",
       "      <td>2.534247</td>\n",
       "    </tr>\n",
       "    <tr>\n",
       "      <th>BsmtQual</th>\n",
       "      <td>37</td>\n",
       "      <td>2.534247</td>\n",
       "    </tr>\n",
       "    <tr>\n",
       "      <th>MasVnrType</th>\n",
       "      <td>8</td>\n",
       "      <td>0.547945</td>\n",
       "    </tr>\n",
       "    <tr>\n",
       "      <th>MasVnrArea</th>\n",
       "      <td>8</td>\n",
       "      <td>0.547945</td>\n",
       "    </tr>\n",
       "    <tr>\n",
       "      <th>Electrical</th>\n",
       "      <td>1</td>\n",
       "      <td>0.068493</td>\n",
       "    </tr>\n",
       "    <tr>\n",
       "      <th>RoofStyle</th>\n",
       "      <td>0</td>\n",
       "      <td>0.000000</td>\n",
       "    </tr>\n",
       "    <tr>\n",
       "      <th>RoofMatl</th>\n",
       "      <td>0</td>\n",
       "      <td>0.000000</td>\n",
       "    </tr>\n",
       "    <tr>\n",
       "      <th>SalePrice</th>\n",
       "      <td>0</td>\n",
       "      <td>0.000000</td>\n",
       "    </tr>\n",
       "    <tr>\n",
       "      <th>Exterior1st</th>\n",
       "      <td>0</td>\n",
       "      <td>0.000000</td>\n",
       "    </tr>\n",
       "    <tr>\n",
       "      <th>Exterior2nd</th>\n",
       "      <td>0</td>\n",
       "      <td>0.000000</td>\n",
       "    </tr>\n",
       "    <tr>\n",
       "      <th>YearBuilt</th>\n",
       "      <td>0</td>\n",
       "      <td>0.000000</td>\n",
       "    </tr>\n",
       "  </tbody>\n",
       "</table>\n",
       "</div>"
      ],
      "text/plain": [
       "              Total Missing  Percentage Missing\n",
       "LotFrontage             259           17.739726\n",
       "GarageFinish             81            5.547945\n",
       "GarageType               81            5.547945\n",
       "GarageCond               81            5.547945\n",
       "GarageQual               81            5.547945\n",
       "GarageYrBlt              81            5.547945\n",
       "BsmtExposure             38            2.602740\n",
       "BsmtFinType2             38            2.602740\n",
       "BsmtFinType1             37            2.534247\n",
       "BsmtCond                 37            2.534247\n",
       "BsmtQual                 37            2.534247\n",
       "MasVnrType                8            0.547945\n",
       "MasVnrArea                8            0.547945\n",
       "Electrical                1            0.068493\n",
       "RoofStyle                 0            0.000000\n",
       "RoofMatl                  0            0.000000\n",
       "SalePrice                 0            0.000000\n",
       "Exterior1st               0            0.000000\n",
       "Exterior2nd               0            0.000000\n",
       "YearBuilt                 0            0.000000"
      ]
     },
     "execution_count": 415,
     "metadata": {},
     "output_type": "execute_result"
    }
   ],
   "source": [
    "missing_total = df.isnull().sum().sort_values(ascending = False)\n",
    "missing_data_percent = ((df.isnull().sum()/df.isnull().count())*100).sort_values(ascending = False)\n",
    "missing_data = pd.concat([missing_total, missing_data_percent], axis = 1, keys = [\"Total Missing\", \"Percentage Missing\"])\n",
    "missing_data.head(20)"
   ]
  },
  {
   "cell_type": "code",
   "execution_count": 416,
   "metadata": {},
   "outputs": [],
   "source": [
    "all_NA = df[missing_data[missing_data['Total Missing']>0].index]"
   ]
  },
  {
   "cell_type": "markdown",
   "metadata": {},
   "source": [
    "Now we need to take care of the remaining features with null values. We will divide the features into two categories:\n",
    "--Numerical Features\n",
    "--Categorical Features"
   ]
  },
  {
   "cell_type": "code",
   "execution_count": 417,
   "metadata": {},
   "outputs": [],
   "source": [
    "null_num = all_NA.select_dtypes(exclude = 'object')\n",
    "null_cat = all_NA.select_dtypes(include = 'object')"
   ]
  },
  {
   "cell_type": "code",
   "execution_count": 418,
   "metadata": {},
   "outputs": [
    {
     "name": "stdout",
     "output_type": "stream",
     "text": [
      "We have 3 null numerical features\n",
      "We have 11 null categorical features\n"
     ]
    }
   ],
   "source": [
    "print(f\"We have {null_num.shape[1]} null numerical features\")\n",
    "print(f\"We have {null_cat.shape[1]} null categorical features\")"
   ]
  },
  {
   "cell_type": "code",
   "execution_count": 419,
   "metadata": {},
   "outputs": [
    {
     "data": {
      "text/html": [
       "<div>\n",
       "<style scoped>\n",
       "    .dataframe tbody tr th:only-of-type {\n",
       "        vertical-align: middle;\n",
       "    }\n",
       "\n",
       "    .dataframe tbody tr th {\n",
       "        vertical-align: top;\n",
       "    }\n",
       "\n",
       "    .dataframe thead th {\n",
       "        text-align: right;\n",
       "    }\n",
       "</style>\n",
       "<table border=\"1\" class=\"dataframe\">\n",
       "  <thead>\n",
       "    <tr style=\"text-align: right;\">\n",
       "      <th></th>\n",
       "      <th>LotFrontage</th>\n",
       "      <th>GarageYrBlt</th>\n",
       "      <th>MasVnrArea</th>\n",
       "    </tr>\n",
       "  </thead>\n",
       "  <tbody>\n",
       "    <tr>\n",
       "      <th>0</th>\n",
       "      <td>65.0</td>\n",
       "      <td>2003.0</td>\n",
       "      <td>196.0</td>\n",
       "    </tr>\n",
       "    <tr>\n",
       "      <th>1</th>\n",
       "      <td>80.0</td>\n",
       "      <td>1976.0</td>\n",
       "      <td>0.0</td>\n",
       "    </tr>\n",
       "    <tr>\n",
       "      <th>2</th>\n",
       "      <td>68.0</td>\n",
       "      <td>2001.0</td>\n",
       "      <td>162.0</td>\n",
       "    </tr>\n",
       "    <tr>\n",
       "      <th>3</th>\n",
       "      <td>60.0</td>\n",
       "      <td>1998.0</td>\n",
       "      <td>0.0</td>\n",
       "    </tr>\n",
       "    <tr>\n",
       "      <th>4</th>\n",
       "      <td>84.0</td>\n",
       "      <td>2000.0</td>\n",
       "      <td>350.0</td>\n",
       "    </tr>\n",
       "  </tbody>\n",
       "</table>\n",
       "</div>"
      ],
      "text/plain": [
       "   LotFrontage  GarageYrBlt  MasVnrArea\n",
       "0         65.0       2003.0       196.0\n",
       "1         80.0       1976.0         0.0\n",
       "2         68.0       2001.0       162.0\n",
       "3         60.0       1998.0         0.0\n",
       "4         84.0       2000.0       350.0"
      ]
     },
     "execution_count": 419,
     "metadata": {},
     "output_type": "execute_result"
    }
   ],
   "source": [
    "null_num.head()"
   ]
  },
  {
   "cell_type": "code",
   "execution_count": 420,
   "metadata": {},
   "outputs": [],
   "source": [
    "#Lot Frontage has ~18% missing values so we will fill them with median value\n",
    "df['LotFrontage'] = df.LotFrontage.fillna(df.LotFrontage.median())\n",
    "\n",
    "#We will fill the GarageYrBlt with the median value too (1980)\n",
    "df['GarageYrBlt'] = df.GarageYrBlt.fillna(1980)\n",
    "\n",
    "#Na for ManVnrArea means no veneer so we will fill Nan values with 0\n",
    "df['MasVnrArea'] = df.MasVnrArea.fillna(0)"
   ]
  },
  {
   "cell_type": "code",
   "execution_count": 421,
   "metadata": {},
   "outputs": [
    {
     "data": {
      "text/html": [
       "<div>\n",
       "<style scoped>\n",
       "    .dataframe tbody tr th:only-of-type {\n",
       "        vertical-align: middle;\n",
       "    }\n",
       "\n",
       "    .dataframe tbody tr th {\n",
       "        vertical-align: top;\n",
       "    }\n",
       "\n",
       "    .dataframe thead th {\n",
       "        text-align: right;\n",
       "    }\n",
       "</style>\n",
       "<table border=\"1\" class=\"dataframe\">\n",
       "  <thead>\n",
       "    <tr style=\"text-align: right;\">\n",
       "      <th></th>\n",
       "      <th>GarageFinish</th>\n",
       "      <th>GarageType</th>\n",
       "      <th>GarageCond</th>\n",
       "      <th>GarageQual</th>\n",
       "      <th>BsmtExposure</th>\n",
       "      <th>BsmtFinType2</th>\n",
       "      <th>BsmtFinType1</th>\n",
       "      <th>BsmtCond</th>\n",
       "      <th>BsmtQual</th>\n",
       "      <th>MasVnrType</th>\n",
       "      <th>Electrical</th>\n",
       "    </tr>\n",
       "  </thead>\n",
       "  <tbody>\n",
       "    <tr>\n",
       "      <th>0</th>\n",
       "      <td>RFn</td>\n",
       "      <td>Attchd</td>\n",
       "      <td>TA</td>\n",
       "      <td>TA</td>\n",
       "      <td>No</td>\n",
       "      <td>Unf</td>\n",
       "      <td>GLQ</td>\n",
       "      <td>TA</td>\n",
       "      <td>Gd</td>\n",
       "      <td>BrkFace</td>\n",
       "      <td>SBrkr</td>\n",
       "    </tr>\n",
       "    <tr>\n",
       "      <th>1</th>\n",
       "      <td>RFn</td>\n",
       "      <td>Attchd</td>\n",
       "      <td>TA</td>\n",
       "      <td>TA</td>\n",
       "      <td>Gd</td>\n",
       "      <td>Unf</td>\n",
       "      <td>ALQ</td>\n",
       "      <td>TA</td>\n",
       "      <td>Gd</td>\n",
       "      <td>None</td>\n",
       "      <td>SBrkr</td>\n",
       "    </tr>\n",
       "    <tr>\n",
       "      <th>2</th>\n",
       "      <td>RFn</td>\n",
       "      <td>Attchd</td>\n",
       "      <td>TA</td>\n",
       "      <td>TA</td>\n",
       "      <td>Mn</td>\n",
       "      <td>Unf</td>\n",
       "      <td>GLQ</td>\n",
       "      <td>TA</td>\n",
       "      <td>Gd</td>\n",
       "      <td>BrkFace</td>\n",
       "      <td>SBrkr</td>\n",
       "    </tr>\n",
       "    <tr>\n",
       "      <th>3</th>\n",
       "      <td>Unf</td>\n",
       "      <td>Detchd</td>\n",
       "      <td>TA</td>\n",
       "      <td>TA</td>\n",
       "      <td>No</td>\n",
       "      <td>Unf</td>\n",
       "      <td>ALQ</td>\n",
       "      <td>Gd</td>\n",
       "      <td>TA</td>\n",
       "      <td>None</td>\n",
       "      <td>SBrkr</td>\n",
       "    </tr>\n",
       "    <tr>\n",
       "      <th>4</th>\n",
       "      <td>RFn</td>\n",
       "      <td>Attchd</td>\n",
       "      <td>TA</td>\n",
       "      <td>TA</td>\n",
       "      <td>Av</td>\n",
       "      <td>Unf</td>\n",
       "      <td>GLQ</td>\n",
       "      <td>TA</td>\n",
       "      <td>Gd</td>\n",
       "      <td>BrkFace</td>\n",
       "      <td>SBrkr</td>\n",
       "    </tr>\n",
       "  </tbody>\n",
       "</table>\n",
       "</div>"
      ],
      "text/plain": [
       "  GarageFinish GarageType GarageCond GarageQual BsmtExposure BsmtFinType2  \\\n",
       "0          RFn     Attchd         TA         TA           No          Unf   \n",
       "1          RFn     Attchd         TA         TA           Gd          Unf   \n",
       "2          RFn     Attchd         TA         TA           Mn          Unf   \n",
       "3          Unf     Detchd         TA         TA           No          Unf   \n",
       "4          RFn     Attchd         TA         TA           Av          Unf   \n",
       "\n",
       "  BsmtFinType1 BsmtCond BsmtQual MasVnrType Electrical  \n",
       "0          GLQ       TA       Gd    BrkFace      SBrkr  \n",
       "1          ALQ       TA       Gd       None      SBrkr  \n",
       "2          GLQ       TA       Gd    BrkFace      SBrkr  \n",
       "3          ALQ       Gd       TA       None      SBrkr  \n",
       "4          GLQ       TA       Gd    BrkFace      SBrkr  "
      ]
     },
     "execution_count": 421,
     "metadata": {},
     "output_type": "execute_result"
    }
   ],
   "source": [
    "null_cat.head()"
   ]
  },
  {
   "cell_type": "markdown",
   "metadata": {},
   "source": [
    "There are total 11 categorical features with missing values and 9 of those are either basement or garage related, which implies that those houses lack either garages or basements. So we will replace the missing values with None. Missing MasVnrType implied no veneer so we replace the missing values with None. "
   ]
  },
  {
   "cell_type": "code",
   "execution_count": 422,
   "metadata": {},
   "outputs": [],
   "source": [
    "Null_cols = null_cat.columns\n",
    "for col in Null_cols:\n",
    "    df[col] = df[col].fillna(\"None\")"
   ]
  },
  {
   "cell_type": "markdown",
   "metadata": {},
   "source": [
    "We will fill the \"Electrical\" missing values with forward filling method"
   ]
  },
  {
   "cell_type": "code",
   "execution_count": 423,
   "metadata": {},
   "outputs": [],
   "source": [
    "df['Electrical'] = df['Electrical'].fillna('ffill')"
   ]
  },
  {
   "cell_type": "code",
   "execution_count": 424,
   "metadata": {},
   "outputs": [
    {
     "data": {
      "text/plain": [
       "0"
      ]
     },
     "execution_count": 424,
     "metadata": {},
     "output_type": "execute_result"
    }
   ],
   "source": [
    "df.isnull().sum().sum()"
   ]
  },
  {
   "cell_type": "markdown",
   "metadata": {},
   "source": [
    "Finally, we end up with a clean dataset with no Null or missing values. "
   ]
  },
  {
   "cell_type": "markdown",
   "metadata": {},
   "source": [
    "## Encoding categorical features"
   ]
  },
  {
   "cell_type": "markdown",
   "metadata": {},
   "source": [
    "### One hot encoding"
   ]
  },
  {
   "cell_type": "code",
   "execution_count": 545,
   "metadata": {},
   "outputs": [],
   "source": [
    "df_enc = pd.get_dummies(df)"
   ]
  },
  {
   "cell_type": "code",
   "execution_count": 546,
   "metadata": {},
   "outputs": [
    {
     "name": "stdout",
     "output_type": "stream",
     "text": [
      " Shape of original dataset (1460, 76)\n",
      " Shape of One Hot Encoded dataset (1460, 282)\n"
     ]
    }
   ],
   "source": [
    "print(f\" Shape of original dataset {df.shape}\")\n",
    "print(f\" Shape of One Hot Encoded dataset {df_enc.shape}\")"
   ]
  },
  {
   "cell_type": "markdown",
   "metadata": {},
   "source": [
    "## Outliers Detection"
   ]
  },
  {
   "cell_type": "markdown",
   "metadata": {},
   "source": [
    "We will use scatter plots to detect the outliers for numerical features\n",
    "\n",
    "Let's start with Ground Living Area"
   ]
  },
  {
   "cell_type": "code",
   "execution_count": 547,
   "metadata": {},
   "outputs": [
    {
     "data": {
      "text/plain": [
       "Text(0.5, 0, 'Ground Living Area')"
      ]
     },
     "execution_count": 547,
     "metadata": {},
     "output_type": "execute_result"
    },
    {
     "data": {
      "image/png": "[encoded data removed]",
      "text/plain": [
       "<Figure size 432x288 with 1 Axes>"
      ]
     },
     "metadata": {
      "needs_background": "light"
     },
     "output_type": "display_data"
    }
   ],
   "source": [
    "plt.scatter(x=df['GrLivArea'], y = df['SalePrice'])\n",
    "plt.title('Ground Living Area - SalePrice')\n",
    "plt.ylabel('Sale Price')\n",
    "plt.xlabel('Ground Living Area')"
   ]
  },
  {
   "cell_type": "markdown",
   "metadata": {},
   "source": [
    "We can see that the two values on the extreme right side do not follow the pattern and are therefore the outliers. \n",
    "\n",
    "Now we will draw outliers for some features usng subplots"
   ]
  },
  {
   "cell_type": "code",
   "execution_count": 548,
   "metadata": {},
   "outputs": [
    {
     "data": {
      "image/png": "[encoded data removed]",
      "text/plain": [
       "<Figure size 1440x1440 with 6 Axes>"
      ]
     },
     "metadata": {
      "needs_background": "light"
     },
     "output_type": "display_data"
    }
   ],
   "source": [
    "plt.figure(figsize = (20,20))\n",
    "ax1 = plt.subplot2grid((3,2),(0,0))\n",
    "plt.scatter(x=df['GrLivArea'], y = df['SalePrice'])\n",
    "plt.title('Ground Living Area - SalePrice', weight = 'bold', fontsize = 15)\n",
    "plt.xlabel('Ground Living Area')\n",
    "\n",
    "ax1 = plt.subplot2grid((3,2),(0,1))\n",
    "plt.scatter(x=df['1stFlrSF'], y = df['SalePrice'])\n",
    "plt.title('First Floor Area - SalePrice', weight = 'bold', fontsize = 15)\n",
    "plt.xlabel('First Floor Area')\n",
    "\n",
    "ax1 = plt.subplot2grid((3,2),(1,0))\n",
    "plt.scatter(x=df['TotalBsmtSF'], y = df['SalePrice'])\n",
    "plt.title('Basement Area - SalePrice', weight = 'bold', fontsize = 15)\n",
    "plt.xlabel('Basement Area')\n",
    "\n",
    "ax1 = plt.subplot2grid((3,2),(1,1))\n",
    "plt.scatter(x=df['GarageArea'], y = df['SalePrice'])\n",
    "plt.title('Garage Area - SalePrice', weight = 'bold', fontsize = 15)\n",
    "plt.xlabel('Garage Area')\n",
    "\n",
    "ax1 = plt.subplot2grid((3,2),(2,0))\n",
    "plt.scatter(x=df['TotRmsAbvGrd'], y = df['SalePrice'])\n",
    "plt.title('TotRmsAbvGrd - SalePrice', weight = 'bold', fontsize = 15)\n",
    "plt.xlabel('TotRmsAbvGrd')\n",
    "\n",
    "ax1 = plt.subplot2grid((3,2),(2,1))\n",
    "plt.scatter(x=df['MasVnrArea'], y = df['SalePrice'])\n",
    "plt.title('Masonry veneer Area - SalePrice', weight = 'bold', fontsize = 15)\n",
    "plt.xlabel('Masonry veneer Area')\n",
    "\n",
    "plt.show()"
   ]
  },
  {
   "cell_type": "markdown",
   "metadata": {},
   "source": [
    "#### Outliers Localization\n",
    "\n",
    "We will sort the columns containing the outliers and use head() function to identify the ids of outliers and then remove them"
   ]
  },
  {
   "cell_type": "code",
   "execution_count": 549,
   "metadata": {},
   "outputs": [
    {
     "data": {
      "text/plain": [
       "1298    5642\n",
       "523     4676\n",
       "Name: GrLivArea, dtype: int64"
      ]
     },
     "execution_count": 549,
     "metadata": {},
     "output_type": "execute_result"
    }
   ],
   "source": [
    "df['GrLivArea'].sort_values(ascending = False).head(2)"
   ]
  },
  {
   "cell_type": "code",
   "execution_count": 550,
   "metadata": {},
   "outputs": [
    {
     "data": {
      "text/plain": [
       "1298    4692\n",
       "Name: 1stFlrSF, dtype: int64"
      ]
     },
     "execution_count": 550,
     "metadata": {},
     "output_type": "execute_result"
    }
   ],
   "source": [
    "df['1stFlrSF'].sort_values(ascending = False).head(1)"
   ]
  },
  {
   "cell_type": "code",
   "execution_count": 551,
   "metadata": {},
   "outputs": [
    {
     "data": {
      "text/plain": [
       "1298    6110\n",
       "Name: TotalBsmtSF, dtype: int64"
      ]
     },
     "execution_count": 551,
     "metadata": {},
     "output_type": "execute_result"
    }
   ],
   "source": [
    "df['TotalBsmtSF'].sort_values(ascending = False).head(1)"
   ]
  },
  {
   "cell_type": "code",
   "execution_count": 552,
   "metadata": {},
   "outputs": [
    {
     "data": {
      "text/plain": [
       "1298    1418\n",
       "581     1390\n",
       "1190    1356\n",
       "1061    1248\n",
       "Name: GarageArea, dtype: int64"
      ]
     },
     "execution_count": 552,
     "metadata": {},
     "output_type": "execute_result"
    }
   ],
   "source": [
    "df['GarageArea'].sort_values(ascending = False).head(4)"
   ]
  },
  {
   "cell_type": "code",
   "execution_count": 553,
   "metadata": {},
   "outputs": [
    {
     "data": {
      "text/plain": [
       "297    1600.0\n",
       "Name: MasVnrArea, dtype: float64"
      ]
     },
     "execution_count": 553,
     "metadata": {},
     "output_type": "execute_result"
    }
   ],
   "source": [
    "df['MasVnrArea'].sort_values(ascending = False).head(1)"
   ]
  },
  {
   "cell_type": "markdown",
   "metadata": {},
   "source": [
    "#### Outliers Removal"
   ]
  },
  {
   "cell_type": "markdown",
   "metadata": {},
   "source": [
    "We have collected the indices of all the outliers for the above features. We will now remove these points from the dataset. "
   ]
  },
  {
   "cell_type": "code",
   "execution_count": 554,
   "metadata": {},
   "outputs": [],
   "source": [
    "outliers_pos = [1298, 523, 581, 1190, 1061, 297]\n",
    "df_enc.drop(df_enc.index[outliers_pos], inplace=True)"
   ]
  },
  {
   "cell_type": "markdown",
   "metadata": {},
   "source": [
    "Since, we have removed six rows fromt the dataset, we should now have 1454 rows"
   ]
  },
  {
   "cell_type": "code",
   "execution_count": 555,
   "metadata": {},
   "outputs": [
    {
     "name": "stdout",
     "output_type": "stream",
     "text": [
      "Total remaining rows: 1454\n"
     ]
    }
   ],
   "source": [
    "print(f\"Total remaining rows: {df_enc.shape[0]}\")"
   ]
  },
  {
   "cell_type": "markdown",
   "metadata": {},
   "source": [
    "Let's plot a scatter plot of Garage Area to confirm that outlier have been successfully removed"
   ]
  },
  {
   "cell_type": "code",
   "execution_count": 556,
   "metadata": {},
   "outputs": [
    {
     "data": {
      "text/plain": [
       "Text(0.5, 0, 'Garage Area')"
      ]
     },
     "execution_count": 556,
     "metadata": {},
     "output_type": "execute_result"
    },
    {
     "data": {
      "image/png": "[encoded data removed]",
      "text/plain": [
       "<Figure size 1440x504 with 2 Axes>"
      ]
     },
     "metadata": {
      "needs_background": "light"
     },
     "output_type": "display_data"
    }
   ],
   "source": [
    "plt.figure(figsize = (20,7))\n",
    "\n",
    "ax1 = plt.subplot2grid((1,2),(0,0))\n",
    "plt.scatter(x=df['GarageArea'], y = df['SalePrice'])\n",
    "plt.title('Garage Area with outliers', fontsize = 20, weight = 'bold')\n",
    "plt.xlabel('Garage Area', fontsize = 15)\n",
    "\n",
    "ax1 = plt.subplot2grid((1,2),(0,1))\n",
    "plt.scatter(x=df_enc['GarageArea'], y = df_enc['SalePrice'])\n",
    "plt.title('Garage Area without outliers', fontsize = 20, weight = 'bold')\n",
    "plt.xlabel('Garage Area', fontsize = 15)"
   ]
  },
  {
   "cell_type": "markdown",
   "metadata": {},
   "source": [
    "We can see that outliers have been removed. "
   ]
  },
  {
   "cell_type": "markdown",
   "metadata": {},
   "source": [
    "## Data Preprocessing"
   ]
  },
  {
   "cell_type": "markdown",
   "metadata": {},
   "source": [
    "#### Skewed Target Variable\n",
    "\n",
    "I will take the log transform of the target variable to eradicate skewness and have a symmetrical dirtrubution as it leads of better prediction model."
   ]
  },
  {
   "cell_type": "code",
   "execution_count": 557,
   "metadata": {},
   "outputs": [],
   "source": [
    "target = df_enc['SalePrice']\n",
    "target= np.log1p(target)"
   ]
  },
  {
   "cell_type": "code",
   "execution_count": 558,
   "metadata": {},
   "outputs": [
    {
     "name": "stdout",
     "output_type": "stream",
     "text": [
      "Skewness before log transform: 1.8855157408676113\n",
      "Kurtosis before log transform: 6.534598282611192\n"
     ]
    }
   ],
   "source": [
    "print(f\"Skewness before log transform: {df_enc['SalePrice'].skew()}\")\n",
    "print(f\"Kurtosis before log transform: {df_enc['SalePrice'].kurt()}\")"
   ]
  },
  {
   "cell_type": "code",
   "execution_count": 657,
   "metadata": {},
   "outputs": [
    {
     "name": "stdout",
     "output_type": "stream",
     "text": [
      "Skewness after log transform: 0.12516257969329844\n",
      "Kurtosis after log transform: 0.8128307268373107\n"
     ]
    }
   ],
   "source": [
    "print(f\"Skewness after log transform: {target.skew()}\")\n",
    "print(f\"Kurtosis after log transform: {target.kurt()}\")"
   ]
  },
  {
   "cell_type": "code",
   "execution_count": 656,
   "metadata": {},
   "outputs": [
    {
     "data": {
      "image/png": "[encoded data removed]",
      "text/plain": [
       "<Figure size 1080x360 with 2 Axes>"
      ]
     },
     "metadata": {
      "needs_background": "light"
     },
     "output_type": "display_data"
    }
   ],
   "source": [
    "plt.figure(figsize = (15,5))\n",
    "ax1 = plt.subplot2grid((1,2),(0,0))\n",
    "plt.hist(df.SalePrice)\n",
    "plt.title(\"Target Value distribution before normalization\", weight = 'bold')\n",
    "\n",
    "ax1 = plt.subplot2grid((1,2),(0,1))\n",
    "plt.hist(target)\n",
    "plt.title(\"Target Value distribution after normalization\", weight = 'bold')\n",
    "plt.show()"
   ]
  },
  {
   "cell_type": "markdown",
   "metadata": {},
   "source": [
    "#### Defining features and target variables"
   ]
  },
  {
   "cell_type": "code",
   "execution_count": 560,
   "metadata": {},
   "outputs": [],
   "source": [
    "y = np.array(target)"
   ]
  },
  {
   "cell_type": "code",
   "execution_count": 561,
   "metadata": {},
   "outputs": [],
   "source": [
    "df_enc.drop(['SalePrice'], axis =1, inplace = True)\n",
    "df_enc.drop(['Id'], axis =1, inplace = True)"
   ]
  },
  {
   "cell_type": "code",
   "execution_count": 562,
   "metadata": {},
   "outputs": [],
   "source": [
    "X = df_enc"
   ]
  },
  {
   "cell_type": "markdown",
   "metadata": {},
   "source": [
    "## Machine Learning"
   ]
  },
  {
   "cell_type": "markdown",
   "metadata": {},
   "source": [
    "Splitting the Dataset into train (80%) and test (20%) sets"
   ]
  },
  {
   "cell_type": "code",
   "execution_count": 563,
   "metadata": {},
   "outputs": [],
   "source": [
    "X_train, X_test, y_train, y_test = train_test_split(X, y,test_size = .2, random_state=0)"
   ]
  },
  {
   "cell_type": "code",
   "execution_count": 564,
   "metadata": {},
   "outputs": [
    {
     "data": {
      "text/plain": [
       "(1163,)"
      ]
     },
     "execution_count": 564,
     "metadata": {},
     "output_type": "execute_result"
    }
   ],
   "source": [
    "y_train.shape"
   ]
  },
  {
   "cell_type": "code",
   "execution_count": 565,
   "metadata": {},
   "outputs": [],
   "source": [
    "scaler = RobustScaler()\n",
    "X_train = scaler.fit_transform(X_train)\n",
    "X_test = scaler.transform(X_test)"
   ]
  },
  {
   "cell_type": "markdown",
   "metadata": {},
   "source": [
    "### Models\n",
    "\n",
    "We will start with linear Regression models with regularization"
   ]
  },
  {
   "cell_type": "markdown",
   "metadata": {},
   "source": [
    "Metric: Root Mean Square Error(RMSE)"
   ]
  },
  {
   "cell_type": "code",
   "execution_count": 566,
   "metadata": {},
   "outputs": [],
   "source": [
    "def score(y_preds):\n",
    "    RMSE = str(np.sqrt(metrics.mean_squared_error(y_test, y_preds)))\n",
    "    return RMSE"
   ]
  },
  {
   "cell_type": "code",
   "execution_count": 567,
   "metadata": {},
   "outputs": [],
   "source": [
    "#Defining the RMSE function for cross validation\n",
    "def rmse_cv(model):\n",
    "    rmse= np.sqrt(-cross_val_score(model, X_train, y_train, scoring=\"neg_mean_squared_error\", cv = 5))\n",
    "    return(rmse)"
   ]
  },
  {
   "cell_type": "markdown",
   "metadata": {},
   "source": [
    "#### Ridge Regression\n",
    "\n",
    "Ridge regression implements the following function\n",
    "||y - Xw||^2_2 + alpha * ||w||^2_2\n",
    "\n",
    "where alpha is the regularization parameter. Higher the alpha, the less prone the model will be to overfitting. However, higher alpha might cause our model to have higher bias, therefore will will tune this hyperparameter."
   ]
  },
  {
   "cell_type": "markdown",
   "metadata": {},
   "source": [
    "Tuning the hypermeter alpha for the lowest RMSE score."
   ]
  },
  {
   "cell_type": "code",
   "execution_count": 702,
   "metadata": {},
   "outputs": [],
   "source": [
    "alphas = [0.03, 0.1, 0.3, 1, 3, 5, 10, 15, 20, 30, 40, 50, 60, 70, 80, 90]\n",
    "cv_ridge = [rmse_cv(Ridge(alpha = alpha)).mean() for alpha in alphas]"
   ]
  },
  {
   "cell_type": "markdown",
   "metadata": {},
   "source": [
    "Let's plot the RMSE for the range of alpha values"
   ]
  },
  {
   "cell_type": "code",
   "execution_count": 703,
   "metadata": {},
   "outputs": [
    {
     "data": {
      "text/plain": [
       "Text(0, 0.5, 'RMSE')"
      ]
     },
     "execution_count": 703,
     "metadata": {},
     "output_type": "execute_result"
    },
    {
     "data": {
      "image/png": "[encoded data removed]",
      "text/plain": [
       "<Figure size 432x288 with 1 Axes>"
      ]
     },
     "metadata": {
      "needs_background": "light"
     },
     "output_type": "display_data"
    }
   ],
   "source": [
    "cv_ridge = pd.Series(cv_ridge, index = alphas)\n",
    "cv_ridge.plot(title = \"Alpha Tuning\")\n",
    "plt.xlabel(\"alpha\")\n",
    "plt.ylabel(\"RMSE\")"
   ]
  },
  {
   "cell_type": "markdown",
   "metadata": {},
   "source": [
    "Lowest RMSE is observed at alpha = 20 so let's predict output for X_test with alpha = 20"
   ]
  },
  {
   "cell_type": "code",
   "execution_count": 615,
   "metadata": {},
   "outputs": [],
   "source": [
    "ridge_mod=Ridge(alpha=20)\n",
    "ridge_mod.fit(X_train,y_train)\n",
    "y_pred_train_ridge=ridge_mod.predict(X_train)\n",
    "y_pred_test_ridge=ridge_mod.predict(X_test)"
   ]
  },
  {
   "cell_type": "code",
   "execution_count": 616,
   "metadata": {},
   "outputs": [
    {
     "name": "stdout",
     "output_type": "stream",
     "text": [
      "Root Mean Square Error train =  0.08904796404662939\n",
      "Root Mean Square Error test =  0.12088834359658635\n"
     ]
    }
   ],
   "source": [
    "print(f'Root Mean Square Error train =  {str(math.sqrt(metrics.mean_squared_error(y_train, y_pred_train_ridge)))}')\n",
    "print(f'Root Mean Square Error test =  {score(y_pred_test_ridge)}') "
   ]
  },
  {
   "cell_type": "markdown",
   "metadata": {},
   "source": [
    "Let's restore the y_test and y_preds by taking exponential "
   ]
  },
  {
   "cell_type": "code",
   "execution_count": 618,
   "metadata": {},
   "outputs": [],
   "source": [
    "y_preds_res_rg = np.expm1(y_pred_test_ridge)\n",
    "y_preds_res_rg = np.rint(y_preds_res_rg).astype(int)\n",
    "y_test_res = np.expm1(y_test)"
   ]
  },
  {
   "cell_type": "markdown",
   "metadata": {},
   "source": [
    "Let's define a function to show a dataframe comparing the actual and predicted values"
   ]
  },
  {
   "cell_type": "code",
   "execution_count": 619,
   "metadata": {},
   "outputs": [],
   "source": [
    "def comp_pred(y_preds):\n",
    "    preds_data = {'Actual':y_test_res.flatten(), 'Predicted':y_preds.flatten()}\n",
    "    df_pred = pd.DataFrame(preds_data)\n",
    "    df_pred_20 = df_pred.head(20)\n",
    "    return df_pred_20"
   ]
  },
  {
   "cell_type": "code",
   "execution_count": 621,
   "metadata": {},
   "outputs": [
    {
     "data": {
      "text/html": [
       "<div>\n",
       "<style scoped>\n",
       "    .dataframe tbody tr th:only-of-type {\n",
       "        vertical-align: middle;\n",
       "    }\n",
       "\n",
       "    .dataframe tbody tr th {\n",
       "        vertical-align: top;\n",
       "    }\n",
       "\n",
       "    .dataframe thead th {\n",
       "        text-align: right;\n",
       "    }\n",
       "</style>\n",
       "<table border=\"1\" class=\"dataframe\">\n",
       "  <thead>\n",
       "    <tr style=\"text-align: right;\">\n",
       "      <th></th>\n",
       "      <th>Actual</th>\n",
       "      <th>Predicted</th>\n",
       "    </tr>\n",
       "  </thead>\n",
       "  <tbody>\n",
       "    <tr>\n",
       "      <th>0</th>\n",
       "      <td>160000.0</td>\n",
       "      <td>124622</td>\n",
       "    </tr>\n",
       "    <tr>\n",
       "      <th>1</th>\n",
       "      <td>147500.0</td>\n",
       "      <td>150881</td>\n",
       "    </tr>\n",
       "    <tr>\n",
       "      <th>2</th>\n",
       "      <td>225000.0</td>\n",
       "      <td>228260</td>\n",
       "    </tr>\n",
       "    <tr>\n",
       "      <th>3</th>\n",
       "      <td>297000.0</td>\n",
       "      <td>299312</td>\n",
       "    </tr>\n",
       "    <tr>\n",
       "      <th>4</th>\n",
       "      <td>274725.0</td>\n",
       "      <td>254430</td>\n",
       "    </tr>\n",
       "    <tr>\n",
       "      <th>5</th>\n",
       "      <td>320000.0</td>\n",
       "      <td>305954</td>\n",
       "    </tr>\n",
       "    <tr>\n",
       "      <th>6</th>\n",
       "      <td>187500.0</td>\n",
       "      <td>181258</td>\n",
       "    </tr>\n",
       "    <tr>\n",
       "      <th>7</th>\n",
       "      <td>239000.0</td>\n",
       "      <td>251340</td>\n",
       "    </tr>\n",
       "    <tr>\n",
       "      <th>8</th>\n",
       "      <td>173500.0</td>\n",
       "      <td>178082</td>\n",
       "    </tr>\n",
       "    <tr>\n",
       "      <th>9</th>\n",
       "      <td>186700.0</td>\n",
       "      <td>204473</td>\n",
       "    </tr>\n",
       "    <tr>\n",
       "      <th>10</th>\n",
       "      <td>186000.0</td>\n",
       "      <td>164248</td>\n",
       "    </tr>\n",
       "    <tr>\n",
       "      <th>11</th>\n",
       "      <td>149350.0</td>\n",
       "      <td>137831</td>\n",
       "    </tr>\n",
       "    <tr>\n",
       "      <th>12</th>\n",
       "      <td>109500.0</td>\n",
       "      <td>104160</td>\n",
       "    </tr>\n",
       "    <tr>\n",
       "      <th>13</th>\n",
       "      <td>314813.0</td>\n",
       "      <td>327887</td>\n",
       "    </tr>\n",
       "    <tr>\n",
       "      <th>14</th>\n",
       "      <td>277500.0</td>\n",
       "      <td>275837</td>\n",
       "    </tr>\n",
       "    <tr>\n",
       "      <th>15</th>\n",
       "      <td>239000.0</td>\n",
       "      <td>271204</td>\n",
       "    </tr>\n",
       "    <tr>\n",
       "      <th>16</th>\n",
       "      <td>144000.0</td>\n",
       "      <td>131053</td>\n",
       "    </tr>\n",
       "    <tr>\n",
       "      <th>17</th>\n",
       "      <td>221500.0</td>\n",
       "      <td>235022</td>\n",
       "    </tr>\n",
       "    <tr>\n",
       "      <th>18</th>\n",
       "      <td>145250.0</td>\n",
       "      <td>145800</td>\n",
       "    </tr>\n",
       "    <tr>\n",
       "      <th>19</th>\n",
       "      <td>177500.0</td>\n",
       "      <td>166216</td>\n",
       "    </tr>\n",
       "  </tbody>\n",
       "</table>\n",
       "</div>"
      ],
      "text/plain": [
       "      Actual  Predicted\n",
       "0   160000.0     124622\n",
       "1   147500.0     150881\n",
       "2   225000.0     228260\n",
       "3   297000.0     299312\n",
       "4   274725.0     254430\n",
       "5   320000.0     305954\n",
       "6   187500.0     181258\n",
       "7   239000.0     251340\n",
       "8   173500.0     178082\n",
       "9   186700.0     204473\n",
       "10  186000.0     164248\n",
       "11  149350.0     137831\n",
       "12  109500.0     104160\n",
       "13  314813.0     327887\n",
       "14  277500.0     275837\n",
       "15  239000.0     271204\n",
       "16  144000.0     131053\n",
       "17  221500.0     235022\n",
       "18  145250.0     145800\n",
       "19  177500.0     166216"
      ]
     },
     "execution_count": 621,
     "metadata": {},
     "output_type": "execute_result"
    }
   ],
   "source": [
    "df_pred = comp_pred(y_preds_res_rg)\n",
    "df_pred"
   ]
  },
  {
   "cell_type": "markdown",
   "metadata": {},
   "source": [
    "Let's plot the comparison"
   ]
  },
  {
   "cell_type": "code",
   "execution_count": 622,
   "metadata": {},
   "outputs": [],
   "source": [
    "def plot_preds(df_pred):\n",
    "    df_pred.plot(kind='bar',figsize=(10,8))\n",
    "    plt.title(\"Actual and Predicted Sales Price\", fontsize = 15, weight = 'bold')\n",
    "    plt.ylabel(\"Sales Price\", fontsize = 15)\n",
    "    plt.show()"
   ]
  },
  {
   "cell_type": "code",
   "execution_count": 623,
   "metadata": {},
   "outputs": [
    {
     "data": {
      "image/png": "[encoded data removed]",
      "text/plain": [
       "<Figure size 720x576 with 1 Axes>"
      ]
     },
     "metadata": {
      "needs_background": "light"
     },
     "output_type": "display_data"
    }
   ],
   "source": [
    "plot_preds(df_pred)"
   ]
  },
  {
   "cell_type": "markdown",
   "metadata": {},
   "source": [
    "#### Lasso Regression\n",
    "    The optimization objective for Lasso is:\n",
    "    (1 / (2 * n_samples)) * ||y - Xw||^2_2 + alpha * ||w||_1"
   ]
  },
  {
   "cell_type": "markdown",
   "metadata": {},
   "source": [
    "As we did before, let's tune the hyperparameter alpha"
   ]
  },
  {
   "cell_type": "code",
   "execution_count": null,
   "metadata": {},
   "outputs": [],
   "source": [
    "alphas = [0.0001, 0.0003, 0.0009, 0.001, 0.003, 0.009, 0.01, 0.03, 0.09, 0.1, 1, 3, 9, 30, 90]\n",
    "cv_lasso = [rmse_cv(Lasso(alpha = alpha)).mean() for alpha in alphas]"
   ]
  },
  {
   "cell_type": "code",
   "execution_count": 596,
   "metadata": {},
   "outputs": [
    {
     "data": {
      "text/plain": [
       "0.0001     0.117672\n",
       "0.0003     0.112088\n",
       "0.0009     0.109891\n",
       "0.0010     0.110384\n",
       "0.0030     0.119341\n",
       "0.0090     0.129603\n",
       "0.0100     0.130662\n",
       "0.0300     0.156397\n",
       "0.0900     0.220814\n",
       "0.1000     0.232822\n",
       "1.0000     0.393734\n",
       "3.0000     0.396593\n",
       "9.0000     0.397351\n",
       "30.0000    0.397351\n",
       "90.0000    0.397351\n",
       "dtype: float64"
      ]
     },
     "execution_count": 596,
     "metadata": {},
     "output_type": "execute_result"
    }
   ],
   "source": [
    "cv_lasso"
   ]
  },
  {
   "cell_type": "markdown",
   "metadata": {},
   "source": [
    "The best value of Alpha: 0.0009 "
   ]
  },
  {
   "cell_type": "code",
   "execution_count": 638,
   "metadata": {},
   "outputs": [],
   "source": [
    "lasso_mod=Lasso(alpha=0.0009)\n",
    "lasso_mod.fit(X_train,y_train)\n",
    "y_pred_train_lasso=lasso_mod.predict(X_train)\n",
    "y_pred_test_lasso=lasso_mod.predict(X_test)"
   ]
  },
  {
   "cell_type": "code",
   "execution_count": 644,
   "metadata": {},
   "outputs": [
    {
     "name": "stdout",
     "output_type": "stream",
     "text": [
      "Root Mean Square Error train =  0.09988629712953333\n",
      "Root Mean Square Error test =  0.1208198435745864\n"
     ]
    }
   ],
   "source": [
    "print(f'Root Mean Square Error train =  {str(math.sqrt(metrics.mean_squared_error(y_train, y_pred_train_lasso)))}')\n",
    "print(f'Root Mean Square Error test =  {score(y_pred_test_lasso)}') "
   ]
  },
  {
   "cell_type": "code",
   "execution_count": 645,
   "metadata": {},
   "outputs": [],
   "source": [
    "y_preds_res_ls = np.expm1(y_pred_test_lasso)\n",
    "y_preds_res_ls = np.rint(y_preds_res_ls).astype(int)"
   ]
  },
  {
   "cell_type": "markdown",
   "metadata": {},
   "source": [
    "Actual and Predicted values using Lasso Regression for first 20 test examples"
   ]
  },
  {
   "cell_type": "code",
   "execution_count": 646,
   "metadata": {},
   "outputs": [
    {
     "data": {
      "text/html": [
       "<div>\n",
       "<style scoped>\n",
       "    .dataframe tbody tr th:only-of-type {\n",
       "        vertical-align: middle;\n",
       "    }\n",
       "\n",
       "    .dataframe tbody tr th {\n",
       "        vertical-align: top;\n",
       "    }\n",
       "\n",
       "    .dataframe thead th {\n",
       "        text-align: right;\n",
       "    }\n",
       "</style>\n",
       "<table border=\"1\" class=\"dataframe\">\n",
       "  <thead>\n",
       "    <tr style=\"text-align: right;\">\n",
       "      <th></th>\n",
       "      <th>Actual</th>\n",
       "      <th>Predicted</th>\n",
       "    </tr>\n",
       "  </thead>\n",
       "  <tbody>\n",
       "    <tr>\n",
       "      <th>0</th>\n",
       "      <td>160000.0</td>\n",
       "      <td>129105</td>\n",
       "    </tr>\n",
       "    <tr>\n",
       "      <th>1</th>\n",
       "      <td>147500.0</td>\n",
       "      <td>151814</td>\n",
       "    </tr>\n",
       "    <tr>\n",
       "      <th>2</th>\n",
       "      <td>225000.0</td>\n",
       "      <td>227040</td>\n",
       "    </tr>\n",
       "    <tr>\n",
       "      <th>3</th>\n",
       "      <td>297000.0</td>\n",
       "      <td>299467</td>\n",
       "    </tr>\n",
       "    <tr>\n",
       "      <th>4</th>\n",
       "      <td>274725.0</td>\n",
       "      <td>254259</td>\n",
       "    </tr>\n",
       "    <tr>\n",
       "      <th>5</th>\n",
       "      <td>320000.0</td>\n",
       "      <td>306960</td>\n",
       "    </tr>\n",
       "    <tr>\n",
       "      <th>6</th>\n",
       "      <td>187500.0</td>\n",
       "      <td>186694</td>\n",
       "    </tr>\n",
       "    <tr>\n",
       "      <th>7</th>\n",
       "      <td>239000.0</td>\n",
       "      <td>253127</td>\n",
       "    </tr>\n",
       "    <tr>\n",
       "      <th>8</th>\n",
       "      <td>173500.0</td>\n",
       "      <td>174838</td>\n",
       "    </tr>\n",
       "    <tr>\n",
       "      <th>9</th>\n",
       "      <td>186700.0</td>\n",
       "      <td>210651</td>\n",
       "    </tr>\n",
       "    <tr>\n",
       "      <th>10</th>\n",
       "      <td>186000.0</td>\n",
       "      <td>164864</td>\n",
       "    </tr>\n",
       "    <tr>\n",
       "      <th>11</th>\n",
       "      <td>149350.0</td>\n",
       "      <td>134232</td>\n",
       "    </tr>\n",
       "    <tr>\n",
       "      <th>12</th>\n",
       "      <td>109500.0</td>\n",
       "      <td>98441</td>\n",
       "    </tr>\n",
       "    <tr>\n",
       "      <th>13</th>\n",
       "      <td>314813.0</td>\n",
       "      <td>323362</td>\n",
       "    </tr>\n",
       "    <tr>\n",
       "      <th>14</th>\n",
       "      <td>277500.0</td>\n",
       "      <td>272048</td>\n",
       "    </tr>\n",
       "    <tr>\n",
       "      <th>15</th>\n",
       "      <td>239000.0</td>\n",
       "      <td>276689</td>\n",
       "    </tr>\n",
       "    <tr>\n",
       "      <th>16</th>\n",
       "      <td>144000.0</td>\n",
       "      <td>129935</td>\n",
       "    </tr>\n",
       "    <tr>\n",
       "      <th>17</th>\n",
       "      <td>221500.0</td>\n",
       "      <td>234124</td>\n",
       "    </tr>\n",
       "    <tr>\n",
       "      <th>18</th>\n",
       "      <td>145250.0</td>\n",
       "      <td>144150</td>\n",
       "    </tr>\n",
       "    <tr>\n",
       "      <th>19</th>\n",
       "      <td>177500.0</td>\n",
       "      <td>167404</td>\n",
       "    </tr>\n",
       "  </tbody>\n",
       "</table>\n",
       "</div>"
      ],
      "text/plain": [
       "      Actual  Predicted\n",
       "0   160000.0     129105\n",
       "1   147500.0     151814\n",
       "2   225000.0     227040\n",
       "3   297000.0     299467\n",
       "4   274725.0     254259\n",
       "5   320000.0     306960\n",
       "6   187500.0     186694\n",
       "7   239000.0     253127\n",
       "8   173500.0     174838\n",
       "9   186700.0     210651\n",
       "10  186000.0     164864\n",
       "11  149350.0     134232\n",
       "12  109500.0      98441\n",
       "13  314813.0     323362\n",
       "14  277500.0     272048\n",
       "15  239000.0     276689\n",
       "16  144000.0     129935\n",
       "17  221500.0     234124\n",
       "18  145250.0     144150\n",
       "19  177500.0     167404"
      ]
     },
     "execution_count": 646,
     "metadata": {},
     "output_type": "execute_result"
    }
   ],
   "source": [
    "df_pred_lasso = comp_pred(y_preds_res_ls)\n",
    "df_pred_lasso"
   ]
  },
  {
   "cell_type": "markdown",
   "metadata": {},
   "source": [
    "Let's plot the comparison for Lasso Regression"
   ]
  },
  {
   "cell_type": "code",
   "execution_count": 647,
   "metadata": {},
   "outputs": [
    {
     "data": {
      "image/png": "[encoded data removed]",
      "text/plain": [
       "<Figure size 720x576 with 1 Axes>"
      ]
     },
     "metadata": {
      "needs_background": "light"
     },
     "output_type": "display_data"
    }
   ],
   "source": [
    "plot_preds(df_pred_lasso)"
   ]
  },
  {
   "cell_type": "markdown",
   "metadata": {},
   "source": [
    "#### Random Forest Regressor\n",
    "\n",
    "A random forest is a meta estimator that fits a number of classifying decision trees on various sub-samples of the dataset and uses averaging to improve the predictive accuracy and control over-fitting."
   ]
  },
  {
   "cell_type": "code",
   "execution_count": 716,
   "metadata": {},
   "outputs": [],
   "source": [
    "rf_model = RandomForestRegressor(n_estimators = 500, random_state = 0)\n",
    "rf_model.fit(X_train, y_train)\n",
    "y_pred_train_rf=rf_model.predict(X_train)\n",
    "y_pred_test_rf=rf_model.predict(X_test)"
   ]
  },
  {
   "cell_type": "code",
   "execution_count": 717,
   "metadata": {},
   "outputs": [
    {
     "name": "stdout",
     "output_type": "stream",
     "text": [
      "Root Mean Square Error train =  0.049725421871644554\n",
      "Root Mean Square Error test =  0.14530837414214598\n"
     ]
    }
   ],
   "source": [
    "print(f'Root Mean Square Error train =  {str(math.sqrt(metrics.mean_squared_error(y_train, y_pred_train_rf)))}')\n",
    "print(f'Root Mean Square Error test =  {score(y_pred_test_rf)}') "
   ]
  },
  {
   "cell_type": "markdown",
   "metadata": {},
   "source": [
    "We can see that model has overfit the training data. I manually played with number of parameters such as n_estimators, max_samples, num_features etc but RMSE for test test did not get lower. My observation is that we need a larger dataset to tackle overfitting here. "
   ]
  },
  {
   "cell_type": "code",
   "execution_count": 696,
   "metadata": {},
   "outputs": [],
   "source": [
    "y_preds_res_rf = np.expm1(y_pred_test_rf)\n",
    "y_preds_res_rf = np.rint(y_preds_res_rf).astype(int)"
   ]
  },
  {
   "cell_type": "markdown",
   "metadata": {},
   "source": [
    "Actual and Predicted values using Random Forrest Regressor for first 20 test examples"
   ]
  },
  {
   "cell_type": "code",
   "execution_count": 697,
   "metadata": {},
   "outputs": [
    {
     "data": {
      "text/html": [
       "<div>\n",
       "<style scoped>\n",
       "    .dataframe tbody tr th:only-of-type {\n",
       "        vertical-align: middle;\n",
       "    }\n",
       "\n",
       "    .dataframe tbody tr th {\n",
       "        vertical-align: top;\n",
       "    }\n",
       "\n",
       "    .dataframe thead th {\n",
       "        text-align: right;\n",
       "    }\n",
       "</style>\n",
       "<table border=\"1\" class=\"dataframe\">\n",
       "  <thead>\n",
       "    <tr style=\"text-align: right;\">\n",
       "      <th></th>\n",
       "      <th>Actual</th>\n",
       "      <th>Predicted</th>\n",
       "    </tr>\n",
       "  </thead>\n",
       "  <tbody>\n",
       "    <tr>\n",
       "      <th>0</th>\n",
       "      <td>160000.0</td>\n",
       "      <td>142850</td>\n",
       "    </tr>\n",
       "    <tr>\n",
       "      <th>1</th>\n",
       "      <td>147500.0</td>\n",
       "      <td>149289</td>\n",
       "    </tr>\n",
       "    <tr>\n",
       "      <th>2</th>\n",
       "      <td>225000.0</td>\n",
       "      <td>228618</td>\n",
       "    </tr>\n",
       "    <tr>\n",
       "      <th>3</th>\n",
       "      <td>297000.0</td>\n",
       "      <td>314321</td>\n",
       "    </tr>\n",
       "    <tr>\n",
       "      <th>4</th>\n",
       "      <td>274725.0</td>\n",
       "      <td>232598</td>\n",
       "    </tr>\n",
       "    <tr>\n",
       "      <th>5</th>\n",
       "      <td>320000.0</td>\n",
       "      <td>334398</td>\n",
       "    </tr>\n",
       "    <tr>\n",
       "      <th>6</th>\n",
       "      <td>187500.0</td>\n",
       "      <td>198573</td>\n",
       "    </tr>\n",
       "    <tr>\n",
       "      <th>7</th>\n",
       "      <td>239000.0</td>\n",
       "      <td>249505</td>\n",
       "    </tr>\n",
       "    <tr>\n",
       "      <th>8</th>\n",
       "      <td>173500.0</td>\n",
       "      <td>178159</td>\n",
       "    </tr>\n",
       "    <tr>\n",
       "      <th>9</th>\n",
       "      <td>186700.0</td>\n",
       "      <td>178504</td>\n",
       "    </tr>\n",
       "    <tr>\n",
       "      <th>10</th>\n",
       "      <td>186000.0</td>\n",
       "      <td>178116</td>\n",
       "    </tr>\n",
       "    <tr>\n",
       "      <th>11</th>\n",
       "      <td>149350.0</td>\n",
       "      <td>142395</td>\n",
       "    </tr>\n",
       "    <tr>\n",
       "      <th>12</th>\n",
       "      <td>109500.0</td>\n",
       "      <td>99211</td>\n",
       "    </tr>\n",
       "    <tr>\n",
       "      <th>13</th>\n",
       "      <td>314813.0</td>\n",
       "      <td>334015</td>\n",
       "    </tr>\n",
       "    <tr>\n",
       "      <th>14</th>\n",
       "      <td>277500.0</td>\n",
       "      <td>287157</td>\n",
       "    </tr>\n",
       "    <tr>\n",
       "      <th>15</th>\n",
       "      <td>239000.0</td>\n",
       "      <td>283539</td>\n",
       "    </tr>\n",
       "    <tr>\n",
       "      <th>16</th>\n",
       "      <td>144000.0</td>\n",
       "      <td>147254</td>\n",
       "    </tr>\n",
       "    <tr>\n",
       "      <th>17</th>\n",
       "      <td>221500.0</td>\n",
       "      <td>236363</td>\n",
       "    </tr>\n",
       "    <tr>\n",
       "      <th>18</th>\n",
       "      <td>145250.0</td>\n",
       "      <td>146061</td>\n",
       "    </tr>\n",
       "    <tr>\n",
       "      <th>19</th>\n",
       "      <td>177500.0</td>\n",
       "      <td>171919</td>\n",
       "    </tr>\n",
       "  </tbody>\n",
       "</table>\n",
       "</div>"
      ],
      "text/plain": [
       "      Actual  Predicted\n",
       "0   160000.0     142850\n",
       "1   147500.0     149289\n",
       "2   225000.0     228618\n",
       "3   297000.0     314321\n",
       "4   274725.0     232598\n",
       "5   320000.0     334398\n",
       "6   187500.0     198573\n",
       "7   239000.0     249505\n",
       "8   173500.0     178159\n",
       "9   186700.0     178504\n",
       "10  186000.0     178116\n",
       "11  149350.0     142395\n",
       "12  109500.0      99211\n",
       "13  314813.0     334015\n",
       "14  277500.0     287157\n",
       "15  239000.0     283539\n",
       "16  144000.0     147254\n",
       "17  221500.0     236363\n",
       "18  145250.0     146061\n",
       "19  177500.0     171919"
      ]
     },
     "execution_count": 697,
     "metadata": {},
     "output_type": "execute_result"
    }
   ],
   "source": [
    "df_pred_rf = comp_pred(y_preds_res_rf)\n",
    "df_pred_rf"
   ]
  },
  {
   "cell_type": "code",
   "execution_count": 698,
   "metadata": {},
   "outputs": [
    {
     "data": {
      "image/png": "[encoded data removed]",
      "text/plain": [
       "<Figure size 720x576 with 1 Axes>"
      ]
     },
     "metadata": {
      "needs_background": "light"
     },
     "output_type": "display_data"
    }
   ],
   "source": [
    "plot_preds(df_pred_rf)"
   ]
  },
  {
   "cell_type": "markdown",
   "metadata": {},
   "source": [
    "#### Gradient Boosting Regressor\n",
    "\n",
    "GB builds an additive model in a forward stage-wise fashion; it allows for the optimization of arbitrary differentiable loss functions. In each stage a regression tree is fit on the negative gradient of the given loss function."
   ]
  },
  {
   "cell_type": "code",
   "execution_count": 818,
   "metadata": {},
   "outputs": [],
   "source": [
    "gb_model = GradientBoostingRegressor(loss = 'huber', max_depth = 3, n_estimators = 400, max_features = 'sqrt',random_state = 0)\n",
    "gb_model.fit(X_train, y_train)\n",
    "y_pred_train_gb=gb_model.predict(X_train)\n",
    "y_pred_test_gb=gb_model.predict(X_test)"
   ]
  },
  {
   "cell_type": "code",
   "execution_count": 819,
   "metadata": {},
   "outputs": [
    {
     "name": "stdout",
     "output_type": "stream",
     "text": [
      "Root Mean Square Error train =  0.05730001957388684\n",
      "Root Mean Square Error test =  0.1262748912999154\n"
     ]
    }
   ],
   "source": [
    "print(f'Root Mean Square Error train =  {str(math.sqrt(metrics.mean_squared_error(y_train, y_pred_train_gb)))}')\n",
    "print(f'Root Mean Square Error test =  {score(y_pred_test_gb)}') "
   ]
  },
  {
   "cell_type": "markdown",
   "metadata": {},
   "source": [
    "We see improved performance over Random Forrest Regressor and model has overfit the training data. I manually played with number of parameters such as n_estimators, learning rate, loss fun etc but RMSE for test test did not get lower than 0.12. My observation is that we need a larger dataset to tackle overfitting here."
   ]
  },
  {
   "cell_type": "code",
   "execution_count": 795,
   "metadata": {},
   "outputs": [],
   "source": [
    "y_preds_res_gb = np.expm1(y_pred_test_gb)\n",
    "y_preds_res_gb = np.rint(y_preds_res_gb).astype(int)"
   ]
  },
  {
   "cell_type": "markdown",
   "metadata": {},
   "source": [
    "Actual and Predicted values using Gradient Boosting Regressor for first 20 test examples"
   ]
  },
  {
   "cell_type": "code",
   "execution_count": 796,
   "metadata": {},
   "outputs": [
    {
     "data": {
      "text/html": [
       "<div>\n",
       "<style scoped>\n",
       "    .dataframe tbody tr th:only-of-type {\n",
       "        vertical-align: middle;\n",
       "    }\n",
       "\n",
       "    .dataframe tbody tr th {\n",
       "        vertical-align: top;\n",
       "    }\n",
       "\n",
       "    .dataframe thead th {\n",
       "        text-align: right;\n",
       "    }\n",
       "</style>\n",
       "<table border=\"1\" class=\"dataframe\">\n",
       "  <thead>\n",
       "    <tr style=\"text-align: right;\">\n",
       "      <th></th>\n",
       "      <th>Actual</th>\n",
       "      <th>Predicted</th>\n",
       "    </tr>\n",
       "  </thead>\n",
       "  <tbody>\n",
       "    <tr>\n",
       "      <th>0</th>\n",
       "      <td>160000.0</td>\n",
       "      <td>115336</td>\n",
       "    </tr>\n",
       "    <tr>\n",
       "      <th>1</th>\n",
       "      <td>147500.0</td>\n",
       "      <td>153222</td>\n",
       "    </tr>\n",
       "    <tr>\n",
       "      <th>2</th>\n",
       "      <td>225000.0</td>\n",
       "      <td>227964</td>\n",
       "    </tr>\n",
       "    <tr>\n",
       "      <th>3</th>\n",
       "      <td>297000.0</td>\n",
       "      <td>320734</td>\n",
       "    </tr>\n",
       "    <tr>\n",
       "      <th>4</th>\n",
       "      <td>274725.0</td>\n",
       "      <td>253439</td>\n",
       "    </tr>\n",
       "    <tr>\n",
       "      <th>5</th>\n",
       "      <td>320000.0</td>\n",
       "      <td>328649</td>\n",
       "    </tr>\n",
       "    <tr>\n",
       "      <th>6</th>\n",
       "      <td>187500.0</td>\n",
       "      <td>204442</td>\n",
       "    </tr>\n",
       "    <tr>\n",
       "      <th>7</th>\n",
       "      <td>239000.0</td>\n",
       "      <td>253309</td>\n",
       "    </tr>\n",
       "    <tr>\n",
       "      <th>8</th>\n",
       "      <td>173500.0</td>\n",
       "      <td>174466</td>\n",
       "    </tr>\n",
       "    <tr>\n",
       "      <th>9</th>\n",
       "      <td>186700.0</td>\n",
       "      <td>176607</td>\n",
       "    </tr>\n",
       "    <tr>\n",
       "      <th>10</th>\n",
       "      <td>186000.0</td>\n",
       "      <td>174442</td>\n",
       "    </tr>\n",
       "    <tr>\n",
       "      <th>11</th>\n",
       "      <td>149350.0</td>\n",
       "      <td>139889</td>\n",
       "    </tr>\n",
       "    <tr>\n",
       "      <th>12</th>\n",
       "      <td>109500.0</td>\n",
       "      <td>100483</td>\n",
       "    </tr>\n",
       "    <tr>\n",
       "      <th>13</th>\n",
       "      <td>314813.0</td>\n",
       "      <td>336556</td>\n",
       "    </tr>\n",
       "    <tr>\n",
       "      <th>14</th>\n",
       "      <td>277500.0</td>\n",
       "      <td>266079</td>\n",
       "    </tr>\n",
       "    <tr>\n",
       "      <th>15</th>\n",
       "      <td>239000.0</td>\n",
       "      <td>247548</td>\n",
       "    </tr>\n",
       "    <tr>\n",
       "      <th>16</th>\n",
       "      <td>144000.0</td>\n",
       "      <td>140583</td>\n",
       "    </tr>\n",
       "    <tr>\n",
       "      <th>17</th>\n",
       "      <td>221500.0</td>\n",
       "      <td>243931</td>\n",
       "    </tr>\n",
       "    <tr>\n",
       "      <th>18</th>\n",
       "      <td>145250.0</td>\n",
       "      <td>142292</td>\n",
       "    </tr>\n",
       "    <tr>\n",
       "      <th>19</th>\n",
       "      <td>177500.0</td>\n",
       "      <td>177863</td>\n",
       "    </tr>\n",
       "  </tbody>\n",
       "</table>\n",
       "</div>"
      ],
      "text/plain": [
       "      Actual  Predicted\n",
       "0   160000.0     115336\n",
       "1   147500.0     153222\n",
       "2   225000.0     227964\n",
       "3   297000.0     320734\n",
       "4   274725.0     253439\n",
       "5   320000.0     328649\n",
       "6   187500.0     204442\n",
       "7   239000.0     253309\n",
       "8   173500.0     174466\n",
       "9   186700.0     176607\n",
       "10  186000.0     174442\n",
       "11  149350.0     139889\n",
       "12  109500.0     100483\n",
       "13  314813.0     336556\n",
       "14  277500.0     266079\n",
       "15  239000.0     247548\n",
       "16  144000.0     140583\n",
       "17  221500.0     243931\n",
       "18  145250.0     142292\n",
       "19  177500.0     177863"
      ]
     },
     "execution_count": 796,
     "metadata": {},
     "output_type": "execute_result"
    }
   ],
   "source": [
    "df_pred_gb = comp_pred(y_preds_res_gb)\n",
    "df_pred_gb"
   ]
  },
  {
   "cell_type": "code",
   "execution_count": 797,
   "metadata": {},
   "outputs": [
    {
     "data": {
      "image/png": "[encoded data removed]",
      "text/plain": [
       "<Figure size 720x576 with 1 Axes>"
      ]
     },
     "metadata": {
      "needs_background": "light"
     },
     "output_type": "display_data"
    }
   ],
   "source": [
    "plot_preds(df_pred_gb)"
   ]
  },
  {
   "cell_type": "markdown",
   "metadata": {},
   "source": [
    "#### XGBRegressor"
   ]
  },
  {
   "cell_type": "code",
   "execution_count": 860,
   "metadata": {},
   "outputs": [],
   "source": [
    "xg_model = xgb.XGBRegressor(objective ='reg:squarederror', colsample_bytree = 0.3, learning_rate = 0.01,\n",
    "                max_depth = 3, alpha = 15, n_estimators = 8000, reg_alpha=0.0001, reg_lambda=0.2)\n",
    "xg_model.fit(X_train, y_train)\n",
    "y_pred_train_xg=xg_model.predict(X_train)\n",
    "y_pred_test_xg=xg_model.predict(X_test)"
   ]
  },
  {
   "cell_type": "code",
   "execution_count": 861,
   "metadata": {},
   "outputs": [
    {
     "name": "stdout",
     "output_type": "stream",
     "text": [
      "Root Mean Square Error train =  0.025777323638681675\n",
      "Root Mean Square Error test =  0.1257817197836104\n"
     ]
    }
   ],
   "source": [
    "print(f'Root Mean Square Error train =  {str(math.sqrt(metrics.mean_squared_error(y_train, y_pred_train_xg)))}')\n",
    "print(f'Root Mean Square Error test =  {score(y_pred_test_xg)}') "
   ]
  },
  {
   "cell_type": "markdown",
   "metadata": {},
   "source": [
    "We see improved performance over basic Gradient Boosting but model has overfit the training data. I manually tuned the hyper parameters but further tuning can be performed to improve the performance. However, gathering a larger dataset will significantly improve the model performance."
   ]
  },
  {
   "cell_type": "code",
   "execution_count": 870,
   "metadata": {},
   "outputs": [],
   "source": [
    "y_preds_res_xg = np.expm1(y_pred_test_xg)\n",
    "y_preds_res_xg = np.rint(y_preds_res_xg).astype(int)"
   ]
  },
  {
   "cell_type": "code",
   "execution_count": 872,
   "metadata": {},
   "outputs": [
    {
     "data": {
      "image/png": "[encoded data removed]",
      "text/plain": [
       "<Figure size 720x576 with 1 Axes>"
      ]
     },
     "metadata": {
      "needs_background": "light"
     },
     "output_type": "display_data"
    }
   ],
   "source": [
    "df_pred_xg = comp_pred(y_preds_res_xg)\n",
    "plot_preds(df_pred_xg)"
   ]
  }
 ],
 "metadata": {
  "kernelspec": {
   "display_name": "Python 3",
   "language": "python",
   "name": "python3"
  },
  "language_info": {
   "codemirror_mode": {
    "name": "ipython",
    "version": 3
   },
   "file_extension": ".py",
   "mimetype": "text/x-python",
   "name": "python",
   "nbconvert_exporter": "python",
   "pygments_lexer": "ipython3",
   "version": "3.8.3"
  }
 },
 "nbformat": 4,
 "nbformat_minor": 4
}
