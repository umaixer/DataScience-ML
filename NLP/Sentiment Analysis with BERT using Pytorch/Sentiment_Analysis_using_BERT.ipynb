{
  "nbformat": 4,
  "nbformat_minor": 0,
  "metadata": {
    "kernelspec": {
      "display_name": "Python 3",
      "language": "python",
      "name": "python3"
    },
    "language_info": {
      "codemirror_mode": {
        "name": "ipython",
        "version": 3
      },
      "file_extension": ".py",
      "mimetype": "text/x-python",
      "name": "python",
      "nbconvert_exporter": "python",
      "pygments_lexer": "ipython3",
      "version": "3.8.3"
    },
    "colab": {
      "name": "BERT.ipynb",
      "provenance": [],
      "include_colab_link": true
    },
    "accelerator": "GPU"
  },
  "cells": [
    {
      "cell_type": "markdown",
      "metadata": {
        "id": "view-in-github",
        "colab_type": "text"
      },
      "source": [
        "<a href=\"https://colab.research.google.com/github/umaixer/DataScience-ML/blob/master/NLP/Sentiment%20Analysis%20with%20BERT%20using%20Pytorch/Sentiment_Analysis_using_BERT.ipynb\" target=\"_parent\"><img src=\"https://colab.research.google.com/assets/colab-badge.svg\" alt=\"Open In Colab\"/></a>"
      ]
    },
    {
      "cell_type": "markdown",
      "metadata": {
        "id": "bQZzn4ECb_PH",
        "colab_type": "text"
      },
      "source": [
        "# SENTIMENT ANALYSIS OF 50K IMDB MOVIE REVIEWS"
      ]
    },
    {
      "cell_type": "markdown",
      "metadata": {
        "id": "_Us40Kk1cKxQ",
        "colab_type": "text"
      },
      "source": [
        "**Problem Statement:**\n",
        "We have to predict whether a review is positive or negative based on the review text using a classification model.\n",
        "\n",
        "I am buiding a classifier using BERT model with Pytorch. I will use pre-trained BERT model (implemented by HuggingFace). We will see that this cutting edge algorithm will produce exceptional results."
      ]
    },
    {
      "cell_type": "markdown",
      "metadata": {
        "id": "-of51ACbc5gL",
        "colab_type": "text"
      },
      "source": [
        "Importing necessary libraries"
      ]
    },
    {
      "cell_type": "code",
      "metadata": {
        "id": "In6n6O2n0RB3",
        "colab_type": "code",
        "colab": {
          "base_uri": "https://localhost:8080/",
          "height": 70
        },
        "outputId": "b625fdbc-d958-4b37-bcfd-a8bac9a3b0f4"
      },
      "source": [
        "import transformers\n",
        "from transformers import BertModel, BertTokenizer, AdamW, get_linear_schedule_with_warmup\n",
        "import torch\n",
        "import torch.nn as nn\n",
        "from tqdm import tqdm\n",
        "import pandas as pd\n",
        "import seaborn as sns\n",
        "import numpy as np\n",
        "import re\n",
        "import nltk\n",
        "from nltk.corpus import stopwords\n",
        "from collections import defaultdict\n",
        "from sklearn.model_selection import train_test_split\n",
        "from sklearn.metrics import confusion_matrix, classification_report\n",
        "from torch.autograd import Variable\n",
        "from torch.utils.data import DataLoader, Dataset\n",
        "import matplotlib.pyplot as plt\n",
        "\n",
        "device = torch.device(\"cuda:0\" if torch.cuda.is_available() else \"cpu\")"
      ],
      "execution_count": 1,
      "outputs": [
        {
          "output_type": "stream",
          "text": [
            "/usr/local/lib/python3.6/dist-packages/statsmodels/tools/_testing.py:19: FutureWarning: pandas.util.testing is deprecated. Use the functions in the public API at pandas.testing instead.\n",
            "  import pandas.util.testing as tm\n"
          ],
          "name": "stderr"
        }
      ]
    },
    {
      "cell_type": "markdown",
      "metadata": {
        "id": "l4xzzU2edEOo",
        "colab_type": "text"
      },
      "source": [
        "## **Importing the dataset**"
      ]
    },
    {
      "cell_type": "code",
      "metadata": {
        "scrolled": true,
        "id": "-NLhnWMv0RB9",
        "colab_type": "code",
        "colab": {
          "base_uri": "https://localhost:8080/",
          "height": 195
        },
        "outputId": "8901033a-a0f8-4494-cbe6-7d44aa613c04"
      },
      "source": [
        "df = pd.read_csv('dataset.csv')\n",
        "df.head()"
      ],
      "execution_count": 3,
      "outputs": [
        {
          "output_type": "execute_result",
          "data": {
            "text/html": [
              "<div>\n",
              "<style scoped>\n",
              "    .dataframe tbody tr th:only-of-type {\n",
              "        vertical-align: middle;\n",
              "    }\n",
              "\n",
              "    .dataframe tbody tr th {\n",
              "        vertical-align: top;\n",
              "    }\n",
              "\n",
              "    .dataframe thead th {\n",
              "        text-align: right;\n",
              "    }\n",
              "</style>\n",
              "<table border=\"1\" class=\"dataframe\">\n",
              "  <thead>\n",
              "    <tr style=\"text-align: right;\">\n",
              "      <th></th>\n",
              "      <th>review</th>\n",
              "      <th>sentiment</th>\n",
              "    </tr>\n",
              "  </thead>\n",
              "  <tbody>\n",
              "    <tr>\n",
              "      <th>0</th>\n",
              "      <td>One of the other reviewers has mentioned that ...</td>\n",
              "      <td>positive</td>\n",
              "    </tr>\n",
              "    <tr>\n",
              "      <th>1</th>\n",
              "      <td>A wonderful little production. &lt;br /&gt;&lt;br /&gt;The...</td>\n",
              "      <td>positive</td>\n",
              "    </tr>\n",
              "    <tr>\n",
              "      <th>2</th>\n",
              "      <td>I thought this was a wonderful way to spend ti...</td>\n",
              "      <td>positive</td>\n",
              "    </tr>\n",
              "    <tr>\n",
              "      <th>3</th>\n",
              "      <td>Basically there's a family where a little boy ...</td>\n",
              "      <td>negative</td>\n",
              "    </tr>\n",
              "    <tr>\n",
              "      <th>4</th>\n",
              "      <td>Petter Mattei's \"Love in the Time of Money\" is...</td>\n",
              "      <td>positive</td>\n",
              "    </tr>\n",
              "  </tbody>\n",
              "</table>\n",
              "</div>"
            ],
            "text/plain": [
              "                                              review sentiment\n",
              "0  One of the other reviewers has mentioned that ...  positive\n",
              "1  A wonderful little production. <br /><br />The...  positive\n",
              "2  I thought this was a wonderful way to spend ti...  positive\n",
              "3  Basically there's a family where a little boy ...  negative\n",
              "4  Petter Mattei's \"Love in the Time of Money\" is...  positive"
            ]
          },
          "metadata": {
            "tags": []
          },
          "execution_count": 3
        }
      ]
    },
    {
      "cell_type": "code",
      "metadata": {
        "id": "n96mjfc40RCC",
        "colab_type": "code",
        "colab": {
          "base_uri": "https://localhost:8080/",
          "height": 296
        },
        "outputId": "fa798b86-839b-4342-bbfd-75b99d4d4887"
      },
      "source": [
        "df.info\n",
        "sns.countplot(df.sentiment)"
      ],
      "execution_count": 4,
      "outputs": [
        {
          "output_type": "execute_result",
          "data": {
            "text/plain": [
              "<matplotlib.axes._subplots.AxesSubplot at 0x7f37d7027c88>"
            ]
          },
          "metadata": {
            "tags": []
          },
          "execution_count": 4
        },
        {
          "output_type": "display_data",
          "data": {
            "image/png": "[encoded data removed]",
            "text/plain": [
              "<Figure size 432x288 with 1 Axes>"
            ]
          },
          "metadata": {
            "tags": [],
            "needs_background": "light"
          }
        }
      ]
    },
    {
      "cell_type": "markdown",
      "metadata": {
        "id": "qkJVSPT6dMBr",
        "colab_type": "text"
      },
      "source": [
        "We can see that dataset is almost perfectly balanced, therefore, no need of augmentation"
      ]
    },
    {
      "cell_type": "markdown",
      "metadata": {
        "id": "pO0v09JYdVlk",
        "colab_type": "text"
      },
      "source": [
        "### **Preprocessing and cleaning the data**"
      ]
    },
    {
      "cell_type": "code",
      "metadata": {
        "id": "A9WZCpMm0RCG",
        "colab_type": "code",
        "colab": {}
      },
      "source": [
        "# Converting the labels to binary integers\n",
        "df.sentiment = df.sentiment.apply(\n",
        "    lambda x: 1 if x == \"positive\" else 0)"
      ],
      "execution_count": 5,
      "outputs": []
    },
    {
      "cell_type": "code",
      "metadata": {
        "id": "w-qnDpV0rF7N",
        "colab_type": "code",
        "colab": {}
      },
      "source": [
        "def remove_URL(text):\n",
        "    return re.sub(r'https?://\\S+|www\\.\\S+', '',text)\n",
        "\n",
        "# Remove square brackets\n",
        "def remove_between_square_brackets(text):\n",
        "    return re.sub(r'http\\S+', '', text)\n",
        "\n",
        "# Remove html tags\n",
        "def remove_html(text):\n",
        "    return re.sub(r'<.*?>', '', text)\n",
        "remove_html(\"<h1>Vansh Jatana</h1>\")\n",
        "\n",
        "#remove the noisy text\n",
        "def remove_noise(text):\n",
        "    text = remove_URL(text)\n",
        "    text = remove_between_square_brackets(text)\n",
        "    text = remove_html(text)\n",
        "    return text\n",
        "\n",
        "#Apply the remove_noise function \n",
        "df['review'] = df['review'].apply(remove_noise)"
      ],
      "execution_count": 6,
      "outputs": []
    },
    {
      "cell_type": "code",
      "metadata": {
        "id": "fntXarXK0RCO",
        "colab_type": "code",
        "colab": {
          "base_uri": "https://localhost:8080/",
          "height": 195
        },
        "outputId": "e19270ee-3f47-4f9a-bad0-3d108c81f166"
      },
      "source": [
        "df.head()"
      ],
      "execution_count": 7,
      "outputs": [
        {
          "output_type": "execute_result",
          "data": {
            "text/html": [
              "<div>\n",
              "<style scoped>\n",
              "    .dataframe tbody tr th:only-of-type {\n",
              "        vertical-align: middle;\n",
              "    }\n",
              "\n",
              "    .dataframe tbody tr th {\n",
              "        vertical-align: top;\n",
              "    }\n",
              "\n",
              "    .dataframe thead th {\n",
              "        text-align: right;\n",
              "    }\n",
              "</style>\n",
              "<table border=\"1\" class=\"dataframe\">\n",
              "  <thead>\n",
              "    <tr style=\"text-align: right;\">\n",
              "      <th></th>\n",
              "      <th>review</th>\n",
              "      <th>sentiment</th>\n",
              "    </tr>\n",
              "  </thead>\n",
              "  <tbody>\n",
              "    <tr>\n",
              "      <th>0</th>\n",
              "      <td>One of the other reviewers has mentioned that ...</td>\n",
              "      <td>1</td>\n",
              "    </tr>\n",
              "    <tr>\n",
              "      <th>1</th>\n",
              "      <td>A wonderful little production. The filming tec...</td>\n",
              "      <td>1</td>\n",
              "    </tr>\n",
              "    <tr>\n",
              "      <th>2</th>\n",
              "      <td>I thought this was a wonderful way to spend ti...</td>\n",
              "      <td>1</td>\n",
              "    </tr>\n",
              "    <tr>\n",
              "      <th>3</th>\n",
              "      <td>Basically there's a family where a little boy ...</td>\n",
              "      <td>0</td>\n",
              "    </tr>\n",
              "    <tr>\n",
              "      <th>4</th>\n",
              "      <td>Petter Mattei's \"Love in the Time of Money\" is...</td>\n",
              "      <td>1</td>\n",
              "    </tr>\n",
              "  </tbody>\n",
              "</table>\n",
              "</div>"
            ],
            "text/plain": [
              "                                              review  sentiment\n",
              "0  One of the other reviewers has mentioned that ...          1\n",
              "1  A wonderful little production. The filming tec...          1\n",
              "2  I thought this was a wonderful way to spend ti...          1\n",
              "3  Basically there's a family where a little boy ...          0\n",
              "4  Petter Mattei's \"Love in the Time of Money\" is...          1"
            ]
          },
          "metadata": {
            "tags": []
          },
          "execution_count": 7
        }
      ]
    },
    {
      "cell_type": "markdown",
      "metadata": {
        "id": "Ppu44p-Gdnou",
        "colab_type": "text"
      },
      "source": [
        "We can see that data is somewhat cleaned and html tags, brackets are removed."
      ]
    },
    {
      "cell_type": "markdown",
      "metadata": {
        "id": "vrzYM4fjd21s",
        "colab_type": "text"
      },
      "source": [
        "**Defining and downloading BERT Tokenizer.**"
      ]
    },
    {
      "cell_type": "code",
      "metadata": {
        "id": "5zq3h6Zp0RCL",
        "colab_type": "code",
        "colab": {}
      },
      "source": [
        "tokenizer= transformers.BertTokenizer.from_pretrained('bert-base-uncased', \n",
        "                                                       do_lower_case=True)"
      ],
      "execution_count": 8,
      "outputs": []
    },
    {
      "cell_type": "markdown",
      "metadata": {
        "id": "rnAkfapOeDjO",
        "colab_type": "text"
      },
      "source": [
        "**Building Pytorch DataSet**"
      ]
    },
    {
      "cell_type": "code",
      "metadata": {
        "id": "60s13SaF0RCb",
        "colab_type": "code",
        "colab": {}
      },
      "source": [
        "class IMDB_dataset(Dataset):\n",
        "\n",
        "    def __init__(self, reviews, labels, tokenizer, max_len):\n",
        "        self.reviews = reviews\n",
        "        self.labels = labels\n",
        "        self.tokenizer = tokenizer\n",
        "        self.max_len = max_len\n",
        "    \n",
        "    def __len__(self):\n",
        "        return len(self.reviews)\n",
        "    \n",
        "    def __getitem__(self, item):\n",
        "        review = str(self.reviews[item])\n",
        "        label = self.labels[item]\n",
        "        encoding = self.tokenizer.encode_plus(\n",
        "          review,\n",
        "          add_special_tokens=True,\n",
        "          max_length=self.max_len,\n",
        "          return_token_type_ids=False,\n",
        "          pad_to_max_length=True,\n",
        "          return_attention_mask=True,\n",
        "          truncation=True,\n",
        "          return_tensors='pt',\n",
        "    )\n",
        "        return {\n",
        "          'review_text': review,\n",
        "          'input_ids': encoding['input_ids'].flatten(),\n",
        "          'attention_mask': encoding['attention_mask'].flatten(),\n",
        "          'labels': torch.tensor(label, dtype=torch.long)\n",
        "    }"
      ],
      "execution_count": 9,
      "outputs": []
    },
    {
      "cell_type": "markdown",
      "metadata": {
        "id": "0J9gduKleI4-",
        "colab_type": "text"
      },
      "source": [
        "Splitting the dataset into train(80%), validation(10%) and test(10%) data."
      ]
    },
    {
      "cell_type": "code",
      "metadata": {
        "id": "X5mLVMKB0RCd",
        "colab_type": "code",
        "colab": {}
      },
      "source": [
        "df_train, df_test = train_test_split(\n",
        "  df,\n",
        "  test_size=0.1,\n",
        "  random_state=42\n",
        ")\n",
        "df_val, df_test = train_test_split(\n",
        "  df_test,\n",
        "  test_size=0.5,\n",
        "  random_state=42\n",
        ")\n"
      ],
      "execution_count": 10,
      "outputs": []
    },
    {
      "cell_type": "code",
      "metadata": {
        "id": "MBNi1kYLIgY6",
        "colab_type": "code",
        "colab": {
          "base_uri": "https://localhost:8080/",
          "height": 34
        },
        "outputId": "3be736df-a4ac-498a-c6d0-12061f273fd0"
      },
      "source": [
        "df_train.shape"
      ],
      "execution_count": 11,
      "outputs": [
        {
          "output_type": "execute_result",
          "data": {
            "text/plain": [
              "(45000, 2)"
            ]
          },
          "metadata": {
            "tags": []
          },
          "execution_count": 11
        }
      ]
    },
    {
      "cell_type": "markdown",
      "metadata": {
        "id": "YDCODAt5eZi8",
        "colab_type": "text"
      },
      "source": [
        "Helper function for Pytorch dataloader is defined below"
      ]
    },
    {
      "cell_type": "code",
      "metadata": {
        "id": "mf2sjAhH0RCg",
        "colab_type": "code",
        "colab": {}
      },
      "source": [
        "def create_data_loader(df, tokenizer, max_len, batch_size):\n",
        "    ds = IMDB_dataset(reviews = df.review.to_numpy(),\n",
        "                      labels = df.sentiment.to_numpy(),\n",
        "                      tokenizer = tokenizer,\n",
        "                      max_len = max_len)\n",
        "    \n",
        "    return DataLoader(ds, batch_size = batch_size, num_workers = 0)"
      ],
      "execution_count": 12,
      "outputs": []
    },
    {
      "cell_type": "markdown",
      "metadata": {
        "id": "PHYKFziLeh2J",
        "colab_type": "text"
      },
      "source": [
        "Implementing DataLoader functions to make the data ready for training and evaluation"
      ]
    },
    {
      "cell_type": "code",
      "metadata": {
        "id": "3owo3lLb0RCi",
        "colab_type": "code",
        "colab": {}
      },
      "source": [
        "BATCH_SIZE = 16\n",
        "MAX_LEN = 512\n",
        "train_loader = create_data_loader(df_train, tokenizer, MAX_LEN, BATCH_SIZE)\n",
        "val_loader = create_data_loader(df_val, tokenizer, MAX_LEN, BATCH_SIZE)\n",
        "test_loader = create_data_loader(df_test, tokenizer, MAX_LEN, BATCH_SIZE)"
      ],
      "execution_count": 13,
      "outputs": []
    },
    {
      "cell_type": "code",
      "metadata": {
        "id": "XL78Nifx0RCk",
        "colab_type": "code",
        "colab": {
          "base_uri": "https://localhost:8080/",
          "height": 34
        },
        "outputId": "4df05e17-51b0-42ea-fb61-8654793e1d4e"
      },
      "source": [
        "data = next(iter(train_loader))\n",
        "data.keys()"
      ],
      "execution_count": 14,
      "outputs": [
        {
          "output_type": "execute_result",
          "data": {
            "text/plain": [
              "dict_keys(['review_text', 'input_ids', 'attention_mask', 'labels'])"
            ]
          },
          "metadata": {
            "tags": []
          },
          "execution_count": 14
        }
      ]
    },
    {
      "cell_type": "code",
      "metadata": {
        "id": "jAF81nnd0RCm",
        "colab_type": "code",
        "colab": {
          "base_uri": "https://localhost:8080/",
          "height": 67
        },
        "outputId": "d4a8b084-af71-4078-df59-1a5e98590188"
      },
      "source": [
        "print(data['input_ids'].shape)\n",
        "print(data['attention_mask'].shape)\n",
        "print(data['labels'].shape)"
      ],
      "execution_count": 15,
      "outputs": [
        {
          "output_type": "stream",
          "text": [
            "torch.Size([16, 512])\n",
            "torch.Size([16, 512])\n",
            "torch.Size([16])\n"
          ],
          "name": "stdout"
        }
      ]
    },
    {
      "cell_type": "markdown",
      "metadata": {
        "id": "ijjUaWrLeqlI",
        "colab_type": "text"
      },
      "source": [
        "**Creating BERT model instance.**"
      ]
    },
    {
      "cell_type": "code",
      "metadata": {
        "id": "85EhyJI-0RCr",
        "colab_type": "code",
        "colab": {}
      },
      "source": [
        "bert_model = BertModel.from_pretrained('bert-base-uncased')\n"
      ],
      "execution_count": 16,
      "outputs": []
    },
    {
      "cell_type": "markdown",
      "metadata": {
        "id": "3Tvrj5bvezAC",
        "colab_type": "text"
      },
      "source": [
        "**Model Architecture**"
      ]
    },
    {
      "cell_type": "code",
      "metadata": {
        "id": "lrTfuHdG0RCt",
        "colab_type": "code",
        "colab": {
          "base_uri": "https://localhost:8080/",
          "height": 1000
        },
        "outputId": "342ab2a9-7cb0-4373-b40a-6f0fbe58eb51"
      },
      "source": [
        "bert_model"
      ],
      "execution_count": 17,
      "outputs": [
        {
          "output_type": "execute_result",
          "data": {
            "text/plain": [
              "BertModel(\n",
              "  (embeddings): BertEmbeddings(\n",
              "    (word_embeddings): Embedding(30522, 768, padding_idx=0)\n",
              "    (position_embeddings): Embedding(512, 768)\n",
              "    (token_type_embeddings): Embedding(2, 768)\n",
              "    (LayerNorm): LayerNorm((768,), eps=1e-12, elementwise_affine=True)\n",
              "    (dropout): Dropout(p=0.1, inplace=False)\n",
              "  )\n",
              "  (encoder): BertEncoder(\n",
              "    (layer): ModuleList(\n",
              "      (0): BertLayer(\n",
              "        (attention): BertAttention(\n",
              "          (self): BertSelfAttention(\n",
              "            (query): Linear(in_features=768, out_features=768, bias=True)\n",
              "            (key): Linear(in_features=768, out_features=768, bias=True)\n",
              "            (value): Linear(in_features=768, out_features=768, bias=True)\n",
              "            (dropout): Dropout(p=0.1, inplace=False)\n",
              "          )\n",
              "          (output): BertSelfOutput(\n",
              "            (dense): Linear(in_features=768, out_features=768, bias=True)\n",
              "            (LayerNorm): LayerNorm((768,), eps=1e-12, elementwise_affine=True)\n",
              "            (dropout): Dropout(p=0.1, inplace=False)\n",
              "          )\n",
              "        )\n",
              "        (intermediate): BertIntermediate(\n",
              "          (dense): Linear(in_features=768, out_features=3072, bias=True)\n",
              "        )\n",
              "        (output): BertOutput(\n",
              "          (dense): Linear(in_features=3072, out_features=768, bias=True)\n",
              "          (LayerNorm): LayerNorm((768,), eps=1e-12, elementwise_affine=True)\n",
              "          (dropout): Dropout(p=0.1, inplace=False)\n",
              "        )\n",
              "      )\n",
              "      (1): BertLayer(\n",
              "        (attention): BertAttention(\n",
              "          (self): BertSelfAttention(\n",
              "            (query): Linear(in_features=768, out_features=768, bias=True)\n",
              "            (key): Linear(in_features=768, out_features=768, bias=True)\n",
              "            (value): Linear(in_features=768, out_features=768, bias=True)\n",
              "            (dropout): Dropout(p=0.1, inplace=False)\n",
              "          )\n",
              "          (output): BertSelfOutput(\n",
              "            (dense): Linear(in_features=768, out_features=768, bias=True)\n",
              "            (LayerNorm): LayerNorm((768,), eps=1e-12, elementwise_affine=True)\n",
              "            (dropout): Dropout(p=0.1, inplace=False)\n",
              "          )\n",
              "        )\n",
              "        (intermediate): BertIntermediate(\n",
              "          (dense): Linear(in_features=768, out_features=3072, bias=True)\n",
              "        )\n",
              "        (output): BertOutput(\n",
              "          (dense): Linear(in_features=3072, out_features=768, bias=True)\n",
              "          (LayerNorm): LayerNorm((768,), eps=1e-12, elementwise_affine=True)\n",
              "          (dropout): Dropout(p=0.1, inplace=False)\n",
              "        )\n",
              "      )\n",
              "      (2): BertLayer(\n",
              "        (attention): BertAttention(\n",
              "          (self): BertSelfAttention(\n",
              "            (query): Linear(in_features=768, out_features=768, bias=True)\n",
              "            (key): Linear(in_features=768, out_features=768, bias=True)\n",
              "            (value): Linear(in_features=768, out_features=768, bias=True)\n",
              "            (dropout): Dropout(p=0.1, inplace=False)\n",
              "          )\n",
              "          (output): BertSelfOutput(\n",
              "            (dense): Linear(in_features=768, out_features=768, bias=True)\n",
              "            (LayerNorm): LayerNorm((768,), eps=1e-12, elementwise_affine=True)\n",
              "            (dropout): Dropout(p=0.1, inplace=False)\n",
              "          )\n",
              "        )\n",
              "        (intermediate): BertIntermediate(\n",
              "          (dense): Linear(in_features=768, out_features=3072, bias=True)\n",
              "        )\n",
              "        (output): BertOutput(\n",
              "          (dense): Linear(in_features=3072, out_features=768, bias=True)\n",
              "          (LayerNorm): LayerNorm((768,), eps=1e-12, elementwise_affine=True)\n",
              "          (dropout): Dropout(p=0.1, inplace=False)\n",
              "        )\n",
              "      )\n",
              "      (3): BertLayer(\n",
              "        (attention): BertAttention(\n",
              "          (self): BertSelfAttention(\n",
              "            (query): Linear(in_features=768, out_features=768, bias=True)\n",
              "            (key): Linear(in_features=768, out_features=768, bias=True)\n",
              "            (value): Linear(in_features=768, out_features=768, bias=True)\n",
              "            (dropout): Dropout(p=0.1, inplace=False)\n",
              "          )\n",
              "          (output): BertSelfOutput(\n",
              "            (dense): Linear(in_features=768, out_features=768, bias=True)\n",
              "            (LayerNorm): LayerNorm((768,), eps=1e-12, elementwise_affine=True)\n",
              "            (dropout): Dropout(p=0.1, inplace=False)\n",
              "          )\n",
              "        )\n",
              "        (intermediate): BertIntermediate(\n",
              "          (dense): Linear(in_features=768, out_features=3072, bias=True)\n",
              "        )\n",
              "        (output): BertOutput(\n",
              "          (dense): Linear(in_features=3072, out_features=768, bias=True)\n",
              "          (LayerNorm): LayerNorm((768,), eps=1e-12, elementwise_affine=True)\n",
              "          (dropout): Dropout(p=0.1, inplace=False)\n",
              "        )\n",
              "      )\n",
              "      (4): BertLayer(\n",
              "        (attention): BertAttention(\n",
              "          (self): BertSelfAttention(\n",
              "            (query): Linear(in_features=768, out_features=768, bias=True)\n",
              "            (key): Linear(in_features=768, out_features=768, bias=True)\n",
              "            (value): Linear(in_features=768, out_features=768, bias=True)\n",
              "            (dropout): Dropout(p=0.1, inplace=False)\n",
              "          )\n",
              "          (output): BertSelfOutput(\n",
              "            (dense): Linear(in_features=768, out_features=768, bias=True)\n",
              "            (LayerNorm): LayerNorm((768,), eps=1e-12, elementwise_affine=True)\n",
              "            (dropout): Dropout(p=0.1, inplace=False)\n",
              "          )\n",
              "        )\n",
              "        (intermediate): BertIntermediate(\n",
              "          (dense): Linear(in_features=768, out_features=3072, bias=True)\n",
              "        )\n",
              "        (output): BertOutput(\n",
              "          (dense): Linear(in_features=3072, out_features=768, bias=True)\n",
              "          (LayerNorm): LayerNorm((768,), eps=1e-12, elementwise_affine=True)\n",
              "          (dropout): Dropout(p=0.1, inplace=False)\n",
              "        )\n",
              "      )\n",
              "      (5): BertLayer(\n",
              "        (attention): BertAttention(\n",
              "          (self): BertSelfAttention(\n",
              "            (query): Linear(in_features=768, out_features=768, bias=True)\n",
              "            (key): Linear(in_features=768, out_features=768, bias=True)\n",
              "            (value): Linear(in_features=768, out_features=768, bias=True)\n",
              "            (dropout): Dropout(p=0.1, inplace=False)\n",
              "          )\n",
              "          (output): BertSelfOutput(\n",
              "            (dense): Linear(in_features=768, out_features=768, bias=True)\n",
              "            (LayerNorm): LayerNorm((768,), eps=1e-12, elementwise_affine=True)\n",
              "            (dropout): Dropout(p=0.1, inplace=False)\n",
              "          )\n",
              "        )\n",
              "        (intermediate): BertIntermediate(\n",
              "          (dense): Linear(in_features=768, out_features=3072, bias=True)\n",
              "        )\n",
              "        (output): BertOutput(\n",
              "          (dense): Linear(in_features=3072, out_features=768, bias=True)\n",
              "          (LayerNorm): LayerNorm((768,), eps=1e-12, elementwise_affine=True)\n",
              "          (dropout): Dropout(p=0.1, inplace=False)\n",
              "        )\n",
              "      )\n",
              "      (6): BertLayer(\n",
              "        (attention): BertAttention(\n",
              "          (self): BertSelfAttention(\n",
              "            (query): Linear(in_features=768, out_features=768, bias=True)\n",
              "            (key): Linear(in_features=768, out_features=768, bias=True)\n",
              "            (value): Linear(in_features=768, out_features=768, bias=True)\n",
              "            (dropout): Dropout(p=0.1, inplace=False)\n",
              "          )\n",
              "          (output): BertSelfOutput(\n",
              "            (dense): Linear(in_features=768, out_features=768, bias=True)\n",
              "            (LayerNorm): LayerNorm((768,), eps=1e-12, elementwise_affine=True)\n",
              "            (dropout): Dropout(p=0.1, inplace=False)\n",
              "          )\n",
              "        )\n",
              "        (intermediate): BertIntermediate(\n",
              "          (dense): Linear(in_features=768, out_features=3072, bias=True)\n",
              "        )\n",
              "        (output): BertOutput(\n",
              "          (dense): Linear(in_features=3072, out_features=768, bias=True)\n",
              "          (LayerNorm): LayerNorm((768,), eps=1e-12, elementwise_affine=True)\n",
              "          (dropout): Dropout(p=0.1, inplace=False)\n",
              "        )\n",
              "      )\n",
              "      (7): BertLayer(\n",
              "        (attention): BertAttention(\n",
              "          (self): BertSelfAttention(\n",
              "            (query): Linear(in_features=768, out_features=768, bias=True)\n",
              "            (key): Linear(in_features=768, out_features=768, bias=True)\n",
              "            (value): Linear(in_features=768, out_features=768, bias=True)\n",
              "            (dropout): Dropout(p=0.1, inplace=False)\n",
              "          )\n",
              "          (output): BertSelfOutput(\n",
              "            (dense): Linear(in_features=768, out_features=768, bias=True)\n",
              "            (LayerNorm): LayerNorm((768,), eps=1e-12, elementwise_affine=True)\n",
              "            (dropout): Dropout(p=0.1, inplace=False)\n",
              "          )\n",
              "        )\n",
              "        (intermediate): BertIntermediate(\n",
              "          (dense): Linear(in_features=768, out_features=3072, bias=True)\n",
              "        )\n",
              "        (output): BertOutput(\n",
              "          (dense): Linear(in_features=3072, out_features=768, bias=True)\n",
              "          (LayerNorm): LayerNorm((768,), eps=1e-12, elementwise_affine=True)\n",
              "          (dropout): Dropout(p=0.1, inplace=False)\n",
              "        )\n",
              "      )\n",
              "      (8): BertLayer(\n",
              "        (attention): BertAttention(\n",
              "          (self): BertSelfAttention(\n",
              "            (query): Linear(in_features=768, out_features=768, bias=True)\n",
              "            (key): Linear(in_features=768, out_features=768, bias=True)\n",
              "            (value): Linear(in_features=768, out_features=768, bias=True)\n",
              "            (dropout): Dropout(p=0.1, inplace=False)\n",
              "          )\n",
              "          (output): BertSelfOutput(\n",
              "            (dense): Linear(in_features=768, out_features=768, bias=True)\n",
              "            (LayerNorm): LayerNorm((768,), eps=1e-12, elementwise_affine=True)\n",
              "            (dropout): Dropout(p=0.1, inplace=False)\n",
              "          )\n",
              "        )\n",
              "        (intermediate): BertIntermediate(\n",
              "          (dense): Linear(in_features=768, out_features=3072, bias=True)\n",
              "        )\n",
              "        (output): BertOutput(\n",
              "          (dense): Linear(in_features=3072, out_features=768, bias=True)\n",
              "          (LayerNorm): LayerNorm((768,), eps=1e-12, elementwise_affine=True)\n",
              "          (dropout): Dropout(p=0.1, inplace=False)\n",
              "        )\n",
              "      )\n",
              "      (9): BertLayer(\n",
              "        (attention): BertAttention(\n",
              "          (self): BertSelfAttention(\n",
              "            (query): Linear(in_features=768, out_features=768, bias=True)\n",
              "            (key): Linear(in_features=768, out_features=768, bias=True)\n",
              "            (value): Linear(in_features=768, out_features=768, bias=True)\n",
              "            (dropout): Dropout(p=0.1, inplace=False)\n",
              "          )\n",
              "          (output): BertSelfOutput(\n",
              "            (dense): Linear(in_features=768, out_features=768, bias=True)\n",
              "            (LayerNorm): LayerNorm((768,), eps=1e-12, elementwise_affine=True)\n",
              "            (dropout): Dropout(p=0.1, inplace=False)\n",
              "          )\n",
              "        )\n",
              "        (intermediate): BertIntermediate(\n",
              "          (dense): Linear(in_features=768, out_features=3072, bias=True)\n",
              "        )\n",
              "        (output): BertOutput(\n",
              "          (dense): Linear(in_features=3072, out_features=768, bias=True)\n",
              "          (LayerNorm): LayerNorm((768,), eps=1e-12, elementwise_affine=True)\n",
              "          (dropout): Dropout(p=0.1, inplace=False)\n",
              "        )\n",
              "      )\n",
              "      (10): BertLayer(\n",
              "        (attention): BertAttention(\n",
              "          (self): BertSelfAttention(\n",
              "            (query): Linear(in_features=768, out_features=768, bias=True)\n",
              "            (key): Linear(in_features=768, out_features=768, bias=True)\n",
              "            (value): Linear(in_features=768, out_features=768, bias=True)\n",
              "            (dropout): Dropout(p=0.1, inplace=False)\n",
              "          )\n",
              "          (output): BertSelfOutput(\n",
              "            (dense): Linear(in_features=768, out_features=768, bias=True)\n",
              "            (LayerNorm): LayerNorm((768,), eps=1e-12, elementwise_affine=True)\n",
              "            (dropout): Dropout(p=0.1, inplace=False)\n",
              "          )\n",
              "        )\n",
              "        (intermediate): BertIntermediate(\n",
              "          (dense): Linear(in_features=768, out_features=3072, bias=True)\n",
              "        )\n",
              "        (output): BertOutput(\n",
              "          (dense): Linear(in_features=3072, out_features=768, bias=True)\n",
              "          (LayerNorm): LayerNorm((768,), eps=1e-12, elementwise_affine=True)\n",
              "          (dropout): Dropout(p=0.1, inplace=False)\n",
              "        )\n",
              "      )\n",
              "      (11): BertLayer(\n",
              "        (attention): BertAttention(\n",
              "          (self): BertSelfAttention(\n",
              "            (query): Linear(in_features=768, out_features=768, bias=True)\n",
              "            (key): Linear(in_features=768, out_features=768, bias=True)\n",
              "            (value): Linear(in_features=768, out_features=768, bias=True)\n",
              "            (dropout): Dropout(p=0.1, inplace=False)\n",
              "          )\n",
              "          (output): BertSelfOutput(\n",
              "            (dense): Linear(in_features=768, out_features=768, bias=True)\n",
              "            (LayerNorm): LayerNorm((768,), eps=1e-12, elementwise_affine=True)\n",
              "            (dropout): Dropout(p=0.1, inplace=False)\n",
              "          )\n",
              "        )\n",
              "        (intermediate): BertIntermediate(\n",
              "          (dense): Linear(in_features=768, out_features=3072, bias=True)\n",
              "        )\n",
              "        (output): BertOutput(\n",
              "          (dense): Linear(in_features=3072, out_features=768, bias=True)\n",
              "          (LayerNorm): LayerNorm((768,), eps=1e-12, elementwise_affine=True)\n",
              "          (dropout): Dropout(p=0.1, inplace=False)\n",
              "        )\n",
              "      )\n",
              "    )\n",
              "  )\n",
              "  (pooler): BertPooler(\n",
              "    (dense): Linear(in_features=768, out_features=768, bias=True)\n",
              "    (activation): Tanh()\n",
              "  )\n",
              ")"
            ]
          },
          "metadata": {
            "tags": []
          },
          "execution_count": 17
        }
      ]
    },
    {
      "cell_type": "markdown",
      "metadata": {
        "id": "QhloDecSe52m",
        "colab_type": "text"
      },
      "source": [
        "Building the classifier which used the BERT model."
      ]
    },
    {
      "cell_type": "code",
      "metadata": {
        "id": "-BnE98LJ0RCv",
        "colab_type": "code",
        "colab": {}
      },
      "source": [
        "class BERTmodel(nn.Module):\n",
        "    def __init__(self):\n",
        "        super(BERTmodel, self).__init__()\n",
        "        self.bert = bert_model\n",
        "        self.bert_drop = nn.Dropout(0.3)\n",
        "        self.out = nn.Linear(768,1)\n",
        "    \n",
        "    def forward(self, ids, mask):\n",
        "        _, pooled_output = self.bert(ids, attention_mask = mask)                             \n",
        "        bert_out = self.bert_drop(pooled_output)\n",
        "        output = self.out(bert_out)\n",
        "        \n",
        "        return output"
      ],
      "execution_count": 18,
      "outputs": []
    },
    {
      "cell_type": "markdown",
      "metadata": {
        "id": "BGkr-t8z0RCy",
        "colab_type": "text"
      },
      "source": [
        "The classifier delegates most of the work to the pre-traiend Bert model. I added the dropout layer for some regularization to avoid over-fitting to the training data and a fully-connected layer for the binary output. "
      ]
    },
    {
      "cell_type": "markdown",
      "metadata": {
        "id": "y0a8bl4ffMmK",
        "colab_type": "text"
      },
      "source": [
        "**Defining the Loss function**"
      ]
    },
    {
      "cell_type": "code",
      "metadata": {
        "id": "YHEG9nV50RCy",
        "colab_type": "code",
        "colab": {}
      },
      "source": [
        "def loss_fn(outputs, labels):\n",
        "    return nn.BCEWithLogitsLoss()(outputs, labels)"
      ],
      "execution_count": 19,
      "outputs": []
    },
    {
      "cell_type": "markdown",
      "metadata": {
        "id": "gePDreMUfSrq",
        "colab_type": "text"
      },
      "source": [
        "**Helper function for training our model is defined**"
      ]
    },
    {
      "cell_type": "code",
      "metadata": {
        "id": "_Rkav_hK0RC3",
        "colab_type": "code",
        "colab": {}
      },
      "source": [
        "def train_fun(data_loader, model, optimizer, scheduler, device, n_examples):\n",
        "    \n",
        "    model = model.train()\n",
        "    tr_losses = []\n",
        "    tr_correct_preds = 0\n",
        "    \n",
        "    for step, data in enumerate(data_loader):\n",
        "        \n",
        "        input_ids = data[\"input_ids\"].to(device)\n",
        "        mask = data[\"attention_mask\"].to(device)\n",
        "        labels = data[\"labels\"].to(device)\n",
        "        \n",
        "        optimizer.zero_grad()\n",
        "        \n",
        "        outputs = model(\n",
        "            ids = input_ids,\n",
        "            mask = mask)\n",
        "        labels = labels.unsqueeze(1)\n",
        "        labels = labels.float()\n",
        "        loss = loss_fn(outputs, labels)\n",
        "        preds = torch.sigmoid(outputs)\n",
        "        preds = outputs.detach().cpu().numpy()\n",
        "        preds = (preds >= 0.5)*1\n",
        "        labels = labels.detach().cpu().numpy()\n",
        "        tr_correct_preds += np.sum(preds == labels)\n",
        "        tr_losses.append(loss.item())\n",
        "        \n",
        "        loss.backward()\n",
        "        optimizer.step()\n",
        "        scheduler.step()\n",
        "        \n",
        "    return tr_correct_preds/n_examples, np.mean(tr_losses)"
      ],
      "execution_count": 20,
      "outputs": []
    },
    {
      "cell_type": "markdown",
      "metadata": {
        "id": "6RKgJIfIfdKA",
        "colab_type": "text"
      },
      "source": [
        "**Helper function for evaluating the model**"
      ]
    },
    {
      "cell_type": "code",
      "metadata": {
        "id": "NZQjBSLj0RC4",
        "colab_type": "code",
        "colab": {}
      },
      "source": [
        "def eval_fun(data_loader, model, device, n_examples):\n",
        "    model.eval()\n",
        "    \n",
        "    eval_losses = []\n",
        "    eval_correct_preds = 0\n",
        "    \n",
        "    with torch.no_grad():\n",
        "      for step, data in enumerate(data_loader):\n",
        "          \n",
        "          input_ids = data[\"input_ids\"].to(device)\n",
        "          mask = data[\"attention_mask\"].to(device)\n",
        "          labels = data[\"labels\"].to(device)\n",
        "          \n",
        "          outputs = model(\n",
        "              ids = input_ids,\n",
        "              mask = mask)\n",
        "          labels = labels.unsqueeze(1)\n",
        "          labels = labels.float()\n",
        "          loss = loss_fn(outputs, labels)\n",
        "          preds = torch.sigmoid(outputs)\n",
        "          preds = outputs.detach().cpu().numpy()\n",
        "          preds = (preds >= 0.5)*1\n",
        "          labels = labels.detach().cpu().numpy()\n",
        "          eval_correct_preds += np.sum(preds == labels)\n",
        "          eval_losses.append(loss.item())\n",
        "    return  eval_correct_preds/n_examples, np.mean(eval_losses)  \n",
        "    "
      ],
      "execution_count": 21,
      "outputs": []
    },
    {
      "cell_type": "markdown",
      "metadata": {
        "id": "CZ2Bqt0l0RC6",
        "colab_type": "text"
      },
      "source": [
        "## **Training**\n",
        "Using the training and evaluation functions, we will implement the training loop.\n",
        "\n",
        "ADAMW optimizer is utilized as it impelements the weight decay and produce better results."
      ]
    },
    {
      "cell_type": "code",
      "metadata": {
        "id": "BuUPJlgF0RC6",
        "colab_type": "code",
        "colab": {
          "base_uri": "https://localhost:8080/",
          "height": 286
        },
        "outputId": "40e583a5-89fb-46c3-e87b-a726052c70fb"
      },
      "source": [
        "EPOCHS =4\n",
        "model = BERTmodel()\n",
        "model = model.to(device)\n",
        "\n",
        "param_optimizer = list(model.named_parameters())\n",
        "no_decay = ['bias', 'LayerNorm.bias', 'LayerNorm.Weight']\n",
        "optimizer_parameters = [\n",
        "    {'params': [p for n, p in param_optimizer if not any(nd in n for nd in no_decay)],\n",
        "        'weight_decay': 0.01},\n",
        "    {'params': [p for n, p in param_optimizer if any(nd in n for nd in no_decay)],\n",
        "        'weight_decay': 0.0}]\n",
        "\n",
        "\n",
        "optimizer = AdamW(optimizer_parameters, lr=2e-5)\n",
        "total_steps = len(train_loader) * EPOCHS\n",
        "scheduler = get_linear_schedule_with_warmup(\n",
        "  optimizer,\n",
        "  num_warmup_steps=0,\n",
        "  num_training_steps=total_steps\n",
        ")\n",
        "history = defaultdict(list)\n",
        "\n",
        "\n",
        "for epoch in range(EPOCHS):\n",
        "    print(f'Epoch {epoch + 1}/{EPOCHS}')\n",
        "    print('-' * 10)\n",
        "    \n",
        "    tr_acc, tr_loss = train_fun(train_loader, model, \n",
        "                                optimizer, scheduler, device, len(df_train))\n",
        "    \n",
        "    print('Training Loss: ' +str(tr_loss) +' Training Accuracy: ' +str(tr_acc*100) +'%')\n",
        "    \n",
        "    val_acc, val_loss= eval_fun(val_loader, model, \n",
        "                                device, len(df_val))\n",
        "    \n",
        "    print('Validation Loss: ' +str(val_loss) +' Validation Accuracy: ' +str(val_acc*100) +'%')\n",
        "\n",
        "    history['tr_acc'].append(tr_acc)\n",
        "    history['tr_loss'].append(tr_loss)\n",
        "    history['val_acc'].append(val_acc)\n",
        "    history['val_loss'].append(val_loss)"
      ],
      "execution_count": 22,
      "outputs": [
        {
          "output_type": "stream",
          "text": [
            "Epoch 1/4\n",
            "----------\n",
            "Training Loss: 0.2056743017575941 Training Accuracy: 91.51555555555557%\n",
            "Validation Loss: 0.15314603562520188 Validation Accuracy: 94.16%\n",
            "Epoch 2/4\n",
            "----------\n",
            "Training Loss: 0.09480840640312733 Training Accuracy: 96.64444444444445%\n",
            "Validation Loss: 0.158085762969497 Validation Accuracy: 94.36%\n",
            "Epoch 3/4\n",
            "----------\n",
            "Training Loss: 0.0425142275097565 Training Accuracy: 98.69777777777777%\n",
            "Validation Loss: 0.193786721061144 Validation Accuracy: 94.64%\n",
            "Epoch 4/4\n",
            "----------\n",
            "Training Loss: 0.019705833418291806 Training Accuracy: 99.49333333333334%\n",
            "Validation Loss: 0.23891529305741654 Validation Accuracy: 94.28%\n"
          ],
          "name": "stdout"
        }
      ]
    },
    {
      "cell_type": "markdown",
      "metadata": {
        "id": "rLvQdcwlC8Nd",
        "colab_type": "text"
      },
      "source": [
        "### **Training Model Analysis**"
      ]
    },
    {
      "cell_type": "code",
      "metadata": {
        "id": "kuVfkSpI0RC9",
        "colab_type": "code",
        "colab": {
          "base_uri": "https://localhost:8080/",
          "height": 350
        },
        "outputId": "93038ea1-42b2-479f-e652-43603307780a"
      },
      "source": [
        "plt.figure(figsize = (8,5))\n",
        "plt.plot(history['tr_acc'], label='Train accuracy')\n",
        "plt.plot(history['val_acc'], label='validation accuracy')\n",
        "plt.title('Training history')\n",
        "plt.ylabel('Accuracy')\n",
        "plt.xlabel('Epoch')\n",
        "plt.legend()\n",
        "plt.ylim([0.5, 1]);\n"
      ],
      "execution_count": 54,
      "outputs": [
        {
          "output_type": "display_data",
          "data": {
            "image/png": "[encoded data removed]",
            "text/plain": [
              "<Figure size 576x360 with 1 Axes>"
            ]
          },
          "metadata": {
            "tags": [],
            "needs_background": "light"
          }
        }
      ]
    },
    {
      "cell_type": "markdown",
      "metadata": {
        "id": "Zy9cKnyzf03Q",
        "colab_type": "text"
      },
      "source": [
        "## **Evaluation**"
      ]
    },
    {
      "cell_type": "code",
      "metadata": {
        "id": "vSNnYOReUubL",
        "colab_type": "code",
        "colab": {}
      },
      "source": [
        "test_acc, test_loss= eval_fun(test_loader, model, \n",
        "                                device, len(df_test))"
      ],
      "execution_count": 29,
      "outputs": []
    },
    {
      "cell_type": "markdown",
      "metadata": {
        "id": "FuZE6vOygAUk",
        "colab_type": "text"
      },
      "source": [
        "### **Test Accuracy**"
      ]
    },
    {
      "cell_type": "code",
      "metadata": {
        "id": "btvCMtWtVOyz",
        "colab_type": "code",
        "colab": {
          "base_uri": "https://localhost:8080/",
          "height": 34
        },
        "outputId": "93d3e3a6-ca81-45b5-e40b-b3699d306a26"
      },
      "source": [
        "print('Test Accuracy: ' +str(test_acc*100) +'%')"
      ],
      "execution_count": 32,
      "outputs": [
        {
          "output_type": "stream",
          "text": [
            "Test Accuracy: 94.8%\n"
          ],
          "name": "stdout"
        }
      ]
    },
    {
      "cell_type": "markdown",
      "metadata": {
        "id": "bAPPQHFMgIUv",
        "colab_type": "text"
      },
      "source": [
        "**Defining the prediction function**"
      ]
    },
    {
      "cell_type": "code",
      "metadata": {
        "id": "OSooYU9-SUaZ",
        "colab_type": "code",
        "colab": {}
      },
      "source": [
        "def pred_fun(data_loader, model):\n",
        "    model.eval()\n",
        "    \n",
        "    targets = []\n",
        "    predictions = []\n",
        "    \n",
        "    with torch.no_grad():\n",
        "      for step, data in enumerate(data_loader):\n",
        "          \n",
        "          input_ids = data[\"input_ids\"].to(device)\n",
        "          mask = data[\"attention_mask\"].to(device)\n",
        "          labels = data[\"labels\"].to(device)\n",
        "          \n",
        "          outputs = model(\n",
        "              ids = input_ids,\n",
        "              mask = mask)\n",
        "          preds = torch.sigmoid(outputs)\n",
        "          preds = outputs.detach().cpu().numpy()\n",
        "          preds = (preds >= 0.5)*1\n",
        "          labels = labels.detach().cpu().numpy()\n",
        "          predictions.extend(preds)\n",
        "          targets.extend(labels)\n",
        "\n",
        "    predictions = np.stack(predictions)\n",
        "    targets = np.stack(targets)\n",
        "    return  predictions, targets "
      ],
      "execution_count": 37,
      "outputs": []
    },
    {
      "cell_type": "code",
      "metadata": {
        "id": "hBYJHW24SU_t",
        "colab_type": "code",
        "colab": {}
      },
      "source": [
        "y_pred, y_test = pred_fun(test_loader, model)"
      ],
      "execution_count": 38,
      "outputs": []
    },
    {
      "cell_type": "markdown",
      "metadata": {
        "id": "LAe700wBhWaK",
        "colab_type": "text"
      },
      "source": [
        "### **Classification report including the F1 score**"
      ]
    },
    {
      "cell_type": "code",
      "metadata": {
        "id": "GJQTHP1MVUSJ",
        "colab_type": "code",
        "colab": {
          "base_uri": "https://localhost:8080/",
          "height": 168
        },
        "outputId": "2972a33e-c018-4ffd-d214-0fda45a346e5"
      },
      "source": [
        "print(classification_report(y_test, y_pred, target_names = ['positive', 'negative']))"
      ],
      "execution_count": 53,
      "outputs": [
        {
          "output_type": "stream",
          "text": [
            "              precision    recall  f1-score   support\n",
            "\n",
            "    positive       0.94      0.95      0.95      1232\n",
            "    negative       0.95      0.94      0.95      1268\n",
            "\n",
            "    accuracy                           0.95      2500\n",
            "   macro avg       0.95      0.95      0.95      2500\n",
            "weighted avg       0.95      0.95      0.95      2500\n",
            "\n"
          ],
          "name": "stdout"
        }
      ]
    },
    {
      "cell_type": "markdown",
      "metadata": {
        "id": "_6Vm6ODShcpy",
        "colab_type": "text"
      },
      "source": [
        "### **Confusion Matrix**"
      ]
    },
    {
      "cell_type": "code",
      "metadata": {
        "id": "_BffAKY3Y1e_",
        "colab_type": "code",
        "colab": {
          "base_uri": "https://localhost:8080/",
          "height": 657
        },
        "outputId": "dbe40eb4-bc2d-4559-a17b-076cb28c26a6"
      },
      "source": [
        "cm = confusion_matrix(y_test,y_pred)\n",
        "print(cm)\n",
        "plt.figure(figsize = (10,10))\n",
        "sns.heatmap(cm,cmap= \"Blues\", xticklabels = ['Positive','Negative'], \n",
        "           yticklabels = ['Positive','Negative'],\n",
        "           linecolor = 'black' , linewidth = 1 , annot = True, fmt='')\n",
        "plt.xlabel('Actual')\n",
        "plt.ylabel('Predicted')"
      ],
      "execution_count": 47,
      "outputs": [
        {
          "output_type": "stream",
          "text": [
            "[[1174   58]\n",
            " [  72 1196]]\n"
          ],
          "name": "stdout"
        },
        {
          "output_type": "execute_result",
          "data": {
            "text/plain": [
              "Text(69.0, 0.5, 'Predicted')"
            ]
          },
          "metadata": {
            "tags": []
          },
          "execution_count": 47
        },
        {
          "output_type": "display_data",
          "data": {
            "image/png": "[encoded data removed]",
            "text/plain": [
              "<Figure size 720x720 with 2 Axes>"
            ]
          },
          "metadata": {
            "tags": [],
            "needs_background": "light"
          }
        }
      ]
    },
    {
      "cell_type": "markdown",
      "metadata": {
        "id": "dNmCyVaWhsUI",
        "colab_type": "text"
      },
      "source": [
        "95% test accuracy as well as precision proves that pre-trained BERT model has exceptional performance. "
      ]
    }
  ]
}