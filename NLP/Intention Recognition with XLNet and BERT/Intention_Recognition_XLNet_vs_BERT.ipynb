{
  "nbformat": 4,
  "nbformat_minor": 0,
  "metadata": {
    "accelerator": "GPU",
    "colab": {
      "name": "Copy of Copy of Copy of Intention_Recognition.ipynb",
      "provenance": [],
      "collapsed_sections": [],
      "toc_visible": true,
      "include_colab_link": true
    },
    "kernelspec": {
      "display_name": "Python 3",
      "language": "python",
      "name": "python3"
    },
    "language_info": {
      "codemirror_mode": {
        "name": "ipython",
        "version": 3
      },
      "file_extension": ".py",
      "mimetype": "text/x-python",
      "name": "python",
      "nbconvert_exporter": "python",
      "pygments_lexer": "ipython3",
      "version": "3.8.3"
    },
    "widgets": {
      "application/vnd.jupyter.widget-state+json": {
        "4d8e58fb18eb4313b4d260bad77bb6a1": {
          "model_module": "@jupyter-widgets/controls",
          "model_name": "HBoxModel",
          "state": {
            "_view_name": "HBoxView",
            "_dom_classes": [],
            "_model_name": "HBoxModel",
            "_view_module": "@jupyter-widgets/controls",
            "_model_module_version": "1.5.0",
            "_view_count": null,
            "_view_module_version": "1.5.0",
            "box_style": "",
            "layout": "IPY_MODEL_c23a307996ac44aba001522a83bc78c9",
            "_model_module": "@jupyter-widgets/controls",
            "children": [
              "IPY_MODEL_7368bdd16a6f41faa25a03a378d790a1",
              "IPY_MODEL_38b25a8ac80a47afb94e7da08999c899"
            ]
          }
        },
        "c23a307996ac44aba001522a83bc78c9": {
          "model_module": "@jupyter-widgets/base",
          "model_name": "LayoutModel",
          "state": {
            "_view_name": "LayoutView",
            "grid_template_rows": null,
            "right": null,
            "justify_content": null,
            "_view_module": "@jupyter-widgets/base",
            "overflow": null,
            "_model_module_version": "1.2.0",
            "_view_count": null,
            "flex_flow": null,
            "width": null,
            "min_width": null,
            "border": null,
            "align_items": null,
            "bottom": null,
            "_model_module": "@jupyter-widgets/base",
            "top": null,
            "grid_column": null,
            "overflow_y": null,
            "overflow_x": null,
            "grid_auto_flow": null,
            "grid_area": null,
            "grid_template_columns": null,
            "flex": null,
            "_model_name": "LayoutModel",
            "justify_items": null,
            "grid_row": null,
            "max_height": null,
            "align_content": null,
            "visibility": null,
            "align_self": null,
            "height": null,
            "min_height": null,
            "padding": null,
            "grid_auto_rows": null,
            "grid_gap": null,
            "max_width": null,
            "order": null,
            "_view_module_version": "1.2.0",
            "grid_template_areas": null,
            "object_position": null,
            "object_fit": null,
            "grid_auto_columns": null,
            "margin": null,
            "display": null,
            "left": null
          }
        },
        "7368bdd16a6f41faa25a03a378d790a1": {
          "model_module": "@jupyter-widgets/controls",
          "model_name": "FloatProgressModel",
          "state": {
            "_view_name": "ProgressView",
            "style": "IPY_MODEL_1036218842d64e34a24f35abe9a1397f",
            "_dom_classes": [],
            "description": "Downloading: 100%",
            "_model_name": "FloatProgressModel",
            "bar_style": "success",
            "max": 798011,
            "_view_module": "@jupyter-widgets/controls",
            "_model_module_version": "1.5.0",
            "value": 798011,
            "_view_count": null,
            "_view_module_version": "1.5.0",
            "orientation": "horizontal",
            "min": 0,
            "description_tooltip": null,
            "_model_module": "@jupyter-widgets/controls",
            "layout": "IPY_MODEL_46f0b84cbb794abb98c61d032bcffa31"
          }
        },
        "38b25a8ac80a47afb94e7da08999c899": {
          "model_module": "@jupyter-widgets/controls",
          "model_name": "HTMLModel",
          "state": {
            "_view_name": "HTMLView",
            "style": "IPY_MODEL_6c025721174b4235a19002e9797d723e",
            "_dom_classes": [],
            "description": "",
            "_model_name": "HTMLModel",
            "placeholder": "​",
            "_view_module": "@jupyter-widgets/controls",
            "_model_module_version": "1.5.0",
            "value": " 798k/798k [00:03&lt;00:00, 228kB/s]",
            "_view_count": null,
            "_view_module_version": "1.5.0",
            "description_tooltip": null,
            "_model_module": "@jupyter-widgets/controls",
            "layout": "IPY_MODEL_0d697d59f9924d6cb61bd20f2caef399"
          }
        },
        "1036218842d64e34a24f35abe9a1397f": {
          "model_module": "@jupyter-widgets/controls",
          "model_name": "ProgressStyleModel",
          "state": {
            "_view_name": "StyleView",
            "_model_name": "ProgressStyleModel",
            "description_width": "initial",
            "_view_module": "@jupyter-widgets/base",
            "_model_module_version": "1.5.0",
            "_view_count": null,
            "_view_module_version": "1.2.0",
            "bar_color": null,
            "_model_module": "@jupyter-widgets/controls"
          }
        },
        "46f0b84cbb794abb98c61d032bcffa31": {
          "model_module": "@jupyter-widgets/base",
          "model_name": "LayoutModel",
          "state": {
            "_view_name": "LayoutView",
            "grid_template_rows": null,
            "right": null,
            "justify_content": null,
            "_view_module": "@jupyter-widgets/base",
            "overflow": null,
            "_model_module_version": "1.2.0",
            "_view_count": null,
            "flex_flow": null,
            "width": null,
            "min_width": null,
            "border": null,
            "align_items": null,
            "bottom": null,
            "_model_module": "@jupyter-widgets/base",
            "top": null,
            "grid_column": null,
            "overflow_y": null,
            "overflow_x": null,
            "grid_auto_flow": null,
            "grid_area": null,
            "grid_template_columns": null,
            "flex": null,
            "_model_name": "LayoutModel",
            "justify_items": null,
            "grid_row": null,
            "max_height": null,
            "align_content": null,
            "visibility": null,
            "align_self": null,
            "height": null,
            "min_height": null,
            "padding": null,
            "grid_auto_rows": null,
            "grid_gap": null,
            "max_width": null,
            "order": null,
            "_view_module_version": "1.2.0",
            "grid_template_areas": null,
            "object_position": null,
            "object_fit": null,
            "grid_auto_columns": null,
            "margin": null,
            "display": null,
            "left": null
          }
        },
        "6c025721174b4235a19002e9797d723e": {
          "model_module": "@jupyter-widgets/controls",
          "model_name": "DescriptionStyleModel",
          "state": {
            "_view_name": "StyleView",
            "_model_name": "DescriptionStyleModel",
            "description_width": "",
            "_view_module": "@jupyter-widgets/base",
            "_model_module_version": "1.5.0",
            "_view_count": null,
            "_view_module_version": "1.2.0",
            "_model_module": "@jupyter-widgets/controls"
          }
        },
        "0d697d59f9924d6cb61bd20f2caef399": {
          "model_module": "@jupyter-widgets/base",
          "model_name": "LayoutModel",
          "state": {
            "_view_name": "LayoutView",
            "grid_template_rows": null,
            "right": null,
            "justify_content": null,
            "_view_module": "@jupyter-widgets/base",
            "overflow": null,
            "_model_module_version": "1.2.0",
            "_view_count": null,
            "flex_flow": null,
            "width": null,
            "min_width": null,
            "border": null,
            "align_items": null,
            "bottom": null,
            "_model_module": "@jupyter-widgets/base",
            "top": null,
            "grid_column": null,
            "overflow_y": null,
            "overflow_x": null,
            "grid_auto_flow": null,
            "grid_area": null,
            "grid_template_columns": null,
            "flex": null,
            "_model_name": "LayoutModel",
            "justify_items": null,
            "grid_row": null,
            "max_height": null,
            "align_content": null,
            "visibility": null,
            "align_self": null,
            "height": null,
            "min_height": null,
            "padding": null,
            "grid_auto_rows": null,
            "grid_gap": null,
            "max_width": null,
            "order": null,
            "_view_module_version": "1.2.0",
            "grid_template_areas": null,
            "object_position": null,
            "object_fit": null,
            "grid_auto_columns": null,
            "margin": null,
            "display": null,
            "left": null
          }
        }
      }
    }
  },
  "cells": [
    {
      "cell_type": "markdown",
      "metadata": {
        "id": "view-in-github",
        "colab_type": "text"
      },
      "source": [
        "<a href=\"https://colab.research.google.com/github/umaixer/DataScience-ML/blob/master/NLP/Intention%20Recognition%20with%20XLNet%20and%20BERT/Intention_Recognition_XLNet_vs_BERT.ipynb\" target=\"_parent\"><img src=\"https://colab.research.google.com/assets/colab-badge.svg\" alt=\"Open In Colab\"/></a>"
      ]
    },
    {
      "cell_type": "markdown",
      "metadata": {
        "colab_type": "text",
        "id": "bQZzn4ECb_PH"
      },
      "source": [
        "# INTENT RECOGNITION \n",
        "with XLNET and BERT using Pytorch"
      ]
    },
    {
      "cell_type": "markdown",
      "metadata": {
        "id": "DgmdEZ6FtY2T",
        "colab_type": "text"
      },
      "source": [
        "Recognizing intent (IR) from text is very useful these days. Usually, you get a short text (sentence or two) and have to classify it into one (or multiple) categories.\n",
        "\n",
        "Multiple product support systems (help centers) use IR to reduce the need for a large number of employees that copy-and-paste boring responses to frequently asked questions. Chatbots, automated email responders, answer recommenders (from a knowledge base with questions and answers) strive to not let you take the time of a real person."
      ]
    },
    {
      "cell_type": "markdown",
      "metadata": {
        "colab_type": "text",
        "id": "_Us40Kk1cKxQ"
      },
      "source": [
        "**Problem Statement:**\n",
        "We have to detect one out of seven intents based on the input text, which makes it a multi-class classification problem.   \n",
        "\n",
        "I am buiding a classifier using XLnet and BERT model with Pytorch. We will then compare the results of these two state of the art models, which are based on transformer model. I will use pre-trained models (implemented by HuggingFace). We will see that these cutting edge algorithms will produce exceptional results."
      ]
    },
    {
      "cell_type": "markdown",
      "metadata": {
        "id": "NmVGN3ztlnRB",
        "colab_type": "text"
      },
      "source": [
        "### **XLNet**\n",
        "\n",
        "XLNET integrates ideas from Transformer-XL, the state-of-the-art autoregressive model into pretraining. \n",
        "\n",
        "Unlike LSTM based model, which reads sequentially in either one or both directions, the transformer reads entire sequences of tokens at once. In a sense, the transformer model is non-directional. The attention mechanism allows for learning contextual relations between words and then encode that context in a rich vector which smartly represents the word in a sentence. \n",
        "\n",
        "#### **What is XLNet?** \n",
        "\n",
        "XLNET is a generalized autoregressive model where next token is dependent on all previous tokens. XLNET is “generalized” because it captures bi-directional context by means of a mechanism called “permutation language modeling”. It integrates the idea of auto-regressive models and bi-directional context modeling, yet overcoming the disadvantages of BERT. It outperforms BERT on 20 tasks, often by a large margin in tasks such as question answering, natural language inference, sentiment analysis, and document ranking. \n",
        "\n",
        "PLM is the idea of capturing bidirectional context by training an autoregressive model on all possible permutation of words in a sentence. Instead of fixed left-right or right-left modeling, XLNET maximizes expected log likelihood over all possible permutations of the sequence. In expectation, each position learns to utilize contextual information from all positions thereby capturing bidirectional context.\n",
        "  \n",
        "### **Differences b/w XLNet and BERT**\n",
        "\n",
        "XLNet is a BERT-like model instead of a totally different one. But it is a very promising and potential one. In one word, XLNet is a generalized autoregressive pretraining method. AR language model is a kind of model that using the context word to predict the next word. But here the context word is constrained to two directions, either forward or backward.\n",
        "\n",
        "BERT is categorized as autoencoder(AE) language model. The AE language model aims to reconstruct the original data from corrupted input. The corrupted input means we use [MASK] to replace the original token into in the pre-train phase. And the objective is to predict into to get the original sentence.\n",
        "\n",
        "AE language model also has its disadvantages. It uses the [MASK] in the pretraining, but this kind of artificial symbols are absent from the real data at finetuning time, resulting in a pretrain-finetune discrepancy. Another disadvantage of [MASK] is that it assumes the predicted (masked) tokens are independent of each other given the unmasked tokens.\n",
        "\n",
        "XLNET integrates the idea of auto-regressive models and bi-directional context modeling, yet overcoming the disadvantages of BERT.  XLNET maximizes expected log likelihood over all possible permutations of the sequence. In expectation, each position learns to utilize contextual information from all positions thereby capturing bidirectional context. No [MASK] is needed and input data need not be corrupted. It outperforms BERT on 20 tasks, often by a large margin in tasks such as question answering, natural language inference, sentiment analysis, and document ranking.\n",
        "\n",
        "\n",
        "#### **Transfer Learning**\n",
        "\n",
        "In my opinion, the biggest advantage of transformer based models such as BERT and XLNET is that transfer learning has finally been made possible in NLP. BERT is pretrained on Wikipedia articles and thousands of books and it can just be fine tuned on a custom task and it provides exceptional performance.\n",
        "\n",
        "\n"
      ]
    },
    {
      "cell_type": "markdown",
      "metadata": {
        "colab_type": "text",
        "id": "-of51ACbc5gL"
      },
      "source": [
        "Importing necessary libraries"
      ]
    },
    {
      "cell_type": "code",
      "metadata": {
        "colab_type": "code",
        "id": "In6n6O2n0RB3",
        "colab": {
          "base_uri": "https://localhost:8080/",
          "height": 70
        },
        "outputId": "e709c2b7-fef1-410b-9b47-476d01db14ba"
      },
      "source": [
        "import transformers\n",
        "from transformers import XLNetForSequenceClassification, XLNetTokenizer, AdamW, get_linear_schedule_with_warmup, BertForSequenceClassification, BertTokenizer\n",
        "import torch\n",
        "import torch.nn as nn\n",
        "from tqdm import tqdm\n",
        "import pandas as pd\n",
        "import seaborn as sns\n",
        "import numpy as np\n",
        "import re\n",
        "import nltk\n",
        "from nltk.corpus import stopwords\n",
        "from collections import defaultdict\n",
        "from sklearn.model_selection import train_test_split\n",
        "from sklearn.metrics import confusion_matrix, classification_report\n",
        "from torch.autograd import Variable\n",
        "from torch.utils.data import DataLoader, Dataset\n",
        "import matplotlib.pyplot as plt\n",
        "\n",
        "device = torch.device(\"cuda:0\" if torch.cuda.is_available() else \"cpu\")"
      ],
      "execution_count": 3,
      "outputs": [
        {
          "output_type": "stream",
          "text": [
            "/usr/local/lib/python3.6/dist-packages/statsmodels/tools/_testing.py:19: FutureWarning: pandas.util.testing is deprecated. Use the functions in the public API at pandas.testing instead.\n",
            "  import pandas.util.testing as tm\n"
          ],
          "name": "stderr"
        }
      ]
    },
    {
      "cell_type": "code",
      "metadata": {
        "id": "VTsP3AbKmDIm",
        "colab_type": "code",
        "colab": {
          "base_uri": "https://localhost:8080/",
          "height": 34
        },
        "outputId": "2dfc43f5-ef18-400c-e781-d81afea73064"
      },
      "source": [
        "torch.cuda.is_available()"
      ],
      "execution_count": null,
      "outputs": [
        {
          "output_type": "execute_result",
          "data": {
            "text/plain": [
              "True"
            ]
          },
          "metadata": {
            "tags": []
          },
          "execution_count": 2
        }
      ]
    },
    {
      "cell_type": "markdown",
      "metadata": {
        "colab_type": "text",
        "id": "l4xzzU2edEOo"
      },
      "source": [
        "## **Importing the dataset**"
      ]
    },
    {
      "cell_type": "code",
      "metadata": {
        "colab_type": "code",
        "id": "-NLhnWMv0RB9",
        "scrolled": true,
        "colab": {
          "base_uri": "https://localhost:8080/",
          "height": 195
        },
        "outputId": "3512309e-31f9-4f20-de9d-6e254539ace8"
      },
      "source": [
        "df_train = pd.read_csv('data/train.csv')\n",
        "df_val = pd.read_csv('data/valid.csv')\n",
        "df_test = pd.read_csv('data/test.csv')\n",
        "df_train.head()"
      ],
      "execution_count": 4,
      "outputs": [
        {
          "output_type": "execute_result",
          "data": {
            "text/html": [
              "<div>\n",
              "<style scoped>\n",
              "    .dataframe tbody tr th:only-of-type {\n",
              "        vertical-align: middle;\n",
              "    }\n",
              "\n",
              "    .dataframe tbody tr th {\n",
              "        vertical-align: top;\n",
              "    }\n",
              "\n",
              "    .dataframe thead th {\n",
              "        text-align: right;\n",
              "    }\n",
              "</style>\n",
              "<table border=\"1\" class=\"dataframe\">\n",
              "  <thead>\n",
              "    <tr style=\"text-align: right;\">\n",
              "      <th></th>\n",
              "      <th>text</th>\n",
              "      <th>intent</th>\n",
              "    </tr>\n",
              "  </thead>\n",
              "  <tbody>\n",
              "    <tr>\n",
              "      <th>0</th>\n",
              "      <td>listen to westbam alumb allergic on google music</td>\n",
              "      <td>PlayMusic</td>\n",
              "    </tr>\n",
              "    <tr>\n",
              "      <th>1</th>\n",
              "      <td>add step to me to the 50 clásicos playlist</td>\n",
              "      <td>AddToPlaylist</td>\n",
              "    </tr>\n",
              "    <tr>\n",
              "      <th>2</th>\n",
              "      <td>i give this current textbook a rating value of...</td>\n",
              "      <td>RateBook</td>\n",
              "    </tr>\n",
              "    <tr>\n",
              "      <th>3</th>\n",
              "      <td>play the song little robin redbreast</td>\n",
              "      <td>PlayMusic</td>\n",
              "    </tr>\n",
              "    <tr>\n",
              "      <th>4</th>\n",
              "      <td>please add iris dement to my playlist this is ...</td>\n",
              "      <td>AddToPlaylist</td>\n",
              "    </tr>\n",
              "  </tbody>\n",
              "</table>\n",
              "</div>"
            ],
            "text/plain": [
              "                                                text         intent\n",
              "0   listen to westbam alumb allergic on google music      PlayMusic\n",
              "1         add step to me to the 50 clásicos playlist  AddToPlaylist\n",
              "2  i give this current textbook a rating value of...       RateBook\n",
              "3               play the song little robin redbreast      PlayMusic\n",
              "4  please add iris dement to my playlist this is ...  AddToPlaylist"
            ]
          },
          "metadata": {
            "tags": []
          },
          "execution_count": 4
        }
      ]
    },
    {
      "cell_type": "code",
      "metadata": {
        "id": "pdWXYnvzlnRM",
        "colab_type": "code",
        "colab": {}
      },
      "source": [
        "classes = df_train.intent.unique().tolist()\n",
        "num_classes = len(classes)"
      ],
      "execution_count": 5,
      "outputs": []
    },
    {
      "cell_type": "code",
      "metadata": {
        "colab_type": "code",
        "id": "n96mjfc40RCC",
        "colab": {
          "base_uri": "https://localhost:8080/",
          "height": 569
        },
        "outputId": "339ac833-0a61-4dbc-e75c-b1e23e50af8f"
      },
      "source": [
        "#print(df.info)\n",
        "plt.figure(figsize=(10,5))\n",
        "chart = sns.countplot(df_train.intent)\n",
        "chart.set_xticklabels(chart.get_xticklabels(), rotation=45, horizontalalignment='right', fontsize='x-large')\n"
      ],
      "execution_count": 6,
      "outputs": [
        {
          "output_type": "execute_result",
          "data": {
            "text/plain": [
              "[Text(0, 0, 'PlayMusic'),\n",
              " Text(0, 0, 'AddToPlaylist'),\n",
              " Text(0, 0, 'RateBook'),\n",
              " Text(0, 0, 'SearchScreeningEvent'),\n",
              " Text(0, 0, 'BookRestaurant'),\n",
              " Text(0, 0, 'GetWeather'),\n",
              " Text(0, 0, 'SearchCreativeWork')]"
            ]
          },
          "metadata": {
            "tags": []
          },
          "execution_count": 6
        },
        {
          "output_type": "display_data",
          "data": {
            "image/png": "[encoded data removed]",
            "text/plain": [
              "<Figure size 720x360 with 1 Axes>"
            ]
          },
          "metadata": {
            "tags": [],
            "needs_background": "light"
          }
        }
      ]
    },
    {
      "cell_type": "markdown",
      "metadata": {
        "colab_type": "text",
        "id": "qkJVSPT6dMBr"
      },
      "source": [
        "We can see that dataset is almost perfectly balanced, therefore, no need of augmentation"
      ]
    },
    {
      "cell_type": "markdown",
      "metadata": {
        "colab_type": "text",
        "id": "pO0v09JYdVlk"
      },
      "source": [
        "### **Preprocessing and cleaning the data**"
      ]
    },
    {
      "cell_type": "code",
      "metadata": {
        "colab_type": "code",
        "id": "w-qnDpV0rF7N",
        "colab": {}
      },
      "source": [
        "def remove_URL(text):\n",
        "    return re.sub(r'https?://\\S+|www\\.\\S+', '',text)\n",
        "\n",
        "# Remove square brackets\n",
        "def remove_between_square_brackets(text):\n",
        "    return re.sub(r'http\\S+', '', text)\n",
        "\n",
        "# Remove html tags\n",
        "def remove_html(text):\n",
        "    return re.sub(r'<.*?>', '', text)\n",
        "remove_html(\"<h1>Vansh Jatana</h1>\")\n",
        "\n",
        "#remove the noisy text\n",
        "def remove_noise(text):\n",
        "    text = remove_URL(text)\n",
        "    text = remove_between_square_brackets(text)\n",
        "    text = remove_html(text)\n",
        "    return text\n",
        "\n",
        "#Apply the remove_noise function \n",
        "df_train['text'] = df_train['text'].apply(remove_noise)"
      ],
      "execution_count": 7,
      "outputs": []
    },
    {
      "cell_type": "markdown",
      "metadata": {
        "colab_type": "text",
        "id": "vrzYM4fjd21s"
      },
      "source": [
        "**Defining and downloading XLNet Tokenizer.**"
      ]
    },
    {
      "cell_type": "code",
      "metadata": {
        "colab_type": "code",
        "id": "5zq3h6Zp0RCL",
        "colab": {
          "base_uri": "https://localhost:8080/",
          "height": 66,
          "referenced_widgets": [
            "4d8e58fb18eb4313b4d260bad77bb6a1",
            "c23a307996ac44aba001522a83bc78c9",
            "7368bdd16a6f41faa25a03a378d790a1",
            "38b25a8ac80a47afb94e7da08999c899",
            "1036218842d64e34a24f35abe9a1397f",
            "46f0b84cbb794abb98c61d032bcffa31",
            "6c025721174b4235a19002e9797d723e",
            "0d697d59f9924d6cb61bd20f2caef399"
          ]
        },
        "outputId": "25e4084c-9873-4e05-91e0-ab96df7c0a81"
      },
      "source": [
        "tokenizer= transformers.XLNetTokenizer.from_pretrained('xlnet-base-cased')"
      ],
      "execution_count": 8,
      "outputs": [
        {
          "output_type": "display_data",
          "data": {
            "application/vnd.jupyter.widget-view+json": {
              "model_id": "4d8e58fb18eb4313b4d260bad77bb6a1",
              "version_minor": 0,
              "version_major": 2
            },
            "text/plain": [
              "HBox(children=(FloatProgress(value=0.0, description='Downloading', max=798011.0, style=ProgressStyle(descripti…"
            ]
          },
          "metadata": {
            "tags": []
          }
        },
        {
          "output_type": "stream",
          "text": [
            "\n"
          ],
          "name": "stdout"
        }
      ]
    },
    {
      "cell_type": "code",
      "metadata": {
        "id": "J0WXZN9alnRa",
        "colab_type": "code",
        "colab": {}
      },
      "source": [
        "def intent2label(intent):\n",
        "\n",
        "    if intent == \"PlayMusic\":\n",
        "        return 0\n",
        "    elif intent == \"AddToPlaylist\": \n",
        "        return 1\n",
        "    elif intent == \"RateBook\":\n",
        "        return 2\n",
        "    elif intent == \"SearchScreeningEvent\":\n",
        "        return 3\n",
        "    elif intent == \"BookRestaurant\":\n",
        "        return 4\n",
        "    elif intent == \"GetWeather\":\n",
        "        return 5\n",
        "    elif intent == \"SearchCreativeWork\":\n",
        "        return 6\n",
        "    \n",
        "df_train['intent'] = df_train['intent'].apply(intent2label)\n",
        "df_val['intent'] = df_val['intent'].apply(intent2label)\n",
        "df_test['intent'] = df_test['intent'].apply(intent2label)"
      ],
      "execution_count": 9,
      "outputs": []
    },
    {
      "cell_type": "code",
      "metadata": {
        "id": "rEmGNRyMlXpO",
        "colab_type": "code",
        "colab": {
          "base_uri": "https://localhost:8080/",
          "height": 195
        },
        "outputId": "29a4127a-05b7-419e-a1e1-d07ce1eccca8"
      },
      "source": [
        "df_train.head()"
      ],
      "execution_count": 10,
      "outputs": [
        {
          "output_type": "execute_result",
          "data": {
            "text/html": [
              "<div>\n",
              "<style scoped>\n",
              "    .dataframe tbody tr th:only-of-type {\n",
              "        vertical-align: middle;\n",
              "    }\n",
              "\n",
              "    .dataframe tbody tr th {\n",
              "        vertical-align: top;\n",
              "    }\n",
              "\n",
              "    .dataframe thead th {\n",
              "        text-align: right;\n",
              "    }\n",
              "</style>\n",
              "<table border=\"1\" class=\"dataframe\">\n",
              "  <thead>\n",
              "    <tr style=\"text-align: right;\">\n",
              "      <th></th>\n",
              "      <th>text</th>\n",
              "      <th>intent</th>\n",
              "    </tr>\n",
              "  </thead>\n",
              "  <tbody>\n",
              "    <tr>\n",
              "      <th>0</th>\n",
              "      <td>listen to westbam alumb allergic on google music</td>\n",
              "      <td>0</td>\n",
              "    </tr>\n",
              "    <tr>\n",
              "      <th>1</th>\n",
              "      <td>add step to me to the 50 clásicos playlist</td>\n",
              "      <td>1</td>\n",
              "    </tr>\n",
              "    <tr>\n",
              "      <th>2</th>\n",
              "      <td>i give this current textbook a rating value of...</td>\n",
              "      <td>2</td>\n",
              "    </tr>\n",
              "    <tr>\n",
              "      <th>3</th>\n",
              "      <td>play the song little robin redbreast</td>\n",
              "      <td>0</td>\n",
              "    </tr>\n",
              "    <tr>\n",
              "      <th>4</th>\n",
              "      <td>please add iris dement to my playlist this is ...</td>\n",
              "      <td>1</td>\n",
              "    </tr>\n",
              "  </tbody>\n",
              "</table>\n",
              "</div>"
            ],
            "text/plain": [
              "                                                text  intent\n",
              "0   listen to westbam alumb allergic on google music       0\n",
              "1         add step to me to the 50 clásicos playlist       1\n",
              "2  i give this current textbook a rating value of...       2\n",
              "3               play the song little robin redbreast       0\n",
              "4  please add iris dement to my playlist this is ...       1"
            ]
          },
          "metadata": {
            "tags": []
          },
          "execution_count": 10
        }
      ]
    },
    {
      "cell_type": "markdown",
      "metadata": {
        "colab_type": "text",
        "id": "rnAkfapOeDjO"
      },
      "source": [
        "**Building Pytorch DataSet**"
      ]
    },
    {
      "cell_type": "code",
      "metadata": {
        "colab_type": "code",
        "id": "60s13SaF0RCb",
        "colab": {}
      },
      "source": [
        "class Intent_dataset(Dataset):\n",
        "\n",
        "    def __init__(self, text, labels, tokenizer, max_len):\n",
        "        self.text = text\n",
        "        self.labels = labels\n",
        "        self.tokenizer = tokenizer\n",
        "        self.max_len = max_len\n",
        "    \n",
        "    def __len__(self):\n",
        "        return len(self.text)\n",
        "    \n",
        "    def __getitem__(self, item):\n",
        "        text = str(self.text[item])\n",
        "        labels = self.labels[item]\n",
        "        encoding = self.tokenizer.encode_plus(\n",
        "          text,\n",
        "          add_special_tokens=True,\n",
        "          max_length=self.max_len,\n",
        "          return_token_type_ids=False,\n",
        "          pad_to_max_length=True,\n",
        "          return_attention_mask=True,\n",
        "          truncation=True,\n",
        "          return_tensors='pt',\n",
        "    )\n",
        "        return {\n",
        "          'text':text,\n",
        "          'input_ids': encoding['input_ids'].flatten(),\n",
        "          'attention_mask': encoding['attention_mask'].flatten(),\n",
        "          'labels': torch.tensor(labels, dtype=torch.long)\n",
        "    }"
      ],
      "execution_count": 11,
      "outputs": []
    },
    {
      "cell_type": "markdown",
      "metadata": {
        "colab_type": "text",
        "id": "YDCODAt5eZi8"
      },
      "source": [
        "Helper function for Pytorch dataloader is defined below"
      ]
    },
    {
      "cell_type": "code",
      "metadata": {
        "colab_type": "code",
        "id": "mf2sjAhH0RCg",
        "colab": {}
      },
      "source": [
        "def create_data_loader(df, tokenizer, max_len, batch_size):\n",
        "    ds = Intent_dataset(text = df.text.to_numpy(),\n",
        "                      labels = df.intent.to_numpy(),\n",
        "                      tokenizer = tokenizer,\n",
        "                      max_len = max_len)\n",
        "    \n",
        "    return DataLoader(ds, batch_size = batch_size, num_workers = 0)"
      ],
      "execution_count": 12,
      "outputs": []
    },
    {
      "cell_type": "markdown",
      "metadata": {
        "colab_type": "text",
        "id": "PHYKFziLeh2J"
      },
      "source": [
        "Implementing DataLoader functions to make the data ready for training and evaluation"
      ]
    },
    {
      "cell_type": "code",
      "metadata": {
        "colab_type": "code",
        "id": "3owo3lLb0RCi",
        "colab": {}
      },
      "source": [
        "BATCH_SIZE = 8\n",
        "MAX_LEN = 512\n",
        "train_loader = create_data_loader(df_train, tokenizer, MAX_LEN, BATCH_SIZE)\n",
        "val_loader = create_data_loader(df_val, tokenizer, MAX_LEN, BATCH_SIZE)\n",
        "test_loader = create_data_loader(df_test, tokenizer, MAX_LEN, BATCH_SIZE)"
      ],
      "execution_count": 13,
      "outputs": []
    },
    {
      "cell_type": "code",
      "metadata": {
        "colab_type": "code",
        "id": "XL78Nifx0RCk",
        "colab": {
          "base_uri": "https://localhost:8080/",
          "height": 34
        },
        "outputId": "799458d1-2437-4c2d-f0ef-0af7a3d26390"
      },
      "source": [
        "data = next(iter(train_loader))\n",
        "data.keys()"
      ],
      "execution_count": 14,
      "outputs": [
        {
          "output_type": "execute_result",
          "data": {
            "text/plain": [
              "dict_keys(['text', 'input_ids', 'attention_mask', 'labels'])"
            ]
          },
          "metadata": {
            "tags": []
          },
          "execution_count": 14
        }
      ]
    },
    {
      "cell_type": "code",
      "metadata": {
        "colab_type": "code",
        "id": "jAF81nnd0RCm",
        "colab": {
          "base_uri": "https://localhost:8080/",
          "height": 67
        },
        "outputId": "9d9a12a9-56f1-4644-ecbe-0c5b1594ce67"
      },
      "source": [
        "print(data['input_ids'].shape)\n",
        "print(data['attention_mask'].shape)\n",
        "print(data['labels'].shape)"
      ],
      "execution_count": 15,
      "outputs": [
        {
          "output_type": "stream",
          "text": [
            "torch.Size([8, 512])\n",
            "torch.Size([8, 512])\n",
            "torch.Size([8])\n"
          ],
          "name": "stdout"
        }
      ]
    },
    {
      "cell_type": "markdown",
      "metadata": {
        "colab_type": "text",
        "id": "ijjUaWrLeqlI"
      },
      "source": [
        "**Creating XLNet model instance.**"
      ]
    },
    {
      "cell_type": "code",
      "metadata": {
        "colab_type": "code",
        "id": "85EhyJI-0RCr",
        "colab": {
          "base_uri": "https://localhost:8080/",
          "height": 121
        },
        "outputId": "04a9616b-1d72-4087-ea09-837a443879b7"
      },
      "source": [
        "model_XLnet = XLNetForSequenceClassification.from_pretrained('xlnet-base-cased', num_labels = num_classes)\n",
        "model_XLnet = model_XLnet.to(device)\n"
      ],
      "execution_count": null,
      "outputs": [
        {
          "output_type": "stream",
          "text": [
            "Some weights of the model checkpoint at xlnet-base-cased were not used when initializing XLNetForSequenceClassification: ['lm_loss.weight', 'lm_loss.bias']\n",
            "- This IS expected if you are initializing XLNetForSequenceClassification from the checkpoint of a model trained on another task or with another architecture (e.g. initializing a BertForSequenceClassification model from a BertForPretraining model).\n",
            "- This IS NOT expected if you are initializing XLNetForSequenceClassification from the checkpoint of a model that you expect to be exactly identical (initializing a BertForSequenceClassification model from a BertForSequenceClassification model).\n",
            "Some weights of XLNetForSequenceClassification were not initialized from the model checkpoint at xlnet-base-cased and are newly initialized: ['sequence_summary.summary.weight', 'sequence_summary.summary.bias', 'logits_proj.weight', 'logits_proj.bias']\n",
            "You should probably TRAIN this model on a down-stream task to be able to use it for predictions and inference.\n"
          ],
          "name": "stderr"
        }
      ]
    },
    {
      "cell_type": "markdown",
      "metadata": {
        "colab_type": "text",
        "id": "3Tvrj5bvezAC"
      },
      "source": [
        "**XLNet Model Architecture**"
      ]
    },
    {
      "cell_type": "code",
      "metadata": {
        "colab_type": "code",
        "id": "lrTfuHdG0RCt",
        "colab": {
          "base_uri": "https://localhost:8080/",
          "height": 1000
        },
        "outputId": "87a033a7-30c3-40c7-87a7-2d525529e27e"
      },
      "source": [
        "model_XLnet"
      ],
      "execution_count": null,
      "outputs": [
        {
          "output_type": "execute_result",
          "data": {
            "text/plain": [
              "XLNetForSequenceClassification(\n",
              "  (transformer): XLNetModel(\n",
              "    (word_embedding): Embedding(32000, 768)\n",
              "    (layer): ModuleList(\n",
              "      (0): XLNetLayer(\n",
              "        (rel_attn): XLNetRelativeAttention(\n",
              "          (layer_norm): LayerNorm((768,), eps=1e-12, elementwise_affine=True)\n",
              "          (dropout): Dropout(p=0.1, inplace=False)\n",
              "        )\n",
              "        (ff): XLNetFeedForward(\n",
              "          (layer_norm): LayerNorm((768,), eps=1e-12, elementwise_affine=True)\n",
              "          (layer_1): Linear(in_features=768, out_features=3072, bias=True)\n",
              "          (layer_2): Linear(in_features=3072, out_features=768, bias=True)\n",
              "          (dropout): Dropout(p=0.1, inplace=False)\n",
              "        )\n",
              "        (dropout): Dropout(p=0.1, inplace=False)\n",
              "      )\n",
              "      (1): XLNetLayer(\n",
              "        (rel_attn): XLNetRelativeAttention(\n",
              "          (layer_norm): LayerNorm((768,), eps=1e-12, elementwise_affine=True)\n",
              "          (dropout): Dropout(p=0.1, inplace=False)\n",
              "        )\n",
              "        (ff): XLNetFeedForward(\n",
              "          (layer_norm): LayerNorm((768,), eps=1e-12, elementwise_affine=True)\n",
              "          (layer_1): Linear(in_features=768, out_features=3072, bias=True)\n",
              "          (layer_2): Linear(in_features=3072, out_features=768, bias=True)\n",
              "          (dropout): Dropout(p=0.1, inplace=False)\n",
              "        )\n",
              "        (dropout): Dropout(p=0.1, inplace=False)\n",
              "      )\n",
              "      (2): XLNetLayer(\n",
              "        (rel_attn): XLNetRelativeAttention(\n",
              "          (layer_norm): LayerNorm((768,), eps=1e-12, elementwise_affine=True)\n",
              "          (dropout): Dropout(p=0.1, inplace=False)\n",
              "        )\n",
              "        (ff): XLNetFeedForward(\n",
              "          (layer_norm): LayerNorm((768,), eps=1e-12, elementwise_affine=True)\n",
              "          (layer_1): Linear(in_features=768, out_features=3072, bias=True)\n",
              "          (layer_2): Linear(in_features=3072, out_features=768, bias=True)\n",
              "          (dropout): Dropout(p=0.1, inplace=False)\n",
              "        )\n",
              "        (dropout): Dropout(p=0.1, inplace=False)\n",
              "      )\n",
              "      (3): XLNetLayer(\n",
              "        (rel_attn): XLNetRelativeAttention(\n",
              "          (layer_norm): LayerNorm((768,), eps=1e-12, elementwise_affine=True)\n",
              "          (dropout): Dropout(p=0.1, inplace=False)\n",
              "        )\n",
              "        (ff): XLNetFeedForward(\n",
              "          (layer_norm): LayerNorm((768,), eps=1e-12, elementwise_affine=True)\n",
              "          (layer_1): Linear(in_features=768, out_features=3072, bias=True)\n",
              "          (layer_2): Linear(in_features=3072, out_features=768, bias=True)\n",
              "          (dropout): Dropout(p=0.1, inplace=False)\n",
              "        )\n",
              "        (dropout): Dropout(p=0.1, inplace=False)\n",
              "      )\n",
              "      (4): XLNetLayer(\n",
              "        (rel_attn): XLNetRelativeAttention(\n",
              "          (layer_norm): LayerNorm((768,), eps=1e-12, elementwise_affine=True)\n",
              "          (dropout): Dropout(p=0.1, inplace=False)\n",
              "        )\n",
              "        (ff): XLNetFeedForward(\n",
              "          (layer_norm): LayerNorm((768,), eps=1e-12, elementwise_affine=True)\n",
              "          (layer_1): Linear(in_features=768, out_features=3072, bias=True)\n",
              "          (layer_2): Linear(in_features=3072, out_features=768, bias=True)\n",
              "          (dropout): Dropout(p=0.1, inplace=False)\n",
              "        )\n",
              "        (dropout): Dropout(p=0.1, inplace=False)\n",
              "      )\n",
              "      (5): XLNetLayer(\n",
              "        (rel_attn): XLNetRelativeAttention(\n",
              "          (layer_norm): LayerNorm((768,), eps=1e-12, elementwise_affine=True)\n",
              "          (dropout): Dropout(p=0.1, inplace=False)\n",
              "        )\n",
              "        (ff): XLNetFeedForward(\n",
              "          (layer_norm): LayerNorm((768,), eps=1e-12, elementwise_affine=True)\n",
              "          (layer_1): Linear(in_features=768, out_features=3072, bias=True)\n",
              "          (layer_2): Linear(in_features=3072, out_features=768, bias=True)\n",
              "          (dropout): Dropout(p=0.1, inplace=False)\n",
              "        )\n",
              "        (dropout): Dropout(p=0.1, inplace=False)\n",
              "      )\n",
              "      (6): XLNetLayer(\n",
              "        (rel_attn): XLNetRelativeAttention(\n",
              "          (layer_norm): LayerNorm((768,), eps=1e-12, elementwise_affine=True)\n",
              "          (dropout): Dropout(p=0.1, inplace=False)\n",
              "        )\n",
              "        (ff): XLNetFeedForward(\n",
              "          (layer_norm): LayerNorm((768,), eps=1e-12, elementwise_affine=True)\n",
              "          (layer_1): Linear(in_features=768, out_features=3072, bias=True)\n",
              "          (layer_2): Linear(in_features=3072, out_features=768, bias=True)\n",
              "          (dropout): Dropout(p=0.1, inplace=False)\n",
              "        )\n",
              "        (dropout): Dropout(p=0.1, inplace=False)\n",
              "      )\n",
              "      (7): XLNetLayer(\n",
              "        (rel_attn): XLNetRelativeAttention(\n",
              "          (layer_norm): LayerNorm((768,), eps=1e-12, elementwise_affine=True)\n",
              "          (dropout): Dropout(p=0.1, inplace=False)\n",
              "        )\n",
              "        (ff): XLNetFeedForward(\n",
              "          (layer_norm): LayerNorm((768,), eps=1e-12, elementwise_affine=True)\n",
              "          (layer_1): Linear(in_features=768, out_features=3072, bias=True)\n",
              "          (layer_2): Linear(in_features=3072, out_features=768, bias=True)\n",
              "          (dropout): Dropout(p=0.1, inplace=False)\n",
              "        )\n",
              "        (dropout): Dropout(p=0.1, inplace=False)\n",
              "      )\n",
              "      (8): XLNetLayer(\n",
              "        (rel_attn): XLNetRelativeAttention(\n",
              "          (layer_norm): LayerNorm((768,), eps=1e-12, elementwise_affine=True)\n",
              "          (dropout): Dropout(p=0.1, inplace=False)\n",
              "        )\n",
              "        (ff): XLNetFeedForward(\n",
              "          (layer_norm): LayerNorm((768,), eps=1e-12, elementwise_affine=True)\n",
              "          (layer_1): Linear(in_features=768, out_features=3072, bias=True)\n",
              "          (layer_2): Linear(in_features=3072, out_features=768, bias=True)\n",
              "          (dropout): Dropout(p=0.1, inplace=False)\n",
              "        )\n",
              "        (dropout): Dropout(p=0.1, inplace=False)\n",
              "      )\n",
              "      (9): XLNetLayer(\n",
              "        (rel_attn): XLNetRelativeAttention(\n",
              "          (layer_norm): LayerNorm((768,), eps=1e-12, elementwise_affine=True)\n",
              "          (dropout): Dropout(p=0.1, inplace=False)\n",
              "        )\n",
              "        (ff): XLNetFeedForward(\n",
              "          (layer_norm): LayerNorm((768,), eps=1e-12, elementwise_affine=True)\n",
              "          (layer_1): Linear(in_features=768, out_features=3072, bias=True)\n",
              "          (layer_2): Linear(in_features=3072, out_features=768, bias=True)\n",
              "          (dropout): Dropout(p=0.1, inplace=False)\n",
              "        )\n",
              "        (dropout): Dropout(p=0.1, inplace=False)\n",
              "      )\n",
              "      (10): XLNetLayer(\n",
              "        (rel_attn): XLNetRelativeAttention(\n",
              "          (layer_norm): LayerNorm((768,), eps=1e-12, elementwise_affine=True)\n",
              "          (dropout): Dropout(p=0.1, inplace=False)\n",
              "        )\n",
              "        (ff): XLNetFeedForward(\n",
              "          (layer_norm): LayerNorm((768,), eps=1e-12, elementwise_affine=True)\n",
              "          (layer_1): Linear(in_features=768, out_features=3072, bias=True)\n",
              "          (layer_2): Linear(in_features=3072, out_features=768, bias=True)\n",
              "          (dropout): Dropout(p=0.1, inplace=False)\n",
              "        )\n",
              "        (dropout): Dropout(p=0.1, inplace=False)\n",
              "      )\n",
              "      (11): XLNetLayer(\n",
              "        (rel_attn): XLNetRelativeAttention(\n",
              "          (layer_norm): LayerNorm((768,), eps=1e-12, elementwise_affine=True)\n",
              "          (dropout): Dropout(p=0.1, inplace=False)\n",
              "        )\n",
              "        (ff): XLNetFeedForward(\n",
              "          (layer_norm): LayerNorm((768,), eps=1e-12, elementwise_affine=True)\n",
              "          (layer_1): Linear(in_features=768, out_features=3072, bias=True)\n",
              "          (layer_2): Linear(in_features=3072, out_features=768, bias=True)\n",
              "          (dropout): Dropout(p=0.1, inplace=False)\n",
              "        )\n",
              "        (dropout): Dropout(p=0.1, inplace=False)\n",
              "      )\n",
              "    )\n",
              "    (dropout): Dropout(p=0.1, inplace=False)\n",
              "  )\n",
              "  (sequence_summary): SequenceSummary(\n",
              "    (summary): Linear(in_features=768, out_features=768, bias=True)\n",
              "    (first_dropout): Identity()\n",
              "    (last_dropout): Dropout(p=0.1, inplace=False)\n",
              "  )\n",
              "  (logits_proj): Linear(in_features=768, out_features=7, bias=True)\n",
              ")"
            ]
          },
          "metadata": {
            "tags": []
          },
          "execution_count": 43
        }
      ]
    },
    {
      "cell_type": "markdown",
      "metadata": {
        "colab_type": "text",
        "id": "QhloDecSe52m"
      },
      "source": [
        "Building the classifier which used the BERT model."
      ]
    },
    {
      "cell_type": "markdown",
      "metadata": {
        "colab_type": "text",
        "id": "BGkr-t8z0RCy"
      },
      "source": [
        "The classifier delegates most of the work to the pre-traiend Bert model. I added the dropout layer for some regularization to avoid over-fitting to the training data and a fully-connected layer for the binary output. "
      ]
    },
    {
      "cell_type": "markdown",
      "metadata": {
        "colab_type": "text",
        "id": "gePDreMUfSrq"
      },
      "source": [
        "**Helper function for training the model**"
      ]
    },
    {
      "cell_type": "code",
      "metadata": {
        "colab_type": "code",
        "id": "_Rkav_hK0RC3",
        "colab": {}
      },
      "source": [
        "def train_fun(data_loader, model, optimizer, scheduler, device, n_examples):\n",
        "    \n",
        "    model = model.train()\n",
        "    tr_losses = []\n",
        "    tr_correct_preds = 0\n",
        "    \n",
        "    for step, data in tqdm(enumerate(data_loader), total = len(data_loader), position=0, leave=True):\n",
        "        \n",
        "        ids = data[\"input_ids\"].to(device)\n",
        "        mask = data[\"attention_mask\"].to(device)\n",
        "        labels = data[\"labels\"].to(device)        \n",
        "        optimizer.zero_grad()\n",
        "        \n",
        "        outputs = model(\n",
        "            input_ids = ids ,\n",
        "            attention_mask = mask, \n",
        "            labels = labels)\n",
        "        \n",
        "        loss = outputs[0]\n",
        "        logits = outputs[1]\n",
        "\n",
        "        labels = labels.long()\n",
        "        _, preds = torch.max(logits, dim=1)\n",
        "        preds = preds.detach().cpu().numpy()\n",
        "        labels = labels.detach().cpu().numpy()\n",
        "        tr_correct_preds += np.sum(preds == labels)\n",
        "        tr_losses.append(loss.item())\n",
        "        \n",
        "        loss.backward()\n",
        "        optimizer.step()\n",
        "        scheduler.step()\n",
        "        \n",
        "    return tr_correct_preds/n_examples, np.mean(tr_losses)"
      ],
      "execution_count": 22,
      "outputs": []
    },
    {
      "cell_type": "markdown",
      "metadata": {
        "colab_type": "text",
        "id": "6RKgJIfIfdKA"
      },
      "source": [
        "**Helper function for evaluating the model**"
      ]
    },
    {
      "cell_type": "code",
      "metadata": {
        "colab_type": "code",
        "id": "NZQjBSLj0RC4",
        "colab": {}
      },
      "source": [
        "def eval_fun(data_loader, model, device, n_examples):\n",
        "    model.eval()\n",
        "    \n",
        "    eval_losses = []\n",
        "    eval_correct_preds = 0\n",
        "    \n",
        "    with torch.no_grad():\n",
        "        for step, data in tqdm(enumerate(data_loader), total = len(data_loader), position=0, leave=True):\n",
        "          \n",
        "          ids = data[\"input_ids\"].to(device)\n",
        "          \n",
        "          mask = data[\"attention_mask\"].to(device)\n",
        "          \n",
        "          labels = data[\"labels\"].to(device)\n",
        "          \n",
        "          outputs = model(\n",
        "            input_ids=ids,\n",
        "            attention_mask = mask, \n",
        "            labels = labels)\n",
        "        \n",
        "          loss = outputs[0]\n",
        "          logits = outputs[1]\n",
        "          labels = labels.long()\n",
        "        \n",
        "          _, preds = torch.max(logits, dim=1)\n",
        "          \n",
        "          preds = preds.detach().cpu().numpy()\n",
        "          \n",
        "          labels = labels.detach().cpu().numpy()\n",
        "          \n",
        "          eval_correct_preds += np.sum(preds == labels)\n",
        "          \n",
        "          eval_losses.append(loss.item())\n",
        "    return  eval_correct_preds/n_examples, np.mean(eval_losses) \n",
        "    "
      ],
      "execution_count": 23,
      "outputs": []
    },
    {
      "cell_type": "markdown",
      "metadata": {
        "colab_type": "text",
        "id": "CZ2Bqt0l0RC6"
      },
      "source": [
        "## **Training Using XLNet model**\n",
        "Using the training and evaluation functions, we will implement the training loop.\n",
        "\n",
        "ADAMW optimizer is utilized as it impelements the weight decay and produce better results."
      ]
    },
    {
      "cell_type": "code",
      "metadata": {
        "colab_type": "code",
        "id": "BuUPJlgF0RC6",
        "colab": {
          "base_uri": "https://localhost:8080/",
          "height": 218
        },
        "outputId": "29466c83-a89f-401f-ba97-e73ae241b354"
      },
      "source": [
        "EPOCHS = 2\n",
        "model = model_XLnet\n",
        "\n",
        "param_optimizer = list(model.named_parameters())\n",
        "no_decay = ['bias', 'LayerNorm.bias', 'LayerNorm.Weight']\n",
        "optimizer_parameters = [\n",
        "    {'params': [p for n, p in param_optimizer if not any(nd in n for nd in no_decay)],\n",
        "        'weight_decay': 0.01},\n",
        "    {'params': [p for n, p in param_optimizer if any(nd in n for nd in no_decay)],\n",
        "        'weight_decay': 0.0}]\n",
        "\n",
        "\n",
        "optimizer = AdamW(optimizer_parameters, lr=2e-5)\n",
        "total_steps = len(train_loader) * EPOCHS\n",
        "scheduler = get_linear_schedule_with_warmup(\n",
        "  optimizer,\n",
        "  num_warmup_steps=0,\n",
        "  num_training_steps=total_steps\n",
        ")\n",
        "history = defaultdict(list)\n",
        "\n",
        "\n",
        "for epoch in range(EPOCHS):\n",
        "    print(f'Epoch {epoch + 1}/{EPOCHS}')\n",
        "    print('-' * 10)\n",
        "    \n",
        "    tr_acc, tr_loss = train_fun(train_loader, model, \n",
        "                                optimizer, scheduler, device, len(df_train))\n",
        "    \n",
        "    print('Training Loss: ' +str(tr_loss) +' Training Accuracy: ' +str(tr_acc*100) +'%')\n",
        "    \n",
        "    val_acc, val_loss= eval_fun(val_loader, model, \n",
        "                                device, len(df_val))\n",
        "    \n",
        "    print('Validation Loss: ' +str(val_loss) +' Validation Accuracy: ' +str(val_acc*100) +'%')\n",
        "\n",
        "    history['tr_acc'].append(tr_acc)\n",
        "    history['tr_loss'].append(tr_loss)\n",
        "    history['val_acc'].append(val_acc)\n",
        "    history['val_loss'].append(val_loss)"
      ],
      "execution_count": null,
      "outputs": [
        {
          "output_type": "stream",
          "text": [
            "\r  0%|          | 0/1636 [00:00<?, ?it/s]"
          ],
          "name": "stderr"
        },
        {
          "output_type": "stream",
          "text": [
            "Epoch 1/2\n",
            "----------\n"
          ],
          "name": "stdout"
        },
        {
          "output_type": "stream",
          "text": [
            "100%|██████████| 1636/1636 [1:08:26<00:00,  2.51s/it]\n",
            "  0%|          | 0/88 [00:00<?, ?it/s]"
          ],
          "name": "stderr"
        },
        {
          "output_type": "stream",
          "text": [
            "Training Loss: 0.05678089849268312 Training Accuracy: 98.5172730051972%\n"
          ],
          "name": "stdout"
        },
        {
          "output_type": "stream",
          "text": [
            "100%|██████████| 88/88 [01:45<00:00,  1.20s/it]\n",
            "  0%|          | 0/1636 [00:00<?, ?it/s]"
          ],
          "name": "stderr"
        },
        {
          "output_type": "stream",
          "text": [
            "Validation Loss: 0.03844989734617146 Validation Accuracy: 98.42857142857143%\n",
            "Epoch 2/2\n",
            "----------\n"
          ],
          "name": "stdout"
        },
        {
          "output_type": "stream",
          "text": [
            "100%|██████████| 1636/1636 [1:08:25<00:00,  2.51s/it]\n",
            "  0%|          | 0/88 [00:00<?, ?it/s]"
          ],
          "name": "stderr"
        },
        {
          "output_type": "stream",
          "text": [
            "Training Loss: 0.029135408986605757 Training Accuracy: 99.17456435340874%\n"
          ],
          "name": "stdout"
        },
        {
          "output_type": "stream",
          "text": [
            "100%|██████████| 88/88 [01:45<00:00,  1.20s/it]"
          ],
          "name": "stderr"
        },
        {
          "output_type": "stream",
          "text": [
            "Validation Loss: 0.04575503109530969 Validation Accuracy: 98.57142857142858%\n"
          ],
          "name": "stdout"
        },
        {
          "output_type": "stream",
          "text": [
            "\n"
          ],
          "name": "stderr"
        }
      ]
    },
    {
      "cell_type": "markdown",
      "metadata": {
        "colab_type": "text",
        "id": "rLvQdcwlC8Nd"
      },
      "source": [
        "### **Training Model Analysis**"
      ]
    },
    {
      "cell_type": "code",
      "metadata": {
        "colab_type": "code",
        "id": "kuVfkSpI0RC9",
        "colab": {
          "base_uri": "https://localhost:8080/",
          "height": 350
        },
        "outputId": "65bd1b59-619b-48c0-fa77-d6bebf010661"
      },
      "source": [
        "plt.figure(figsize = (8,5))\n",
        "plt.plot(history['tr_acc'], label='Train accuracy')\n",
        "plt.plot(history['val_acc'], label='validation accuracy')\n",
        "plt.title('Training history')\n",
        "plt.ylabel('Accuracy')\n",
        "plt.xlabel('Epoch')\n",
        "plt.legend()\n",
        "plt.ylim([0.5, 1]);\n"
      ],
      "execution_count": null,
      "outputs": [
        {
          "output_type": "display_data",
          "data": {
            "image/png": "[encoded data removed]",
            "text/plain": [
              "<Figure size 576x360 with 1 Axes>"
            ]
          },
          "metadata": {
            "tags": [],
            "needs_background": "light"
          }
        }
      ]
    },
    {
      "cell_type": "markdown",
      "metadata": {
        "colab_type": "text",
        "id": "Zy9cKnyzf03Q"
      },
      "source": [
        "## **Evaluation with XLNet**"
      ]
    },
    {
      "cell_type": "code",
      "metadata": {
        "id": "I8DgSMis-5QM",
        "colab_type": "code",
        "colab": {}
      },
      "source": [
        "import warnings\n",
        "warnings.simplefilter(action='ignore', category=FutureWarning)\n"
      ],
      "execution_count": null,
      "outputs": []
    },
    {
      "cell_type": "code",
      "metadata": {
        "colab_type": "code",
        "id": "vSNnYOReUubL",
        "colab": {
          "base_uri": "https://localhost:8080/",
          "height": 34
        },
        "outputId": "502859d7-8e20-46b7-9958-aa27f4ea3db2"
      },
      "source": [
        "test_acc, test_loss= eval_fun(test_loader, model, \n",
        "                                device, len(df_test))"
      ],
      "execution_count": null,
      "outputs": [
        {
          "output_type": "stream",
          "text": [
            "100%|██████████| 88/88 [01:45<00:00,  1.20s/it]\n"
          ],
          "name": "stderr"
        }
      ]
    },
    {
      "cell_type": "markdown",
      "metadata": {
        "colab_type": "text",
        "id": "FuZE6vOygAUk"
      },
      "source": [
        "### **Test Accuracy**"
      ]
    },
    {
      "cell_type": "code",
      "metadata": {
        "colab_type": "code",
        "id": "btvCMtWtVOyz",
        "colab": {
          "base_uri": "https://localhost:8080/",
          "height": 34
        },
        "outputId": "485b069b-0b76-4b12-84c8-eb3394ce1de1"
      },
      "source": [
        "print('Test Accuracy: ' +str(test_acc*100) +'%')"
      ],
      "execution_count": null,
      "outputs": [
        {
          "output_type": "stream",
          "text": [
            "Test Accuracy: 97.85714285714285%\n"
          ],
          "name": "stdout"
        }
      ]
    },
    {
      "cell_type": "markdown",
      "metadata": {
        "colab_type": "text",
        "id": "bAPPQHFMgIUv"
      },
      "source": [
        "**Defining the prediction function**"
      ]
    },
    {
      "cell_type": "code",
      "metadata": {
        "colab_type": "code",
        "id": "OSooYU9-SUaZ",
        "colab": {}
      },
      "source": [
        "def pred_fun(data_loader, model):\n",
        "    model.eval()\n",
        "    \n",
        "    targets = []\n",
        "    predictions = []\n",
        "    \n",
        "    with torch.no_grad():\n",
        "      for step, data in enumerate(data_loader):\n",
        "          \n",
        "          ids = data[\"input_ids\"].to(device)\n",
        "          mask = data[\"attention_mask\"].to(device)\n",
        "          labels = data[\"labels\"].to(device)\n",
        "          \n",
        "          outputs = model(\n",
        "              input_ids = ids,\n",
        "              attention_mask = mask,\n",
        "              labels= labels)\n",
        "          loss = outputs[0]\n",
        "          logits = outputs[1]\n",
        "          labels = labels.long()\n",
        "\n",
        "          _, preds = torch.max(logits, dim=1)\n",
        "          preds = preds.detach().cpu().numpy()\n",
        "          labels = labels.detach().cpu().numpy()\n",
        "          predictions.extend(preds)\n",
        "          targets.extend(labels)\n",
        "\n",
        "    predictions = np.stack(predictions)\n",
        "    targets = np.stack(targets)\n",
        "    return  predictions, targets "
      ],
      "execution_count": null,
      "outputs": []
    },
    {
      "cell_type": "code",
      "metadata": {
        "colab_type": "code",
        "id": "hBYJHW24SU_t",
        "colab": {}
      },
      "source": [
        "y_pred, y_test = pred_fun(test_loader, model)"
      ],
      "execution_count": null,
      "outputs": []
    },
    {
      "cell_type": "markdown",
      "metadata": {
        "colab_type": "text",
        "id": "LAe700wBhWaK"
      },
      "source": [
        "### **Classification report including the F1 score with XLNet model**"
      ]
    },
    {
      "cell_type": "code",
      "metadata": {
        "colab_type": "code",
        "id": "GJQTHP1MVUSJ",
        "colab": {
          "base_uri": "https://localhost:8080/",
          "height": 252
        },
        "outputId": "337ed5f0-c55c-46cc-bfe4-26847fe05432"
      },
      "source": [
        "print(classification_report(y_test, y_pred, target_names=classes))"
      ],
      "execution_count": null,
      "outputs": [
        {
          "output_type": "stream",
          "text": [
            "                      precision    recall  f1-score   support\n",
            "\n",
            "           PlayMusic       0.98      0.98      0.98        86\n",
            "       AddToPlaylist       1.00      1.00      1.00       124\n",
            "            RateBook       1.00      1.00      1.00        80\n",
            "SearchScreeningEvent       0.99      0.92      0.95       107\n",
            "      BookRestaurant       0.99      1.00      0.99        92\n",
            "          GetWeather       1.00      0.99      1.00       104\n",
            "  SearchCreativeWork       0.90      0.97      0.94       107\n",
            "\n",
            "            accuracy                           0.98       700\n",
            "           macro avg       0.98      0.98      0.98       700\n",
            "        weighted avg       0.98      0.98      0.98       700\n",
            "\n"
          ],
          "name": "stdout"
        }
      ]
    },
    {
      "cell_type": "markdown",
      "metadata": {
        "colab_type": "text",
        "id": "_6Vm6ODShcpy"
      },
      "source": [
        "### **Confusion Matrix**"
      ]
    },
    {
      "cell_type": "code",
      "metadata": {
        "colab_type": "code",
        "id": "_BffAKY3Y1e_",
        "colab": {
          "base_uri": "https://localhost:8080/",
          "height": 842
        },
        "outputId": "7253ebf7-1fe0-4a4d-fbc5-9fff6a17be2d"
      },
      "source": [
        "cm = confusion_matrix(y_test,y_pred)\n",
        "print(cm)\n",
        "plt.figure(figsize = (10,10))\n",
        "sns.heatmap(cm,cmap= \"Blues\", xticklabels = classes, \n",
        "           yticklabels = classes,\n",
        "           linecolor = 'black' , linewidth = 1 , annot = True, fmt='')\n",
        "plt.xlabel('Actual')\n",
        "plt.ylabel('Predicted')"
      ],
      "execution_count": null,
      "outputs": [
        {
          "output_type": "stream",
          "text": [
            "[[ 84   0   0   0   0   0   2]\n",
            " [  0 124   0   0   0   0   0]\n",
            " [  0   0  80   0   0   0   0]\n",
            " [  0   0   0  98   0   0   9]\n",
            " [  0   0   0   0  92   0   0]\n",
            " [  0   0   0   0   1 103   0]\n",
            " [  2   0   0   1   0   0 104]]\n"
          ],
          "name": "stdout"
        },
        {
          "output_type": "execute_result",
          "data": {
            "text/plain": [
              "Text(69.0, 0.5, 'Predicted')"
            ]
          },
          "metadata": {
            "tags": []
          },
          "execution_count": 68
        },
        {
          "output_type": "display_data",
          "data": {
            "image/png": "[encoded data removed]",
            "text/plain": [
              "<Figure size 720x720 with 2 Axes>"
            ]
          },
          "metadata": {
            "tags": [],
            "needs_background": "light"
          }
        }
      ]
    },
    {
      "cell_type": "markdown",
      "metadata": {
        "colab_type": "text",
        "id": "dNmCyVaWhsUI"
      },
      "source": [
        "98% test accuracy as well as precision proves that pre-trained XLNet model has exceptional performance. "
      ]
    },
    {
      "cell_type": "markdown",
      "metadata": {
        "id": "ecfYA6SD7faX",
        "colab_type": "text"
      },
      "source": [
        "## **Implementing the Intent Recognition using Pre-trained BERT model**"
      ]
    },
    {
      "cell_type": "markdown",
      "metadata": {
        "id": "fnLsxUvz73GC",
        "colab_type": "text"
      },
      "source": [
        "### **Defining and downloading BERT Tokenizer and Model.**"
      ]
    },
    {
      "cell_type": "code",
      "metadata": {
        "id": "MBADugacl0Xp",
        "colab_type": "code",
        "colab": {}
      },
      "source": [
        "tokenizer_BERT= BertTokenizer.from_pretrained('bert-base-uncased', \n",
        "                                                      do_lower_case=True)\n",
        "model_BERT = BertForSequenceClassification.from_pretrained('bert-base-uncased', num_labels = num_classes)\n",
        "model_BERT = model_BERT.to(device)"
      ],
      "execution_count": 18,
      "outputs": []
    },
    {
      "cell_type": "markdown",
      "metadata": {
        "id": "BAmT3_9U8AZ_",
        "colab_type": "text"
      },
      "source": [
        "### **Creating data loaders using BERT Tokenizer**"
      ]
    },
    {
      "cell_type": "code",
      "metadata": {
        "id": "jkMbPLepnKM9",
        "colab_type": "code",
        "colab": {}
      },
      "source": [
        "train_loader_BERT = create_data_loader(df_train, tokenizer_BERT, MAX_LEN, BATCH_SIZE)\n",
        "val_loader_BERT = create_data_loader(df_val, tokenizer_BERT, MAX_LEN, BATCH_SIZE)\n",
        "test_loader_BERT = create_data_loader(df_test, tokenizer_BERT, MAX_LEN, BATCH_SIZE)"
      ],
      "execution_count": 20,
      "outputs": []
    },
    {
      "cell_type": "markdown",
      "metadata": {
        "id": "H4QOBh4_8QOy",
        "colab_type": "text"
      },
      "source": [
        "### **Training Using BERT model**"
      ]
    },
    {
      "cell_type": "code",
      "metadata": {
        "id": "q1PjXu3wmseX",
        "colab_type": "code",
        "colab": {
          "base_uri": "https://localhost:8080/",
          "height": 218
        },
        "outputId": "8c687466-cba9-4e23-9f27-43e6d15ab7b2"
      },
      "source": [
        "EPOCHS = 2\n",
        "model = model_BERT\n",
        "\n",
        "param_optimizer_BERT = list(model.named_parameters())\n",
        "no_decay_BERT = ['bias', 'LayerNorm.bias', 'LayerNorm.Weight']\n",
        "optimizer_parameters_BERT = [\n",
        "    {'params': [p for n, p in param_optimizer_BERT if not any(nd in n for nd in no_decay_BERT)],\n",
        "        'weight_decay': 0.01},\n",
        "    {'params': [p for n, p in param_optimizer_BERT if any(nd in n for nd in no_decay_BERT)],\n",
        "        'weight_decay': 0.0}]\n",
        "\n",
        "\n",
        "optimizer_BERT = AdamW(optimizer_parameters_BERT, lr=2e-5)\n",
        "total_steps_BERT = len(train_loader_BERT) * EPOCHS\n",
        "scheduler_BERT = get_linear_schedule_with_warmup(\n",
        "  optimizer_BERT,\n",
        "  num_warmup_steps=0,\n",
        "  num_training_steps=total_steps_BERT\n",
        ")\n",
        "history_BERT = defaultdict(list)\n",
        "\n",
        "\n",
        "for epoch in range(EPOCHS):\n",
        "    print(f'Epoch {epoch + 1}/{EPOCHS}')\n",
        "    print('-' * 10)\n",
        "    \n",
        "    tr_acc, tr_loss = train_fun(train_loader_BERT, model_BERT, \n",
        "                                optimizer_BERT, scheduler_BERT, device, len(df_train))\n",
        "    \n",
        "    print('Training Loss: ' +str(tr_loss) +' Training Accuracy: ' +str(tr_acc*100) +'%')\n",
        "    \n",
        "    val_acc, val_loss= eval_fun(val_loader_BERT, model_BERT, \n",
        "                                device, len(df_val))\n",
        "    \n",
        "    print('Validation Loss: ' +str(val_loss) +' Validation Accuracy: ' +str(val_acc*100) +'%')\n",
        "\n",
        "    history_BERT['tr_acc'].append(tr_acc)\n",
        "    history_BERT['tr_loss'].append(tr_loss)\n",
        "    history_BERT['val_acc'].append(val_acc)\n",
        "    history_BERT['val_loss'].append(val_loss)"
      ],
      "execution_count": 24,
      "outputs": [
        {
          "output_type": "stream",
          "text": [
            "\r  0%|          | 0/1636 [00:00<?, ?it/s]"
          ],
          "name": "stderr"
        },
        {
          "output_type": "stream",
          "text": [
            "Epoch 1/2\n",
            "----------\n"
          ],
          "name": "stdout"
        },
        {
          "output_type": "stream",
          "text": [
            "100%|██████████| 1636/1636 [12:28<00:00,  2.19it/s]\n",
            "  1%|          | 1/88 [00:00<00:12,  6.76it/s]"
          ],
          "name": "stderr"
        },
        {
          "output_type": "stream",
          "text": [
            "Training Loss: 0.15625782547778197 Training Accuracy: 96.232039131764%\n"
          ],
          "name": "stdout"
        },
        {
          "output_type": "stream",
          "text": [
            "100%|██████████| 88/88 [00:12<00:00,  6.81it/s]\n",
            "  0%|          | 0/1636 [00:00<?, ?it/s]"
          ],
          "name": "stderr"
        },
        {
          "output_type": "stream",
          "text": [
            "Validation Loss: 0.036894258789040825 Validation Accuracy: 98.85714285714286%\n",
            "Epoch 2/2\n",
            "----------\n"
          ],
          "name": "stdout"
        },
        {
          "output_type": "stream",
          "text": [
            "100%|██████████| 1636/1636 [12:28<00:00,  2.19it/s]\n",
            "  1%|          | 1/88 [00:00<00:12,  6.81it/s]"
          ],
          "name": "stderr"
        },
        {
          "output_type": "stream",
          "text": [
            "Training Loss: 0.02625446660958759 Training Accuracy: 99.28920819321308%\n"
          ],
          "name": "stdout"
        },
        {
          "output_type": "stream",
          "text": [
            "100%|██████████| 88/88 [00:12<00:00,  6.82it/s]"
          ],
          "name": "stderr"
        },
        {
          "output_type": "stream",
          "text": [
            "Validation Loss: 0.04286039095710625 Validation Accuracy: 98.71428571428571%\n"
          ],
          "name": "stdout"
        },
        {
          "output_type": "stream",
          "text": [
            "\n"
          ],
          "name": "stderr"
        }
      ]
    },
    {
      "cell_type": "code",
      "metadata": {
        "id": "PX39V5Ou-Yd0",
        "colab_type": "code",
        "colab": {
          "base_uri": "https://localhost:8080/",
          "height": 350
        },
        "outputId": "3c6c93f7-bfe7-4c65-f912-b77eabb601b6"
      },
      "source": [
        "plt.figure(figsize = (8,5))\n",
        "plt.plot(history_BERT['tr_acc'], label='Train accuracy')\n",
        "plt.plot(history_BERT['val_acc'], label='validation accuracy')\n",
        "plt.title('Training history with BERT Model')\n",
        "plt.ylabel('Accuracy')\n",
        "plt.xlabel('Epoch')\n",
        "plt.legend()\n",
        "plt.ylim([0.5, 1]);"
      ],
      "execution_count": 62,
      "outputs": [
        {
          "output_type": "display_data",
          "data": {
            "image/png": "[encoded data removed]",
            "text/plain": [
              "<Figure size 576x360 with 1 Axes>"
            ]
          },
          "metadata": {
            "tags": [],
            "needs_background": "light"
          }
        }
      ]
    },
    {
      "cell_type": "markdown",
      "metadata": {
        "id": "a_FdlM1X8Yut",
        "colab_type": "text"
      },
      "source": [
        "### **Evaluation with BERT Model**"
      ]
    },
    {
      "cell_type": "code",
      "metadata": {
        "id": "NzGzCmXfouKd",
        "colab_type": "code",
        "colab": {
          "base_uri": "https://localhost:8080/",
          "height": 34
        },
        "outputId": "b2883a73-52ad-4709-9116-bed55bfb547e"
      },
      "source": [
        "test_acc, test_loss= eval_fun(test_loader_BERT, model_BERT, \n",
        "                                device, len(df_test))"
      ],
      "execution_count": 27,
      "outputs": [
        {
          "output_type": "stream",
          "text": [
            "100%|██████████| 88/88 [00:12<00:00,  6.79it/s]\n"
          ],
          "name": "stderr"
        }
      ]
    },
    {
      "cell_type": "markdown",
      "metadata": {
        "id": "ENqoVkwm8gWp",
        "colab_type": "text"
      },
      "source": [
        "### **Test Accuracy**"
      ]
    },
    {
      "cell_type": "code",
      "metadata": {
        "id": "hiHkYTYEvNEu",
        "colab_type": "code",
        "colab": {
          "base_uri": "https://localhost:8080/",
          "height": 34
        },
        "outputId": "65bbee6b-b5d0-4df0-f74f-31c4125e1218"
      },
      "source": [
        "print('Test Accuracy: ' +str(test_acc*100) +'%')"
      ],
      "execution_count": 33,
      "outputs": [
        {
          "output_type": "stream",
          "text": [
            "Test Accuracy: 96.857142%\n"
          ],
          "name": "stdout"
        }
      ]
    },
    {
      "cell_type": "code",
      "metadata": {
        "id": "14rYvwqcwyEC",
        "colab_type": "code",
        "colab": {}
      },
      "source": [
        "y_pred, y_test = pred_fun(test_loader_BERT, model_BERT)"
      ],
      "execution_count": 35,
      "outputs": []
    },
    {
      "cell_type": "markdown",
      "metadata": {
        "id": "hTHcjdFx8_rC",
        "colab_type": "text"
      },
      "source": [
        "### **Classification report including the F1 score with BERT model**"
      ]
    },
    {
      "cell_type": "code",
      "metadata": {
        "id": "LdxfXa-ow4Tn",
        "colab_type": "code",
        "colab": {
          "base_uri": "https://localhost:8080/",
          "height": 252
        },
        "outputId": "0276f26e-3e3d-4950-e951-bd70921ae3a3"
      },
      "source": [
        "print(classification_report(y_test, y_pred, target_names=classes))"
      ],
      "execution_count": 61,
      "outputs": [
        {
          "output_type": "stream",
          "text": [
            "                      precision    recall  f1-score   support\n",
            "\n",
            "           PlayMusic       0.96      0.95      0.96        86\n",
            "       AddToPlaylist       0.99      1.00      1.00       124\n",
            "            RateBook       1.00      1.00      1.00        80\n",
            "SearchScreeningEvent       1.00      0.89      0.94       107\n",
            "      BookRestaurant       0.99      1.00      0.99        92\n",
            "          GetWeather       1.00      0.99      1.00       104\n",
            "  SearchCreativeWork       0.87      0.97      0.92       107\n",
            "\n",
            "            accuracy                           0.97       700\n",
            "           macro avg       0.97      0.97      0.97       700\n",
            "        weighted avg       0.97      0.97      0.97       700\n",
            "\n"
          ],
          "name": "stdout"
        }
      ]
    },
    {
      "cell_type": "markdown",
      "metadata": {
        "id": "1oTcO9M69BiR",
        "colab_type": "text"
      },
      "source": [
        "### **Confusion Matrix**"
      ]
    },
    {
      "cell_type": "code",
      "metadata": {
        "id": "O-zUIxvUzjkR",
        "colab_type": "code",
        "colab": {
          "base_uri": "https://localhost:8080/",
          "height": 842
        },
        "outputId": "37107cd2-ce21-4c5d-f667-a5c0cccd5190"
      },
      "source": [
        "cm = confusion_matrix(y_test,y_pred)\n",
        "print(cm)\n",
        "plt.figure(figsize = (10,10))\n",
        "sns.heatmap(cm,cmap= \"Blues\", xticklabels = classes, \n",
        "           yticklabels = classes,\n",
        "           linecolor = 'black' , linewidth = 1 , annot = True, fmt='')\n",
        "plt.xlabel('Actual')\n",
        "plt.ylabel('Predicted')"
      ],
      "execution_count": 60,
      "outputs": [
        {
          "output_type": "stream",
          "text": [
            "[[ 82   1   0   0   0   0   3]\n",
            " [  0 124   0   0   0   0   0]\n",
            " [  0   0  80   0   0   0   0]\n",
            " [  0   0   0  95   0   0  12]\n",
            " [  0   0   0   0  92   0   0]\n",
            " [  0   0   0   0   1 103   0]\n",
            " [  3   0   0   0   0   0 104]]\n"
          ],
          "name": "stdout"
        },
        {
          "output_type": "execute_result",
          "data": {
            "text/plain": [
              "Text(69.0, 0.5, 'Predicted')"
            ]
          },
          "metadata": {
            "tags": []
          },
          "execution_count": 60
        },
        {
          "output_type": "display_data",
          "data": {
            "image/png": "[encoded data removed]",
            "text/plain": [
              "<Figure size 720x720 with 2 Axes>"
            ]
          },
          "metadata": {
            "tags": [],
            "needs_background": "light"
          }
        }
      ]
    },
    {
      "cell_type": "markdown",
      "metadata": {
        "id": "BM1AFXVU9GDU",
        "colab_type": "text"
      },
      "source": [
        "### **Comparison b/w XLNet and BERT models** \n",
        "\n",
        "We can see that XLNet model (98% accuracy) outperforms the BERT model (97% accuracy) with test accuracy being 1% higher. However, Training XLNet model required 2 hours for 2 epochs and BERT model took 30 minutes. "
      ]
    }
  ]
}